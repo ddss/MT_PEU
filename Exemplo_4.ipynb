{
 "cells": [
  {
   "cell_type": "markdown",
   "metadata": {},
   "source": [
    "# Exemplo: Exercício sugerido para estimação de parâmetros.\n",
    "\n",
    "## Introdução\n",
    "\n",
    "O presente exemplo aborda o ajuste de modelos para os dados experimentais apresentados na Tabela 1. Faz-se necessário escolher entre dois modelos, para avaliar qual melhor se adequa à estes dados:\n",
    "\n",
    "$y = \\left(\\frac{α_1\\cdot x}{1+β_1\\cdot x}\\right)$          (1)\n",
    "\n",
    "$y = \\left(α_2\\cdot x^{β_2}\\right)$                           (2)\n",
    "\n",
    "em que $α_1$, $α_2$, $β_1$ e $β_2$ são os parâmetros a serem estimados para cada modelo. Este exemplo é proposto por Schwaab e Pinto [1].\n",
    "\n",
    "\n",
    "**Tabela 1: Dados experimentais. Fonte: [1]**\n",
    "\n",
    "\n",
    "Variáveis|  1 |  2 |  3 |  4 |  5  |  6  |  7  |  8  |  9  |  10 |\n",
    ":------:|:--:|:--:|:--:|:--:|:---:|:---:|:---:|:---:|:---:|:---:|\n",
    "$x^e$   |1.00|2.00|3.00|5.00|10.00|15.00|20.00|30.00|40.00|50.00|\n",
    "$y^e$   |1.66|6.07|7.55|9.72|15.24|18.79|19.33|22.38|24.27|25.51|\n",
    "\n",
    "\n",
    "Então, o problema de otimização a ser resolvido envolve o uso da função objetivo de mínimos quadrados ponderados, conforme:\n",
    "\n",
    "$F_{Obj} = \\sum_{i=1}^{NE} \\left({\\frac{(y^{e}_i-y_i^{m})^2}{σ^2_{i}}}\\right)$ (3)\n",
    "\n",
    "sujeito a (1) ou (2).\n",
    "\n",
    "Para resolução deste problema no MT_PEU serão usados os símbolos:\n",
    "\n",
    "* Símbolos das grandezas independentes: $x_1$, $x_2$\n",
    "* Símbolos das grandezas dependentes: $y_1$, $y_1$\n",
    "* Símbolos dos parâmetros: $α_1$, $α_2$, $β_1$, $β_2$\n",
    "\n",
    "O subíndice 1 refere-se ao modelo (1), e o subíndice 2 refere-se ao modelo (2).\n",
    "\n",
    "## Importação de pacotes\n",
    "\n",
    "Importação de bibliotecas (pacotes) necessárias para execução do código.\n",
    "\n",
    "* **MT_PEU**: biblioteca que contém as principais funcionalidades da ferramenta\n",
    "\n",
    "    * Importar a classe **EstimacaoNaoLinear**, que será utilizada neste exemplo de estimação não linear\n",
    "\n",
    "* **casadi**: biblioteca para computação simbólica\n",
    "\n",
    "    * será necessária somente a função **vertcat** para construção do modelo"
   ]
  },
  {
   "cell_type": "code",
   "execution_count": 1,
   "metadata": {},
   "outputs": [],
   "source": [
    "from MT_PEU import EstimacaoNaoLinear\n",
    "from casadi import vertcat # função para concatenar expressões do modelo"
   ]
  },
  {
   "cell_type": "markdown",
   "metadata": {},
   "source": [
    "## Criação de modelo\n",
    "\n",
    "Os modelos (1) e (2) representam o comportamento da grandeza dependente, no qual os parâmetros $α_1$, $α_2$, $β_1$ e $β_2$ serão estimados.\n",
    "\n",
    "Este modelo é definido, então, na forma de uma subrotina, **def**, do python e representado por:"
   ]
  },
  {
   "cell_type": "code",
   "execution_count": 2,
   "metadata": {},
   "outputs": [],
   "source": [
    "def Modelo(param,x,args):\n",
    "    \n",
    "    a1, b1, a2, b2 = param[0], param[1], param[2], param[3]\n",
    "    x1, x2 = x[0], x[1]\n",
    "\n",
    "    return vertcat(a1*x1/(1+b1*x1), a2*(x2**b2))"
   ]
  },
  {
   "cell_type": "markdown",
   "metadata": {},
   "source": [
    "## Inicialização de classe\n",
    "\n",
    "Para executar a estimação, o primeiro passo é configurar a classe **EstimacaoNaoLinear**, inicialmente, incluindo informações básicas:\n",
    "\n",
    "* O modelo,\n",
    "* Os símbolos para as grandeza independentes *(x)*; \n",
    "* Os símbolos para as grandezas dependentes *(y)*; \n",
    "* Os símbolos para os parâmetros *(param)*;\n",
    "* O nome do projeto, o nome da pasta onde serão gerados os resultados."
   ]
  },
  {
   "cell_type": "code",
   "execution_count": 3,
   "metadata": {},
   "outputs": [],
   "source": [
    "Estime = EstimacaoNaoLinear(Modelo,simbolos_x=['x1','x2'],simbolos_y=['y1','y2'],simbolos_param=['alpha1','alpha2', 'beta1', 'beta2'],\n",
    "                          label_latex_param=[r'$\\alpha_1$',r'$\\alpha_2$',r'$\\beta_1$',r'$\\beta_2$'],unidades_y=['kg','kg'],Folder='Exemplo4')"
   ]
  },
  {
   "cell_type": "markdown",
   "metadata": {},
   "source": [
    "## Inclusão de dados\n",
    "\n",
    "Os dados experimentais disponibilizados em [2] das variáveis dependente ($y_1$ e $y_2$) e das variáveis independentes ($x_1$ e $x_2$), são apresentados abaixo na forma de listas:"
   ]
  },
  {
   "cell_type": "code",
   "execution_count": 4,
   "metadata": {},
   "outputs": [],
   "source": [
    "x1 = [1.,2.,3.,5.,10,15.,20.,30.,40.,50.]\n",
    "y1 = [1.66,6.07,7.55,9.72,15.24,18.79,19.33,22.38,24.27,25.51]\n",
    "x2 = [1.,2.,3.,5.,10,15.,20.,30.,40.,50.]\n",
    "y2 = [1.66,6.07,7.55,9.72,15.24,18.79,19.33,22.38,24.27,25.51]\n"
   ]
  },
  {
   "cell_type": "markdown",
   "metadata": {},
   "source": [
    "Como entrada **obrigatória**, a plataforma MT_PEU necessita da **incerteza dos dados experimentais** (ux1, ux2, uy1).\n",
    "Neste exemplo, foram adotados o valor 1 para as incertezas."
   ]
  },
  {
   "cell_type": "code",
   "execution_count": 5,
   "metadata": {},
   "outputs": [],
   "source": [
    "ux1 = [1]*10\n",
    "ux2 = [1]*10\n",
    "uy1 = [1]*10\n",
    "uy2 = [1]*10"
   ]
  },
  {
   "cell_type": "markdown",
   "metadata": {},
   "source": [
    "**Inclusão de dados experimentais na estimação:**\n",
    "\n",
    "O método *setDados* é utilizado para incluir os dados para as grandezas dependentes e independentes. Sintaxe:\n",
    "\n",
    "* identificação da grandeza, se independente ou dependente: 0 ou 1 (respectivamente)\n",
    "* os dados experimentais e suas incertezas inseridos em sequência na forma de tuplas."
   ]
  },
  {
   "cell_type": "code",
   "execution_count": 6,
   "metadata": {},
   "outputs": [],
   "source": [
    "Estime.setDados(0,(x1,ux1),(x2,ux2))\n",
    "Estime.setDados(1, (y1, uy1), (y2, uy2))"
   ]
  },
  {
   "cell_type": "markdown",
   "metadata": {},
   "source": [
    "Define que os dados experimentais previamente inseridos serão utilizados como um conjunto de dados para o qual os \n",
    "parâmetros serão estimados:"
   ]
  },
  {
   "cell_type": "code",
   "execution_count": 7,
   "metadata": {},
   "outputs": [],
   "source": [
    "Estime.setConjunto(tipo='estimacao')"
   ]
  },
  {
   "cell_type": "markdown",
   "metadata": {},
   "source": [
    "## Otimização\n",
    "\n",
    "Neste exemplo, o usuário tem a opção de escolha do algoritmo a ser utilizado na otimização. \n",
    "Disponiveis: 'ipopt', 'bonmin'. \n",
    "Caso opte por não escolher, será utilizado o algoritmo default: ipopt.\n",
    "\n",
    "Para realizar a otimização é obrigatório informar a estimativa inicial que, neste caso, será [3, 0.1, 5,0.4]."
   ]
  },
  {
   "cell_type": "code",
   "execution_count": 8,
   "metadata": {},
   "outputs": [
    {
     "name": "stdout",
     "output_type": "stream",
     "text": [
      "\n",
      "******************************************************************************\n",
      "This program contains Ipopt, a library for large-scale nonlinear optimization.\n",
      " Ipopt is released as open source code under the Eclipse Public License (EPL).\n",
      "         For more information visit http://projects.coin-or.org/Ipopt\n",
      "******************************************************************************\n",
      "\n"
     ]
    }
   ],
   "source": [
    "Estime.optimize(initial_estimative=[3, 0.1, 5,0.4],algoritmo='ipopt')"
   ]
  },
  {
   "cell_type": "markdown",
   "metadata": {},
   "source": [
    "## Incerteza\n",
    "\n",
    "\n",
    "Neste exemplo é possível escolher o método útilizado para avaliar a incerteza \n",
    "Métodos disponíveis: 2InvHessiana, Geral, SensibilidadeModelo. \n",
    "Por definição o preenchimeto da região de verossimilhança é 'True', caso necessário esta opção pode ser alterada.\n",
    "\n",
    "Caso o usuário **não** tenha interesse em **avaliar a incerteza dos parâmetros** para o **cálculo da predição**, apenas **não** executar **Estime.incertezaParametros**.\n"
   ]
  },
  {
   "cell_type": "code",
   "execution_count": 9,
   "metadata": {},
   "outputs": [],
   "source": [
    "Estime.incertezaParametros(metodoIncerteza='SensibilidadeModelo',preencherregiao=False)"
   ]
  },
  {
   "cell_type": "markdown",
   "metadata": {},
   "source": [
    "## Predição de análise de resíduos\n",
    "\n",
    " No método predição, é feita a avaliação da grandeza dependente com base nos parâmetros fornecidos. \n",
    " A covariância é avaliada, e consequentemente a eficiencia do modelo. \n",
    " Em análise de residuos é possível verificar possíveis relações de dependencia e/ou tendencia entre as variaveis. \n",
    " Testes estatisticos como o de homocedasticidade, $\\chi^2$, dentre outros são realizados\n",
    " nesta etapa. A analise de residuos é feita prioritariamente com os dados de validação."
   ]
  },
  {
   "cell_type": "code",
   "execution_count": 10,
   "metadata": {},
   "outputs": [],
   "source": [
    "Estime.predicao()\n",
    "Estime.analiseResiduos()"
   ]
  },
  {
   "cell_type": "markdown",
   "metadata": {},
   "source": [
    "## Gráficos e relatório\n",
    "\n",
    "Nesta etapa ocorre a geração dos dados de saída do programa : relátorios e gráficos. \n",
    "Os gráficos são gerados de acordo com as etapas que foram realizadas. No relátorio contém informações a respeito.\n",
    "dos testes estatisticos, função objetivo, matriz de covariância, status da otimização, dentre outros."
   ]
  },
  {
   "cell_type": "code",
   "execution_count": 11,
   "metadata": {},
   "outputs": [
    {
     "name": "stderr",
     "output_type": "stream",
     "text": [
      "/home/giufba-admin/Documentos/MT_PEU/MT_PEU.py:2018: UserWarning: Os gráficos de otimizacao não puderam ser criados, o algoritmo de otimização utilizado não possui gráficos de desempenho OU o método otimizacao não foi executado.\n",
      "  warn('Os gráficos de otimizacao não puderam ser criados, o algoritmo de otimização utilizado não possui gráficos de desempenho OU o método otimizacao não foi executado.',UserWarning)\n",
      "/home/giufba-admin/Documentos/MT_PEU/Graficos.py:392: RuntimeWarning: divide by zero encountered in double_scalars\n",
      "  alpha  = [vecs[1,0]/vecs[0,0],vecs[1,1]/vecs[0,1]]\n",
      "/home/giufba-admin/Documentos/MT_PEU/Graficos.py:393: RuntimeWarning: invalid value encountered in double_scalars\n",
      "  lamb   = [sqrt(c2/(invcov[0,0]+2*alpha_i*invcov[0,1] + alpha_i**2*invcov[1,1])) for alpha_i in alpha]\n"
     ]
    },
    {
     "data": {
      "text/plain": [
       "<Figure size 432x288 with 0 Axes>"
      ]
     },
     "metadata": {},
     "output_type": "display_data"
    },
    {
     "data": {
      "text/plain": [
       "<Figure size 360x240 with 0 Axes>"
      ]
     },
     "metadata": {},
     "output_type": "display_data"
    }
   ],
   "source": [
    "etapas = ['otimizacao','grandezas-entrada', 'predicao','grandezas-calculadas','analiseResiduos', 'regiaoAbrangencia']\n",
    "Estime.graficos(etapas)\n",
    "Estime.relatorio()"
   ]
  },
  {
   "cell_type": "markdown",
   "metadata": {},
   "source": [
    "## Referências: \n",
    "\n",
    "[1] SRINIVASAN, R.; LEVI, A. A.. Kinetics of the Thermal Isomerization of Bicyclo [2.1.1 ]hexane. Journal Of The American Chemical Society, [s.l.], v. 85, n. 21, p.3363-3365, 5 nov. 1963. American Chemical Society (ACS)\n",
    "\n",
    "[2] SCHWAAB, M.M.;PINTO, J.C. Análise de Dados Experimentais I: Fundamentos da Estátistica e Estimação de Parâmetros. \n",
    "Rio de Janeiro: e-papers, 2007.\n",
    "\n",
    "INMETRO.: Avaliação de dados de medição — Guia para a expressão de incerteza de medição. Rio de Janeiro: Jcgm, 2008."
   ]
  }
 ],
 "metadata": {
  "kernelspec": {
   "display_name": "Python 3",
   "language": "python",
   "name": "python3"
  },
  "language_info": {
   "codemirror_mode": {
    "name": "ipython",
    "version": 3
   },
   "file_extension": ".py",
   "mimetype": "text/x-python",
   "name": "python",
   "nbconvert_exporter": "python",
   "pygments_lexer": "ipython3",
   "version": "3.7.3"
  }
 },
 "nbformat": 4,
 "nbformat_minor": 2
}
