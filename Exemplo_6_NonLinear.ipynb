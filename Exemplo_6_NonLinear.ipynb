{
 "cells": [
  {
   "cell_type": "markdown",
   "metadata": {},
   "source": [
    "# Example: Vapour pressures and enthalpies of vaporisation of alkyl formamides\n",
    "\n",
    "## Introduction\n",
    "\n",
    "This example discusses the assessment of vapor pressure as a function of the temperature of pure N-butylformamide (Figure 1), approaching a non-linear model different from other similar examples.\n",
    "\n",
    "**Figure 1: N-butyl-formamide. Font: [1]**\n",
    "\n",
    "<img src=\"Imagens/formamida.png\" alt=\"drawing\" width=\"150\"/>\n",
    "\n",
    "\n",
    "The experimental data are preented in Table 1.\n",
    "\n",
    "**Table 1. Experimental data. Font: [2].**\n",
    "\n",
    "Temperature / K | Vapor pressure (Pa) | Vapor pressure uncertainties\n",
    ":--------------:|:---------------------:|:-------------------------------:\n",
    "        297.1   |         2.93          |        0.08 \n",
    "        298.2   |         3.21          |        0.09\n",
    "        299.3   |         3.49          |        0.09\n",
    "        301.2   |         4.22          |        0.11\n",
    "        304.2   |         5.60          |        0.17\n",
    "        307.2   |         7.31          |        0.21\n",
    "          .     |           .           |          .\n",
    "          .     |           .           |          .\n",
    "          .     |           .           |          .\n",
    "        334.2   |          63.36        |        1.61\n",
    "        337.1   |          78.93        |        2.00\n",
    "        340.2   |          93.65        |        2.37\n",
    "        343.2   |          115.11       |        2.90\n",
    "        346.2   |          140.27       |        3.53\n",
    "        349.1   |          171.89       |        4.32\n",
    "        352.2   |          208.00       |        5.23\n",
    "        \n",
    "The vapor pressure model for this problem is given by [1]:\n",
    "\n",
    "$P = exp(\\frac{A}{R}+\\frac{B}{RT})-\\frac{{∆_l}^0{C^0}_p,m}{R}\\ln(\\frac{T}{T_0})$ (1)\n",
    "\n",
    "where $ T $ is the saturation temperature, $ T_0 $ is the reference temperature (298 K), $ P $ is the vapor pressure at temperature $ T $, $ R $ is the gas constant (8,31446 $ JK ^ {- 1} mol ^ {- 1} $), $ {∆_l} ^ 0 \\cdot{C_p, m} ^ 0 $, is the specific heat difference and $ A $ and $ B $ are the parameters to be estimated.\n",
    "\n",
    "The optimization problem to be solved uses the objective function of least squares weighted by the inverse of the variance, according to [2]:\n",
    "\n",
    "$\\min_{A, B} \\sum_{i=1}^{NE} \\left(\\frac{y^{exp}_i-y_i(A,B)}{u^2_{y_i}}\\right)$ (2),\n",
    "\n",
    "subject to (1).\n",
    "\n",
    "The following symbols will be used to solve this problem in the MT_PEU:\n",
    "\n",
    "* Symbols of the independent quantities (temperature): T\n",
    "* Symbols of the dependent quantities (vapor pressure): p\n",
    "* Symbols of the parameters: A, B\n",
    "\n",
    "## Packages importing\n",
    "\n",
    "Importing libraries (packages) needed to run the code.\n",
    "\n",
    "* **MT_PEU**: library that contains the main functionalities of the tool\n",
    "\n",
    "    * Import the class **EstimacaoNaoLinear**, that will be used in this non-linear estimation example.\n",
    "\n",
    "* **casadi**: library for symbolic computation\n",
    "\n",
    "    * The function **exp** (exponential) and **log** (logarithmic) will be necessary to build the model."
   ]
  },
  {
   "cell_type": "code",
   "execution_count": 44,
   "metadata": {},
   "outputs": [],
   "source": [
    "from MT_PEU import EstimacaoNaoLinear\n",
    "from casadi import exp, log"
   ]
  },
  {
   "cell_type": "markdown",
   "metadata": {},
   "source": [
    "## Model creation\n",
    "\n",
    "The model (1) represents the behavior of the dependent quantity in which the parameters $A$ and $B$ will be estimated.\n",
    "\n",
    "This model is then defined in the form of a python subroutine (**def**) and represented by:"
   ]
  },
  {
   "cell_type": "code",
   "execution_count": 45,
   "metadata": {},
   "outputs": [],
   "source": [
    "def Model(param, x, args):\n",
    "    T = x[:, 0]\n",
    "    A, B = param[0], param[1]\n",
    "\n",
    "    return exp(A / 8.31446 + B / (8.31446 * T) - (68.2 / 8.31446) * log(T / 298.15))"
   ]
  },
  {
   "cell_type": "markdown",
   "metadata": {},
   "source": [
    "## Class initialization\n",
    "\n",
    "The first step to perform the estimation is to configure the class **EstimacaoNaoLinear** through the inclusion of basic information.:\n",
    "\n",
    "* The model,\n",
    "* The symbols of the independent quantities *(T)*; \n",
    "* The symbols of the dependent quantities *(P)*; \n",
    "* The symbols of the parameters *(param)*;\n",
    "* The project name, the folder's name where the results will be saved."
   ]
  },
  {
   "cell_type": "code",
   "execution_count": 46,
   "metadata": {},
   "outputs": [],
   "source": [
    "Estimation = EstimacaoNaoLinear(Model, symbols_x=[r'T'], symbols_y=[r'P'], \n",
    "                                symbols_param=['A','B'], Folder='FormamideNonLinear' )"
   ]
  },
  {
   "cell_type": "markdown",
   "metadata": {},
   "source": [
    "## Data inclusion\n",
    "\n",
    "The experimental data provided in Table 1 of the dependent quantity (y) and the independent quantity (T), are presented below in the form of lists:"
   ]
  },
  {
   "cell_type": "code",
   "execution_count": 47,
   "metadata": {},
   "outputs": [],
   "source": [
    "# Defining observed data\n",
    "# Input data\n",
    "T = [297.1,298.2,299.3,301.2,304.2,307.2,310.2,314.1,316.2,317.8,318.2,320.2,\n",
    "     323.1,326.2,329.1,331.2,334.2,337.1,340.2,343.2,346.2,349.1,352.2]\n",
    "# Output data\n",
    "P = [2.93,3.21,3.49,4.22,5.60,7.31,9.12,13.07,14.98,17.63,18.02,22.08,26.95,34.61,\n",
    "     40.93,50.17,63.36,78.93,93.65,115.11,140.27,171.89,208.00]"
   ]
  },
  {
   "cell_type": "markdown",
   "metadata": {},
   "source": [
    "The MT_PEU **needs** the **uncertainties of the experimental data** (uT, uP) to be informed."
   ]
  },
  {
   "cell_type": "code",
   "execution_count": 48,
   "metadata": {},
   "outputs": [],
   "source": [
    "uT = [0.1]*len(T)\n",
    "uP = [0.08,0.09,0.09,0.11,0.17,0.21,0.25,0.35,0.40,0.47,0.48,0.58,\n",
    "      0.70,0.89,1.05,1.28,1.61,2.00,2.37,2.90,3.53,4.32,5.23]"
   ]
  },
  {
   "cell_type": "markdown",
   "metadata": {},
   "source": [
    "**Entering the experimental data in MT_PEU:**\n",
    "\n",
    "The *setDados* method is used to include the data for dependent and independent quantities. Syntax:\n",
    "\n",
    "* Quantity identification, whether it is independent or dependent: 0 or 1 (respectively)\n",
    "* The experimental data and their uncertainties must be entered in sequence in the form of tuples."
   ]
  },
  {
   "cell_type": "code",
   "execution_count": 49,
   "metadata": {},
   "outputs": [],
   "source": [
    "Estimation.setDados(1,(P,uP))\n",
    "Estimation.setDados(0, (T, uT))"
   ]
  },
  {
   "cell_type": "markdown",
   "metadata": {},
   "source": [
    "The setConjunto method defines that the experimental data previously entered will be used as a data set for which parameters will be estimated:"
   ]
  },
  {
   "cell_type": "code",
   "execution_count": 50,
   "metadata": {},
   "outputs": [],
   "source": [
    "Estimation.setConjunto(type='estimacao')"
   ]
  },
  {
   "cell_type": "markdown",
   "metadata": {},
   "source": [
    "## Optimization\n",
    "\n",
    "In this example, the user can choose the algorithm to be used in the optimization. \n",
    "Available: 'ipopt', 'bonmin' and 'sqpmethod'.\n",
    "\n",
    "If the user does not choose any optimization method, the default algorithm will be used: ipopt, with initial estimative equal to [200, -80680.1]"
   ]
  },
  {
   "cell_type": "code",
   "execution_count": 51,
   "metadata": {},
   "outputs": [],
   "source": [
    "Estimation.optimize(initial_estimative = [200, -80680.1])\n"
   ]
  },
  {
   "cell_type": "markdown",
   "metadata": {},
   "source": [
    "## Parameters uncertainty\n",
    "\n",
    "\n",
    "In this example, it is possible to choose the method used to evaluate uncertainty. \n",
    "Available: 2InvHessiana, Geral, SensibilidadeModelo. \n",
    "By definition the likelihood region filling is 'True', if necessary this option can be changed.\n",
    "\n",
    "If the user **does not** have an interest in **evaluating the uncertainty of the parameters**, just **do not** perform **Estime.parametersUncertainty**."
   ]
  },
  {
   "cell_type": "code",
   "execution_count": 52,
   "metadata": {},
   "outputs": [],
   "source": [
    "Estimation.parametersUncertainty(uncertaintyMethod='SensibilidadeModelo', objectiveFunctionMapping=True)\n"
   ]
  },
  {
   "cell_type": "markdown",
   "metadata": {},
   "source": [
    "## Prediction and residual analysis\n",
    "\n",
    "The prediction method evaluates the dependent quantity based on the estimated parameters, the model informed by the user, and data of the dependent quantities. In case validation data are informed (through the setConjunto method, defining \"type = predicao\") these will be used to perform the prediction. Also, this method evaluates the covariance matrix of the prediction, in case the parametersUncertainty method has been performed.\n",
    " \n",
    "Through residual analysis, it is possible to obtain indicators of estimation quality.  Aspects such as mean, homoscedasticity (which allows us to infer possible dependency and/or tendency relationships between the variables), normality, $R^2$ and autocorrelation are evaluated. The optimal point of the objective function is also evaluated. The residues analysis is performed primarily with the validation data."
   ]
  },
  {
   "cell_type": "code",
   "execution_count": 53,
   "metadata": {},
   "outputs": [],
   "source": [
    "Estimation.prediction()\n",
    "Estimation.residualAnalysis()"
   ]
  },
  {
   "cell_type": "markdown",
   "metadata": {},
   "source": [
    "## Plots and reports\n",
    "\n",
    "At this stage, the results obtained by the program are exported: reports and graphs. \n",
    "The graphs are generated according to the steps that have been performed. In the reports, information about the statistical tests, objective function value, covariance matrix of the parameters, optimization status, among others, are printed."
   ]
  },
  {
   "cell_type": "code",
   "execution_count": 54,
   "metadata": {},
   "outputs": [
    {
     "data": {
      "text/plain": [
       "<Figure size 432x288 with 0 Axes>"
      ]
     },
     "metadata": {},
     "output_type": "display_data"
    },
    {
     "data": {
      "text/plain": [
       "<Figure size 360x240 with 0 Axes>"
      ]
     },
     "metadata": {},
     "output_type": "display_data"
    }
   ],
   "source": [
    "Estimation.plots()"
   ]
  },
  {
   "cell_type": "markdown",
   "metadata": {},
   "source": [
    "## References: \n",
    "\n",
    "[1] SANJARI, Ehsan. A new simple method for accurate calculation of saturated vapor pressure. Elsevier. \n",
    "p. 12-16. mar. 2013.\n",
    "\n",
    "[2] ZAITSEVA, Ksenia V.; ZAITSAU, Dzmitry H.; VARFOLOMEEV, Mikhail A.. \n",
    "Vapour pressures and enthalpies of vaporisation of alkyl formamides. Elsevier. Alemanha, p. 228-238. maio 2019.\n",
    "\n",
    "[3] INMETRO.: Avaliação de dados de medição — Guia para a expressão de incerteza de medição. Rio de Janeiro: Jcgm, 2008."
   ]
  }
 ],
 "metadata": {
  "kernelspec": {
   "display_name": "Python 3",
   "language": "python",
   "name": "python3"
  },
  "language_info": {
   "codemirror_mode": {
    "name": "ipython",
    "version": 3
   },
   "file_extension": ".py",
   "mimetype": "text/x-python",
   "name": "python",
   "nbconvert_exporter": "python",
   "pygments_lexer": "ipython3",
   "version": "3.7.3"
  }
 },
 "nbformat": 4,
 "nbformat_minor": 2
}
