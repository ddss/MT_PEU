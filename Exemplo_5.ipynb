{
 "cells": [
  {
   "cell_type": "markdown",
   "metadata": {},
   "source": [
    "# Exemplo: Pressões de vapor e entalpias de vaporização de alquil formamidas\n",
    "\n",
    "## Introdução\n",
    "\n",
    "O problema aborda o cálculo da pressão de vapor de substâncias puras em função da temperatura. Estas substâncias são apresentadas na figura 1.\n",
    "\n",
    "**Figura 1: Alquil-formamidas estudadas: (a) N-n-butil-formamida, (b) N-benzil-formamida, (c) N, N-dimetil-formamida, (d) N, N-dietil-formamida, (e) N, N-di-n-propil-formamida, (f) N, N-di-n-butil-formamida. Fonte: [1]**\n",
    "\n",
    "![fig](./alquil.png)\n"
   ]
  },
  {
   "cell_type": "markdown",
   "metadata": {},
   "source": [
    "# Importação de pacotes\n",
    "\n",
    "importação de bibliotecas (pacotes) necessárias para execução do código.\n",
    "\n",
    "* MT_PEU: biblioteca que contém as principais funcionalidades da ferramenta\n",
    "* numpy: biblioteca para computação científica -> será necessária somente a função exp (exponencial)"
   ]
  },
  {
   "cell_type": "code",
   "execution_count": 71,
   "metadata": {},
   "outputs": [],
   "source": [
    "from MT_PEU import EstimacaoNaoLinear\n",
    "from numpy import exp"
   ]
  },
  {
   "cell_type": "markdown",
   "metadata": {},
   "source": [
    "# CRIAÇÃO DO MODELO"
   ]
  },
  {
   "cell_type": "code",
   "execution_count": 72,
   "metadata": {},
   "outputs": [],
   "source": [
    "u\"\"\"\n",
    "O modelo é definido na forma de uma subrotina ((def) do python) e representa a equação abaixo,onde: \n",
    "y é a pressão de vapor, T é a temperatura, e por fim A, B e C são os parâmetros a serem estimados.\n",
    "\n",
    "\"\"\"\n",
    "def Modelo(param,x,args):\n",
    "\n",
    "\n",
    "    T = x[0]\n",
    "    A, B, C = param[0], param[1],  param[2]\n",
    "    \n",
    "    \n",
    "    return exp(A-(B/(T+C))) # cálculo de Pvp - vetorizado"
   ]
  },
  {
   "cell_type": "markdown",
   "metadata": {},
   "source": [
    "# ==========================\n",
    " IV - INICIALIZAÇÃO DA CLASSE\n",
    "# =========================="
   ]
  },
  {
   "cell_type": "code",
   "execution_count": 73,
   "metadata": {},
   "outputs": [],
   "source": [
    "u\"\"\"\n",
    "\n",
    "Nessa etapa é inicializada a classe que realiza a estimação. Por padrão, informações como os simbolos das variáveis,\n",
    "são obrigatorias e passadas nesta etapa.  \n",
    "\n",
    "\"\"\"\n",
    "\n",
    "#Cria o objeto que realiza a estimação\n",
    "\n",
    "Estimation = EstimacaoNaoLinear(Modelo, simbolos_x=[r'T'], simbolos_y=[r'Pvp'], simbolos_param=['A','B','C'],  Folder='Exemplo5' )"
   ]
  },
  {
   "cell_type": "markdown",
   "metadata": {},
   "source": [
    "# ===============================================================\n",
    "\n",
    "IV - INCLUSÃO DE DADOS\n",
    "\n",
    "# ===============================================================\n"
   ]
  },
  {
   "cell_type": "code",
   "execution_count": 74,
   "metadata": {},
   "outputs": [],
   "source": [
    "u\"\"\"\n",
    "\n",
    "Os dados experimentais da variável dependente (Pvp) e da variável independente (Temperatura)\n",
    "são disponibilizados em Zaitseva, Zaitsau, Varfolomeev e Verevkin (2019, p.230) apresentados \n",
    "abaixo na forma de listas:\n",
    "\n",
    "\"\"\"\n",
    "\n",
    "Pvp = [2.93,3.21,3.49,4.22,5.60,7.31,9.12,13.07,14.98,17.63,18.02,22.08,26.95,34.61,\n",
    "       40.93,50.17,63.36,78.93,93.65,115.11,140.27,171.89,208.00]\n",
    "\n",
    "\n",
    "temperatura = [297.1,298.2,299.3,301.2,304.2,307.2,310.2,314.1,316.2,317.8,318.2,320.2,\n",
    "               323.1,326.2,329.1,331.2,334.2,337.1,340.2,343.2,346.2,349.1,352.2]"
   ]
  },
  {
   "cell_type": "code",
   "execution_count": 75,
   "metadata": {},
   "outputs": [],
   "source": [
    "u\"\"\"\n",
    "\n",
    "Como entrada obrigatória, a plataforma MT_PEU necessita da incerteza dos dados experimentais (ux1, ux2, uy1).\n",
    "Neste exemplo, foram adotados o valor 1 para as incertezas.\n",
    "\n",
    "\"\"\"\n",
    "\n",
    "# lista com incertezas para a temperatura\n",
    "uxtemperatura = [0.1]*23\n",
    "# lista com incertezas para Pvp\n",
    "uPvp = [1.3]*23"
   ]
  },
  {
   "cell_type": "code",
   "execution_count": 76,
   "metadata": {},
   "outputs": [],
   "source": [
    "u\"\"\"\n",
    "\n",
    "Inclusão de dados experimentais na estimação:\n",
    "Inclui os dados experimentais nesse objeto (setDados), onde a opção 0 é para a grandeza dependente,\n",
    "e a opção 1 é para a grandeza independente.\n",
    "\n",
    "\"\"\"\n",
    "# grandezas dependentes. [Opção 0 é para grandeza dependente]\n",
    "Estimation.setDados(0,(temperatura,uxtemperatura))\n",
    "# grandezas independentes [Opção 1 é para grandeza independente]\n",
    "Estimation.setDados(1,(Pvp,uPvp))"
   ]
  },
  {
   "cell_type": "code",
   "execution_count": 77,
   "metadata": {},
   "outputs": [],
   "source": [
    "\n",
    "u\"\"\"\n",
    "\n",
    "Define que os dados experimentais previamente inseridos serão utilizados como um conjunto de dados para o qual os \n",
    "parâmetros serão estimados:\n",
    "\n",
    "\"\"\"\n",
    "\n",
    "Estimation.setConjunto(tipo='estimacao')"
   ]
  },
  {
   "cell_type": "markdown",
   "metadata": {},
   "source": [
    "# ==============\n",
    " V - OTIMIZAÇÃO\n",
    "# ==============\n"
   ]
  },
  {
   "cell_type": "code",
   "execution_count": 78,
   "metadata": {},
   "outputs": [],
   "source": [
    "u\"\"\"\n",
    "\n",
    "A otimização será realizada utilizando o algoritmo default (Nelder-Mead), se faz necessário informar a estimativa inicial.\n",
    "\n",
    "\"\"\"\n",
    "Estimation.optimize(initial_estimative = [1, 1.5, 0.009])"
   ]
  },
  {
   "cell_type": "markdown",
   "metadata": {},
   "source": [
    "# =============\n",
    "VI - INCERTEZA\n",
    "# ============="
   ]
  },
  {
   "cell_type": "code",
   "execution_count": 79,
   "metadata": {},
   "outputs": [],
   "source": [
    "u\"\"\"\n",
    " \"Associada a toda medida existe uma incerteza.\" \n",
    " Este método calcula a incerteza associadas aos parâmetros (neste exemplo A, B e C). \n",
    " \n",
    "\"\"\"\n",
    "\n",
    "Estimation.incertezaParametros(metodoIncerteza='Geral',preencherregiao=True)"
   ]
  },
  {
   "cell_type": "markdown",
   "metadata": {},
   "source": [
    "# =================================================================================\n",
    " VII - PREDIÇÃO E ANALISE DE RESIDUOS\n",
    "# ================================================================================="
   ]
  },
  {
   "cell_type": "code",
   "execution_count": 80,
   "metadata": {},
   "outputs": [],
   "source": [
    "u\"\"\"\n",
    " No método predição, é feita a avaliação da grandeza dependente com base nos parametros fornecidos. \n",
    " A covariância é avaliada, e consequentemente a eficiencia do modelo. \n",
    " Em analise de residuos é possível vericar possíveis relações de dependencia e/ou tendencia entre as variaveis. \n",
    " Testes estatisticos como o de homocedasticidade, chi quadrado, dentre outros são realizados\n",
    " nesta etapa. A analise de residuos é feita prioritariamente com os dados de validação.\n",
    "\n",
    "\"\"\"\n",
    "\n",
    "Estimation.predicao()\n",
    "Estimation.analiseResiduos()"
   ]
  },
  {
   "cell_type": "markdown",
   "metadata": {},
   "source": [
    "# ===================================\n",
    " VIII - GERAÇÃO DE GRÁFICOS E RELATÓRIO\n",
    "# ==================================="
   ]
  },
  {
   "cell_type": "code",
   "execution_count": 81,
   "metadata": {},
   "outputs": [
    {
     "name": "stderr",
     "output_type": "stream",
     "text": [
      "/home/giufba-admin/Documentos/MT_PEU/MT_PEU.py:2018: UserWarning: Os gráficos de otimizacao não puderam ser criados, o algoritmo de otimização utilizado não possui gráficos de desempenho OU o método otimizacao não foi executado.\n",
      "  warn('Os gráficos de otimizacao não puderam ser criados, o algoritmo de otimização utilizado não possui gráficos de desempenho OU o método otimizacao não foi executado.',UserWarning)\n"
     ]
    },
    {
     "data": {
      "text/plain": [
       "<Figure size 432x288 with 0 Axes>"
      ]
     },
     "metadata": {},
     "output_type": "display_data"
    },
    {
     "data": {
      "text/plain": [
       "<Figure size 360x240 with 0 Axes>"
      ]
     },
     "metadata": {},
     "output_type": "display_data"
    }
   ],
   "source": [
    "u\"\"\"\n",
    " Nesta etapa ocorre a geração dos dados de saída do programa : relátorios e gráficos. \n",
    " Os gráficos são gerados de acordo com as etapas que foram realizadas. No relátorio contém informações a respeito\n",
    " dos testes estatisticos, função objetivo, matriz de covariância, status da otimização, dentre outros.\n",
    "\n",
    "\"\"\"\n",
    "etapas = ['otimizacao', 'grandezas-entrada', 'predicao', 'grandezas-calculadas', 'analiseResiduos', 'regiaoAbrangencia']\n",
    "Estimation.graficos(etapas)\n",
    "Estimation.relatorio()"
   ]
  },
  {
   "cell_type": "code",
   "execution_count": 36,
   "metadata": {},
   "outputs": [
    {
     "data": {
      "text/plain": [
       "'\\n\\nReferências: \\n\\n[1] SANJARI, Ehsan. A new simple method for accurate calculation of saturated vapor pressure. Elsevier. \\np. 12-16. mar. 2013.\\n\\nZAITSEVA, Ksenia V.; ZAITSAU, Dzmitry H.; VARFOLOMEEV, Mikhail A.. \\nVapour pressures and enthalpies of vaporisation of alkyl formamides. Elsevier. Alemanha, p. 228-238. maio 2019.\\n\\nAvaliação de dados de medição — Guia para a expressão de incerteza de medição \\nhttp://www.inmetro.gov.br/noticias/conteudo/iso_gum_versao_site.pdf \\n\\n\\n'"
      ]
     },
     "execution_count": 36,
     "metadata": {},
     "output_type": "execute_result"
    }
   ],
   "source": [
    "u\"\"\"\n",
    "\n",
    "Referências: \n",
    "\n",
    "[1] SANJARI, Ehsan. A new simple method for accurate calculation of saturated vapor pressure. Elsevier. \n",
    "p. 12-16. mar. 2013.\n",
    "\n",
    "ZAITSEVA, Ksenia V.; ZAITSAU, Dzmitry H.; VARFOLOMEEV, Mikhail A.. \n",
    "Vapour pressures and enthalpies of vaporisation of alkyl formamides. Elsevier. Alemanha, p. 228-238. maio 2019.\n",
    "\n",
    "Avaliação de dados de medição — Guia para a expressão de incerteza de medição \n",
    "http://www.inmetro.gov.br/noticias/conteudo/iso_gum_versao_site.pdf \n",
    "\n",
    "\n",
    "\"\"\""
   ]
  }
 ],
 "metadata": {
  "kernelspec": {
   "display_name": "Python 3",
   "language": "python",
   "name": "python3"
  },
  "language_info": {
   "codemirror_mode": {
    "name": "ipython",
    "version": 3
   },
   "file_extension": ".py",
   "mimetype": "text/x-python",
   "name": "python",
   "nbconvert_exporter": "python",
   "pygments_lexer": "ipython3",
   "version": "3.7.3"
  }
 },
 "nbformat": 4,
 "nbformat_minor": 2
}
