{
 "cells": [
  {
   "cell_type": "markdown",
   "metadata": {},
   "source": [
    "# Exemplo: Pressões de vapor e entalpias de vaporização de alquil formamidas\n",
    "\n",
    "## Introdução\n",
    "\n",
    "Este exemplo aborda o avaliação da pressão de vapor em função da temperatura da N-benzil-formamida,  substância na figura 1, pura.\n",
    "\n",
    "\n",
    "**Figura 1: N-benzil-formamida. Fonte: [1]**\n",
    "\n",
    "<img src=\"formamida.jpg\" alt=\"drawing\" width=\"150\"/>\n",
    "\n",
    "\n",
    "\n",
    "Os dados experimentais são apresentados pela Tabela 1.\n",
    "\n",
    "**Tabela 1. Dados experimentais. Fonte: [2].**\n",
    "\n",
    "Temperatura / K | Pressão de vapor (Pa) | Incertezas para pressão de vapor\n",
    ":--------------:|:---------------------:|:-------------------------------:\n",
    "        297.1   |         2.93          |        0.08 \n",
    "        298.2   |         3.21          |        0.09\n",
    "        299.3   |         3.49          |        0.09\n",
    "        301.2   |         4.22          |        0.11\n",
    "        304.2   |         5.60          |        0.17\n",
    "        307.2   |         7.31          |        0.21\n",
    "          .     |           .           |          .\n",
    "          .     |           .           |          .\n",
    "          .     |           .           |          .\n",
    "        334.2   |          63.36        |        1.61\n",
    "        337.1   |          78.93        |        2.00\n",
    "        340.2   |          93.65        |        2.37\n",
    "        343.2   |          115.11       |        2.90\n",
    "        346.2   |          140.27       |        3.53\n",
    "        349.1   |          171.89       |        4.32\n",
    "        352.2   |          208.00       |        5.23\n",
    "        \n",
    "        \n",
    "O modelo para esta reação é dado por [1]:\n",
    "\n",
    "$y = \\exp\\left(A-(\\frac{B}{T+C}\\right))$ (1),\n",
    "\n",
    "em que $y$ corresponde a pressão de vapor da substância, $T$ é a temperatura, e por fim $A$, $B$ e $C$ são os parâmetros a serem estimados.\n",
    "\n",
    "Então, o problema de otimização a ser resolvido envolve o uso da função objetivo de mínimos quadrados ponderados pelo inverso da variância, conforme [2]:\n",
    "\n",
    "$\\min_{A, B, C} \\sum_{i=1}^{NE} \\left(\\frac{y^{exp}_i-y_i(A,B,C)}{u^2_{y_i}}\\right)$ (2),\n",
    "\n",
    "sujeito à (1).\n",
    "\n",
    "Para resolução deste problema no MT_PEU serão usados os símbolos:\n",
    "\n",
    "* Símbolos das grandezas independentes (tempo e temperatura): T\n",
    "* Símbolos das grandezas dependentes (pressão de vapor): y\n",
    "* Símbolos dos parâmetros: A, B e C\n",
    "\n",
    "## Importação de pacotes\n",
    "\n",
    "importação de bibliotecas (pacotes) necessárias para execução do código.\n",
    "\n",
    "* **MT_PEU**: biblioteca que contém as principais funcionalidades da ferramenta\n",
    "\n",
    "    * Importar a classe **EstimacaoNaoLinear**, que será utilizada neste exemplo de estimação não linear\n",
    "    \n",
    "* **numpy**: biblioteca para computação científica -> será necessária somente a função exp (exponencial)\n",
    "\n",
    "    * será necessária somente a função **exp** (exponencial) para construção do modelo"
   ]
  },
  {
   "cell_type": "code",
   "execution_count": 1,
   "metadata": {},
   "outputs": [],
   "source": [
    "from MT_PEU import EstimacaoNaoLinear\n",
    "from numpy import exp"
   ]
  },
  {
   "cell_type": "markdown",
   "metadata": {},
   "source": [
    "## Criação de modelo\n",
    "\n",
    "O modelo (1) representa o comportamento da grandeza dependente, no qual os parâmetros $A$, $B$ e $C$ serão estimados.\n",
    "\n",
    "Este modelo é definido, então, na forma de uma subrotina, **def**, do python e representado por:"
   ]
  },
  {
   "cell_type": "code",
   "execution_count": 2,
   "metadata": {},
   "outputs": [],
   "source": [
    "def Modelo(param,x,args):\n",
    "\n",
    "\n",
    "    T = x[:,0]\n",
    "    A, B, C = param[0], param[1],  param[2]\n",
    "    \n",
    "    \n",
    "    return exp(A-(B/(T+C))) # cálculo de Pvp - vetorizado"
   ]
  },
  {
   "cell_type": "markdown",
   "metadata": {},
   "source": [
    "## Inicialização de classe\n",
    "\n",
    "Para executar a estimação, o primeiro passo é configurar a classe **EstimacaoNaoLinear**, inicialmente, incluindo informações básicas:\n",
    "\n",
    "* O modelo,\n",
    "* Os símbolos para as grandeza independentes *(x)*; \n",
    "* Os símbolos para as grandezas dependentes *(y)*; \n",
    "* Os símbolos para os parâmetros *(param)*;\n",
    "* O nome do projeto, o nome da pasta onde serão gerados os resultados"
   ]
  },
  {
   "cell_type": "code",
   "execution_count": 3,
   "metadata": {},
   "outputs": [],
   "source": [
    "Estimation = EstimacaoNaoLinear(Modelo, simbolos_x=[r'T'], simbolos_y=[r'y'], \n",
    "                            simbolos_param=['A','B','C'],  Folder='Exemplo5' )"
   ]
  },
  {
   "cell_type": "markdown",
   "metadata": {},
   "source": [
    "## Inclusão de dados\n",
    "\n",
    "Os dados experimentais disponibilizados em [2] da variável dependente (y) e da variáveis independentes (T), são apresentados abaixo na forma de listas:"
   ]
  },
  {
   "cell_type": "code",
   "execution_count": 4,
   "metadata": {},
   "outputs": [],
   "source": [
    "#Pressão de vapor\n",
    "y = [2.93,3.21,3.49,4.22,5.60,7.31,9.12,13.07,14.98,17.63,18.02,22.08,26.95,34.61,\n",
    "       40.93,50.17,63.36,78.93,93.65,115.11,140.27,171.89,208.00]\n",
    "\n",
    "#Temperatura\n",
    "temperatura = [297.1,298.2,299.3,301.2,304.2,307.2,310.2,314.1,316.2,317.8,318.2,320.2,\n",
    "               323.1,326.2,329.1,331.2,334.2,337.1,340.2,343.2,346.2,349.1,352.2]"
   ]
  },
  {
   "cell_type": "markdown",
   "metadata": {},
   "source": [
    "Como entrada **obrigatória**, a plataforma MT_PEU necessita da **incerteza dos dados experimentais** (ux1, ux2, uy1).\n",
    "Neste exemplo, foram adotados os valores das incertezas presentes em [2]."
   ]
  },
  {
   "cell_type": "code",
   "execution_count": 5,
   "metadata": {},
   "outputs": [],
   "source": [
    "uxtemperatura = [0.1]*23\n",
    "uy = [0.08,0.09,0.09,0.11,0.17,0.21,0.25,0.35,0.40,0.47,0.48,0.58,\n",
    "      0.70,0.89,1.05,1.28,1.61,2.00,2.37,2.90,3.53,4.32,5.23]"
   ]
  },
  {
   "cell_type": "markdown",
   "metadata": {},
   "source": [
    " **Inclusão de dados experimentais na estimação:**\n",
    "\n",
    "O método *setDados* é utilizado para incluir os dados para as grandezas dependentes e independentes. Sintaxe:\n",
    "\n",
    "* identificação da grandeza, se independente ou dependente: 0 ou 1 (respectivamente)\n",
    "* os dados experimentais e suas incertezas inseridos em sequência na forma de tuplas."
   ]
  },
  {
   "cell_type": "code",
   "execution_count": 6,
   "metadata": {},
   "outputs": [],
   "source": [
    "Estimation.setDados(0,(temperatura,uxtemperatura))\n",
    "Estimation.setDados(1,(y,uy))"
   ]
  },
  {
   "cell_type": "markdown",
   "metadata": {},
   "source": [
    "Define que os dados experimentais previamente inseridos serão utilizados como um conjunto de dados para o qual os \n",
    "parâmetros serão estimados:"
   ]
  },
  {
   "cell_type": "code",
   "execution_count": 7,
   "metadata": {},
   "outputs": [
    {
     "ename": "AttributeError",
     "evalue": "'EstimacaoNaoLinear' object has no attribute '_EstimacaoLinear__coluna_dumb'",
     "output_type": "error",
     "traceback": [
      "\u001b[0;31m---------------------------------------------------------------------------\u001b[0m",
      "\u001b[0;31mAttributeError\u001b[0m                            Traceback (most recent call last)",
      "\u001b[0;32m<ipython-input-7-ca68b12ab76d>\u001b[0m in \u001b[0;36m<module>\u001b[0;34m\u001b[0m\n\u001b[0;32m----> 1\u001b[0;31m \u001b[0mEstimation\u001b[0m\u001b[0;34m.\u001b[0m\u001b[0msetConjunto\u001b[0m\u001b[0;34m(\u001b[0m\u001b[0mtipo\u001b[0m\u001b[0;34m=\u001b[0m\u001b[0;34m'estimacao'\u001b[0m\u001b[0;34m)\u001b[0m\u001b[0;34m\u001b[0m\u001b[0;34m\u001b[0m\u001b[0m\n\u001b[0m",
      "\u001b[0;32m~/Documentos/MT_PEU/MT_PEU.py\u001b[0m in \u001b[0;36msetConjunto\u001b[0;34m(self, glx, gly, tipo, uxy)\u001b[0m\n\u001b[1;32m    854\u001b[0m \u001b[0;34m\u001b[0m\u001b[0m\n\u001b[1;32m    855\u001b[0m         \u001b[0;31m# initialization of casadi's variables\u001b[0m\u001b[0;34m\u001b[0m\u001b[0;34m\u001b[0m\u001b[0;34m\u001b[0m\u001b[0m\n\u001b[0;32m--> 856\u001b[0;31m         \u001b[0mself\u001b[0m\u001b[0;34m.\u001b[0m\u001b[0m_constructionCasadiVariables\u001b[0m\u001b[0;34m(\u001b[0m\u001b[0;34m)\u001b[0m\u001b[0;34m\u001b[0m\u001b[0;34m\u001b[0m\u001b[0m\n\u001b[0m\u001b[1;32m    857\u001b[0m \u001b[0;34m\u001b[0m\u001b[0m\n\u001b[1;32m    858\u001b[0m     \u001b[0;32mdef\u001b[0m \u001b[0m_constructionCasadiVariables\u001b[0m\u001b[0;34m(\u001b[0m\u001b[0mself\u001b[0m\u001b[0;34m)\u001b[0m\u001b[0;34m:\u001b[0m \u001b[0;31m# construction of the casadi variables\u001b[0m\u001b[0;34m\u001b[0m\u001b[0;34m\u001b[0m\u001b[0m\n",
      "\u001b[0;32m~/Documentos/MT_PEU/MT_PEU.py\u001b[0m in \u001b[0;36m_constructionCasadiVariables\u001b[0;34m(self)\u001b[0m\n\u001b[1;32m    892\u001b[0m                 \u001b[0mxmodel\u001b[0m \u001b[0;34m=\u001b[0m \u001b[0mhorzcat\u001b[0m\u001b[0;34m(\u001b[0m\u001b[0mxmodel\u001b[0m\u001b[0;34m,\u001b[0m\u001b[0mself\u001b[0m\u001b[0;34m.\u001b[0m\u001b[0m__symXo\u001b[0m\u001b[0;34m)\u001b[0m\u001b[0;34m\u001b[0m\u001b[0;34m\u001b[0m\u001b[0m\n\u001b[1;32m    893\u001b[0m                 \u001b[0mself\u001b[0m\u001b[0;34m.\u001b[0m\u001b[0m__symVariables\u001b[0m \u001b[0;34m=\u001b[0m \u001b[0mvertcat\u001b[0m\u001b[0;34m(\u001b[0m\u001b[0mself\u001b[0m\u001b[0;34m.\u001b[0m\u001b[0m__symVariables\u001b[0m\u001b[0;34m,\u001b[0m \u001b[0mself\u001b[0m\u001b[0;34m.\u001b[0m\u001b[0m__symXo\u001b[0m\u001b[0;34m)\u001b[0m \u001b[0;31m#\u001b[0m\u001b[0;34m\u001b[0m\u001b[0;34m\u001b[0m\u001b[0m\n\u001b[0;32m--> 894\u001b[0;31m             \u001b[0;32mif\u001b[0m \u001b[0mself\u001b[0m\u001b[0;34m.\u001b[0m\u001b[0m_EstimacaoLinear__coluna_dumb\u001b[0m \u001b[0;34m==\u001b[0m \u001b[0;32mFalse\u001b[0m\u001b[0;34m:\u001b[0m \u001b[0;31m# if is a Linear Model with independent term\u001b[0m\u001b[0;34m\u001b[0m\u001b[0;34m\u001b[0m\u001b[0m\n\u001b[0m\u001b[1;32m    895\u001b[0m                 \u001b[0mself\u001b[0m\u001b[0;34m.\u001b[0m\u001b[0m_values\u001b[0m \u001b[0;34m=\u001b[0m \u001b[0mvertcat\u001b[0m\u001b[0;34m(\u001b[0m\u001b[0mself\u001b[0m\u001b[0;34m.\u001b[0m\u001b[0m_values\u001b[0m\u001b[0;34m,\u001b[0m \u001b[0mself\u001b[0m\u001b[0;34m.\u001b[0m\u001b[0mx\u001b[0m\u001b[0;34m.\u001b[0m\u001b[0mestimacao\u001b[0m\u001b[0;34m.\u001b[0m\u001b[0mvetor_estimativa\u001b[0m\u001b[0;34m)\u001b[0m\u001b[0;34m\u001b[0m\u001b[0;34m\u001b[0m\u001b[0m\n\u001b[1;32m    896\u001b[0m             \u001b[0;32melse\u001b[0m\u001b[0;34m:\u001b[0m \u001b[0;31m# if is a Linear Model with independent term\u001b[0m\u001b[0;34m\u001b[0m\u001b[0;34m\u001b[0m\u001b[0m\n",
      "\u001b[0;31mAttributeError\u001b[0m: 'EstimacaoNaoLinear' object has no attribute '_EstimacaoLinear__coluna_dumb'"
     ]
    }
   ],
   "source": [
    "Estimation.setConjunto(tipo='estimacao')"
   ]
  },
  {
   "cell_type": "markdown",
   "metadata": {},
   "source": [
    "## Otimização\n",
    "\n",
    "Neste exemplo, o usuário tem a opção de escolha do algoritmo a ser utilizado na otimização. \n",
    "Disponiveis: 'ipopt', 'bonmin'. \n",
    "Caso opte por não escolher, será utilizado o algoritmo default: ipopt.\n",
    "\n",
    "Para realizar a otimização é obrigatório informar a estimativa inicial que, neste caso, será [1, 1.5, 0.009]."
   ]
  },
  {
   "cell_type": "code",
   "execution_count": null,
   "metadata": {},
   "outputs": [],
   "source": [
    "Estimation.optimize(initial_estimative = [1, 1.5, 0.009])"
   ]
  },
  {
   "cell_type": "markdown",
   "metadata": {},
   "source": [
    "## Incerteza\n",
    "\n",
    "\n",
    "Para avaliação da incerteza dos parâmetros, será utilizado o método 'Geral', outras opções são: 2InvHessiana, SensibilidadeModelo. \n",
    "\n",
    "Para melhor apresentar a região de abrangência pelo método da verossimilhança, pode-se mapear a função objetivo, através do argumento objectiveFunctionMapping = True.\n",
    "\n",
    "Caso o usuário **não** tenha interesse em **avaliar a incerteza dos parâmetros**, apenas **não** executar **Estime.incertezaParametros**."
   ]
  },
  {
   "cell_type": "code",
   "execution_count": null,
   "metadata": {},
   "outputs": [],
   "source": [
    "Estimation.incertezaParametros(metodoIncerteza='Geral', objectiveFunctionMapping=True)"
   ]
  },
  {
   "cell_type": "markdown",
   "metadata": {},
   "source": [
    "## Predição e análise de resíduos\n",
    "\n",
    " No método predição, é feita a avaliação da grandeza dependente com base nos parâmetros avaliados, no modelo e nos dados das grandezas dependentes. Caso tenham dados para predição (no método setConjunto foi definido o tipo \"predicao\"), estes são usados. Além disso, este método avalia a matriz de covariância da predição, caso o método incertezaParametros tenha sido executado.\n",
    " \n",
    " Em análise de resíduos, é possível verificar alguns indicares sobre os resíduos da estimação, entre eles: (i) avaliação da média do resíduo, (ii) homocedasticidade dos resíduos (possíveis relações de dependencia e/ou tendencia entre as variaveis), (iii)  normalidade, (iv) $R^2$, (v) autocorrelação. Além de avaliação sobre o valor ótimo da função objetivo.\n",
    " \n",
    " A analise de residuos é feita prioritariamente com os dados de validação."
   ]
  },
  {
   "cell_type": "code",
   "execution_count": null,
   "metadata": {},
   "outputs": [],
   "source": [
    "Estimation.predicao()\n",
    "Estimation.analiseResiduos()"
   ]
  },
  {
   "cell_type": "markdown",
   "metadata": {},
   "source": [
    "## Gráficos e relatório\n",
    "\n",
    "Nesta etapa ocorre a geração dos dados de saída do programa : relátorios e gráficos. \n",
    "Os gráficos são gerados de acordo com as etapas que foram realizadas. No relátorio contém informações a respeito.\n",
    "dos testes estatisticos, função objetivo, matriz de covariância, status da otimização, dentre outros."
   ]
  },
  {
   "cell_type": "code",
   "execution_count": null,
   "metadata": {},
   "outputs": [],
   "source": [
    "etapas = ['otimizacao', 'grandezas-entrada', 'predicao', 'grandezas-calculadas', 'analiseResiduos', 'regiaoAbrangencia']\n",
    "Estimation.graficos(etapas)\n",
    "Estimation.relatorio()"
   ]
  },
  {
   "cell_type": "markdown",
   "metadata": {},
   "source": [
    "Referências: \n",
    "\n",
    "[1] SANJARI, Ehsan. A new simple method for accurate calculation of saturated vapor pressure. Elsevier. \n",
    "p. 12-16. mar. 2013.\n",
    "\n",
    "[2] ZAITSEVA, Ksenia V.; ZAITSAU, Dzmitry H.; VARFOLOMEEV, Mikhail A.. \n",
    "Vapour pressures and enthalpies of vaporisation of alkyl formamides. Elsevier. Alemanha, p. 228-238. maio 2019.\n",
    "\n",
    "INMETRO.: Avaliação de dados de medição — Guia para a expressão de incerteza de medição. Rio de Janeiro: Jcgm, 2008."
   ]
  }
 ],
 "metadata": {
  "kernelspec": {
   "display_name": "Python 3",
   "language": "python",
   "name": "python3"
  },
  "language_info": {
   "codemirror_mode": {
    "name": "ipython",
    "version": 3
   },
   "file_extension": ".py",
   "mimetype": "text/x-python",
   "name": "python",
   "nbconvert_exporter": "python",
   "pygments_lexer": "ipython3",
   "version": "3.7.3"
  }
 },
 "nbformat": 4,
 "nbformat_minor": 2
}
