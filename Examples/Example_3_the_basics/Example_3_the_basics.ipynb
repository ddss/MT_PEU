{
 "cells": [
  {
   "cell_type": "markdown",
   "metadata": {},
   "source": [
    "# Example: Vapour pressures and enthalpies of vaporisation of alkyl formamides\n",
    "\n",
    "## Introduction\n",
    "\n",
    "This example discusses the evaluation of the vapor pressure as a function of the temperature of pure N-butyl-formamide (Figure 1)\n",
    "\n",
    "\n",
    "**Figure 1: N-butyl-formamide. Font: [1]**\n",
    "\n",
    "<img src=\"../../imagens/formamida.png\" alt=\"drawing\" width=\"150\"/>\n",
    "\n",
    "\n",
    "The experimental data are preented in Table 1.\n",
    "\n",
    "**Table 1. Experimental data. Font: [2].**\n",
    "\n",
    "Temperature / K | Vapor pressure (Pa) | Vapor pressure uncertainties\n",
    ":--------------:|:---------------------:|:-------------------------------:\n",
    "        297.1   |         2.93          |        0.08 \n",
    "        298.2   |         3.21          |        0.09\n",
    "        299.3   |         3.49          |        0.09\n",
    "        301.2   |         4.22          |        0.11\n",
    "        304.2   |         5.60          |        0.17\n",
    "        307.2   |         7.31          |        0.21\n",
    "          .     |           .           |          .\n",
    "          .     |           .           |          .\n",
    "          .     |           .           |          .\n",
    "        334.2   |          63.36        |        1.61\n",
    "        337.1   |          78.93        |        2.00\n",
    "        340.2   |          93.65        |        2.37\n",
    "        343.2   |          115.11       |        2.90\n",
    "        346.2   |          140.27       |        3.53\n",
    "        349.1   |          171.89       |        4.32\n",
    "        352.2   |          208.00       |        5.23\n",
    "        \n",
    "        \n",
    "The vapor pressure model for this problem is given by [1]:\n",
    "\n",
    "$y = \\exp\\left(A-(\\frac{B}{T+C})\\right)$ (1),\n",
    "\n",
    "on what $y$ is the substance vapor pressure, $T$ is the temperature, and finally $A$, $B$ e $C$ are the parameters to be estimated.\n",
    "\n",
    "The optimization problem to be solved uses the objective function of least squares weighted by the inverse of the variance, according to [2]:\n",
    "\n",
    "$\\min_{A, B, C} \\sum_{i=1}^{NE} \\left(\\frac{y^{exp}_i-y_i(A,B,C)}{u^2_{y_i}}\\right)$ (2),\n",
    "\n",
    "subject to (1).\n",
    "\n",
    "The following symbols will be used to solve this problem in the MT_PEU:\n",
    "\n",
    "* Symbols of the independent quantities (temperature): T\n",
    "* Symbols of the dependent quantities (vapor pressure): y\n",
    "* Symbols of the parameters: A, B e C\n",
    "\n",
    "## Packages importing\n",
    "\n",
    "Importing libraries (packages) needed to run the code.\n",
    "\n",
    "* **MT_PEU**: library that contains the main functionalities of the tool\n",
    "\n",
    "    * Import the class **EstimacaoNaoLinear**, that will be used in this non-linear estimation example.\n",
    "\n",
    "* **casadi**: library for symbolic computation\n",
    "\n",
    "    * only the function **exp** (exponential) will be required to build the model."
   ]
  },
  {
   "cell_type": "code",
   "execution_count": 1,
   "metadata": {},
   "outputs": [],
   "source": [
    "from sys import path \n",
    "path.append(\"../../modules\")#A list of strings that specifies the search path for modules\n",
    "from MT_PEU import EstimacaoNaoLinear\n",
    "from casadi import exp"
   ]
  },
  {
   "cell_type": "markdown",
   "metadata": {},
   "source": [
    "## Model creation\n",
    "\n",
    "The model (1) represents the behavior of the dependent quantity in which the parameters $A$, $B$ and $C$ will be estimated.\n",
    "\n",
    "This model is then defined in the form of a python subroutine (**def**) and represented by:"
   ]
  },
  {
   "cell_type": "code",
   "execution_count": 2,
   "metadata": {},
   "outputs": [],
   "source": [
    "def Model(param,x,args):\n",
    "\n",
    "\n",
    "    T = x[:,0]\n",
    "    A, B, C = param[0], param[1],  param[2]\n",
    "    \n",
    "    \n",
    "    return exp(A-(B/(T+C))) # Pvp calculation - vectorized"
   ]
  },
  {
   "cell_type": "markdown",
   "metadata": {},
   "source": [
    "## Class initialization\n",
    "\n",
    "The first step to perform the estimation is to configure the class **EstimacaoNaoLinear** through the inclusion of basic information.:\n",
    "\n",
    "* The model,\n",
    "* List of symbols of the independent quantities *(T)*; \n",
    "* List of symbols for  uncertainty *(uT)*;\n",
    "* List of symbols of the dependent quantities *(P)*;\n",
    "* List of symbols for  uncertainty *(uP)*;\n",
    "* List of symbols of the parameters *(param)*;\n",
    "* The project name, the folder's name where the results will be saved."
   ]
  },
  {
   "cell_type": "code",
   "execution_count": 3,
   "metadata": {},
   "outputs": [],
   "source": [
    "Estimation = EstimacaoNaoLinear(Model, symbols_x=['T'],symbols_ux=['uT'], symbols_y=['P'],symbols_uy=['uP'], symbols_param=['A','B','C'],  Folder='Example3' )"
   ]
  },
  {
   "cell_type": "markdown",
   "metadata": {},
   "source": [
    "## Data inclusion\n",
    "\n",
    "The experimental data provided in Table 1 of the independent quantity (T) with your uncertainty(uT) and the independent quantity (P) with your uncertainty(uP), are presented below in the form of .csv:"
   ]
  },
  {
   "cell_type": "raw",
   "metadata": {},
   "source": [
    "P;uP\n",
    "2.93;0.08\n",
    "3.21;0.09\n",
    "3.49;0.09\n",
    "4.22;0.11\n",
    "5.6;0.17\n",
    "7.31;0.21\n",
    "9.12;0.25\n",
    "13.07;0.35\n",
    "14.98;0.40\n",
    "17.63;0.47\n",
    "18.02;0.48\n",
    "22.08;0.58\n",
    "26.95;0.70\n",
    "34.61;0.89\n",
    "40.93;1.05\n",
    "50.17;1.28\n",
    "63.36;1.61\n",
    "78.93;2.0\n",
    "93.65;2.37\n",
    "115.11;2.9\n",
    "140.27;3.53\n",
    "171.89;4.32\n",
    "208.0;5.23\n"
   ]
  },
  {
   "cell_type": "markdown",
   "metadata": {},
   "source": [
    "**Entering the experimental data in MT_PEU:**\n",
    "\n",
    "The *setDados* method is used to include the data for dependent and independent quantities. Syntax:\n",
    "\n",
    "* The name of the file containing the data must be passed as a string or a list of strings.\n",
    "* Defining  dependent data with yours uncertainties  manually(T,uxT)"
   ]
  },
  {
   "cell_type": "code",
   "execution_count": 4,
   "metadata": {},
   "outputs": [],
   "source": [
    " \n",
    "T = [297.1,298.2,299.3,301.2,304.2,307.2,310.2,314.1,316.2,317.8,318.2,320.2,\n",
    "     323.1,326.2,329.1,331.2,334.2,337.1,340.2,343.2,346.2,349.1,352.2]\n",
    "uxT = [0.1]*len(T)"
   ]
  },
  {
   "cell_type": "code",
   "execution_count": 5,
   "metadata": {},
   "outputs": [
    {
     "name": "stdout",
     "output_type": "stream",
     "text": [
      "         P    uP      T   uT\n",
      "0     2.93  0.08  297.1  0.1\n",
      "1     3.21  0.09  298.2  0.1\n",
      "2     3.49  0.09  299.3  0.1\n",
      "3     4.22  0.11  301.2  0.1\n",
      "4     5.60  0.17  304.2  0.1\n",
      "5     7.31  0.21  307.2  0.1\n",
      "6     9.12  0.25  310.2  0.1\n",
      "7    13.07  0.35  314.1  0.1\n",
      "8    14.98  0.40  316.2  0.1\n",
      "9    17.63  0.47  317.8  0.1\n",
      "10   18.02  0.48  318.2  0.1\n",
      "11   22.08  0.58  320.2  0.1\n",
      "12   26.95  0.70  323.1  0.1\n",
      "13   34.61  0.89  326.2  0.1\n",
      "14   40.93  1.05  329.1  0.1\n",
      "15   50.17  1.28  331.2  0.1\n",
      "16   63.36  1.61  334.2  0.1\n",
      "17   78.93  2.00  337.1  0.1\n",
      "18   93.65  2.37  340.2  0.1\n",
      "19  115.11  2.90  343.2  0.1\n",
      "20  140.27  3.53  346.2  0.1\n",
      "21  171.89  4.32  349.1  0.1\n",
      "22  208.00  5.23  352.2  0.1\n"
     ]
    }
   ],
   "source": [
    "Estimation.setDados(data=[\"data_example3\",{'T':T,'uT':uxT}])"
   ]
  },
  {
   "cell_type": "markdown",
   "metadata": {},
   "source": [
    "## Optimization\n",
    "\n",
    "In this example, the user can choose the algorithm to be used in the optimization. \n",
    "Available: 'ipopt', 'bonmin' and 'sqpmethod'.\n",
    "\n",
    "If the user does not choose any optimization method, the default algorithm will be used: bonmin, with initial estimative equal to [1, 1.5, 0.009].\n",
    "\n",
    "**algorithm:** Informs the optimization algorithm that will be used. Each algorithm has its own keywords;\n",
    "\n",
    "**optimizationReport:** Informs whether the optimization report should be created (True or False);\n",
    "\n",
    "**parametersReport:** Informs whether the parameters report should be created (True or False)."
   ]
  },
  {
   "cell_type": "code",
   "execution_count": 6,
   "metadata": {},
   "outputs": [
    {
     "name": "stdout",
     "output_type": "stream",
     "text": [
      "Cbc3007W No integer variables - nothing to do\n",
      "\n",
      "******************************************************************************\n",
      "This program contains Ipopt, a library for large-scale nonlinear optimization.\n",
      " Ipopt is released as open source code under the Eclipse Public License (EPL).\n",
      "         For more information visit http://projects.coin-or.org/Ipopt\n",
      "******************************************************************************\n",
      "\n",
      "NLP0012I \n",
      "              Num      Status      Obj             It       time                 Location\n",
      "NLP0014I             1         OPT 11.520671      103 0.108\n",
      "Cbc3007W No integer variables - nothing to do\n"
     ]
    },
    {
     "name": "stderr",
     "output_type": "stream",
     "text": [
      "CasADi -  WARNING(\"S:nlp_f failed: Inf detected for output f, at (row 0, col 0).\") [.../casadi/core/oracle_function.cpp:265]\n",
      "CasADi -  WARNING(\"S:nlp_f failed: Inf detected for output f, at (row 0, col 0).\") [.../casadi/core/oracle_function.cpp:265]\n"
     ]
    }
   ],
   "source": [
    "Estimation.optimize(initial_estimative = [1, 1.5, 0.009],algorithm='bonmin', optimizationReport = True, parametersReport = False)"
   ]
  },
  {
   "cell_type": "markdown",
   "metadata": {},
   "source": [
    "## Parameters uncertainty\n",
    "\n",
    "\n",
    "In this example, it is possible to choose the method used to evaluate uncertainty. \n",
    "Available: 2InvHessiana, Geral, SensibilidadeModelo. \n",
    "By definition the likelihood region filling is 'True', if necessary this option can be changed.\n",
    "\n",
    "**uncertaintyMethod:** method for calculating the covariance matrix of the parameters.\n",
    "\n",
    "**parametersReport:** Informs whether the parameters report should be created (True or False).\n",
    "\n",
    "**objectiveFunctionMapping:** Deals with mapping the objective function (True or False).\n",
    "\n",
    "**iterations:** Number of iterations to perform the mapping of the objective function. The higher the better mapping, but it increases the execution time.\n",
    "\n",
    "If the user **does not** have an interest in **evaluating the uncertainty of the parameters**, just **do not** perform **Estime.parametersUncertainty**."
   ]
  },
  {
   "cell_type": "code",
   "execution_count": 7,
   "metadata": {},
   "outputs": [],
   "source": [
    "Estimation.parametersUncertainty(uncertaintyMethod='SensibilidadeModelo', objectiveFunctionMapping=True, parametersReport = False, iterations=5000)"
   ]
  },
  {
   "cell_type": "markdown",
   "metadata": {},
   "source": [
    "## Prediction and residual analysis\n",
    "\n",
    "The prediction method evaluates the dependent quantity based on the estimated parameters, the model informed by the user, and data of the dependent quantities. In case validation data are informed (through the setConjunto method, defining \"dataType = predicao\") these will be used to perform the prediction. Also, this method evaluates the covariance matrix of the prediction, in case the parametersUncertainty method has been performed.\n",
    " \n",
    "Through residual analysis, it is possible to obtain indicators of estimation quality.  Aspects such as mean, homoscedasticity (which allows us to infer possible dependency and/or tendency relationships between the variables), normality, $R^2$ and autocorrelation are evaluated. The optimal point of the objective function is also evaluated. The residues analysis is performed primarily with the validation data.\n",
    "\n",
    "**export_y:** Exports the calculated data of y, its uncertainty, and degrees of freedom in a txt with comma separation (True or False);\n",
    "\n",
    "**export_y_xls:** Exports the calculated data of y, its uncertainty, and degrees of freedom in a xls (True or False);\n",
    "\n",
    "**export_cov_y:** Exports the covariance matrix of y (True or False);\n",
    "\n",
    "**export_x:** Exports the calculated data of x, its uncertainty, and degrees of freedom in a txt with comma separation(True or False);"
   ]
  },
  {
   "cell_type": "code",
   "execution_count": 8,
   "metadata": {},
   "outputs": [],
   "source": [
    "Estimation.prediction(export_y=True,export_y_xls=True, export_cov_y=True, export_x=True)\n",
    "Estimation.residualAnalysis()"
   ]
  },
  {
   "cell_type": "markdown",
   "metadata": {},
   "source": [
    "## Plots and reports\n",
    "\n",
    "At this stage, the results obtained by the program are exported: reports and graphs. \n",
    "The graphs are generated according to the steps that have been performed. In the reports, information about the statistical tests, objective function value, covariance matrix of the parameters, optimization status, among others, are printed."
   ]
  },
  {
   "cell_type": "code",
   "execution_count": 9,
   "metadata": {},
   "outputs": [
    {
     "data": {
      "text/plain": [
       "<Figure size 432x288 with 0 Axes>"
      ]
     },
     "metadata": {},
     "output_type": "display_data"
    },
    {
     "data": {
      "text/plain": [
       "<Figure size 360x240 with 0 Axes>"
      ]
     },
     "metadata": {},
     "output_type": "display_data"
    }
   ],
   "source": [
    "Estimation.plots()\n",
    "Estimation.reports()"
   ]
  },
  {
   "cell_type": "markdown",
   "metadata": {},
   "source": [
    "## References: \n",
    "\n",
    "[1] SANJARI, Ehsan. A new simple method for accurate calculation of saturated vapor pressure. Elsevier. \n",
    "p. 12-16. mar. 2013.\n",
    "\n",
    "[2] ZAITSEVA, Ksenia V.; ZAITSAU, Dzmitry H.; VARFOLOMEEV, Mikhail A.. \n",
    "Vapour pressures and enthalpies of vaporisation of alkyl formamides. Elsevier. Alemanha, p. 228-238. maio 2019.\n",
    "\n",
    "[3] INMETRO.: Avaliação de dados de medição — Guia para a expressão de incerteza de medição. Rio de Janeiro: Jcgm, 2008."
   ]
  }
 ],
 "metadata": {
  "kernelspec": {
   "display_name": "Python 3",
   "language": "python",
   "name": "python3"
  },
  "language_info": {
   "codemirror_mode": {
    "name": "ipython",
    "version": 3
   },
   "file_extension": ".py",
   "mimetype": "text/x-python",
   "name": "python",
   "nbconvert_exporter": "python",
   "pygments_lexer": "ipython3",
   "version": "3.8.5"
  }
 },
 "nbformat": 4,
 "nbformat_minor": 4
}
