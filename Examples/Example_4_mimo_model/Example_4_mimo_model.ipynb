{
 "cells": [
  {
   "cell_type": "markdown",
   "metadata": {},
   "source": [
    "# Example: Suggested exercise for parameter estimation.\n",
    "\n",
    "## Introduction\n",
    "\n",
    "This example addresses the adjustment of models for the experimental data presented in Table 1. It is necessary to choose between two models to evaluate which one best fits this data:\n",
    "\n",
    "$y = \\left(\\frac{α_1\\cdot x}{1+β_1\\cdot x}\\right)$          (1)\n",
    "\n",
    "$y = \\left(α_2\\cdot x^{β_2}\\right)$                           (2)\n",
    "\n",
    "on what $α_1$, $α_2$, $β_1$ e $β_2$ are the parameters to be estimated for each model. This example is proposed by Schwaab e Pinto [1].\n",
    "\n",
    "\n",
    "**Table 1: Experimental data. Font: [1]**\n",
    "\n",
    "\n",
    "Variables|  1 |  2 |  3 |  4 |  5  |  6  |  7  |  8  |  9  |  10 |\n",
    ":------:|:--:|:--:|:--:|:--:|:---:|:---:|:---:|:---:|:---:|:---:|\n",
    "$x^e$   |1.00|2.00|3.00|5.00|10.00|15.00|20.00|30.00|40.00|50.00|\n",
    "$y^e$   |1.66|6.07|7.55|9.72|15.24|18.79|19.33|22.38|24.27|25.51|\n",
    "\n",
    "The optimization problem to be solved uses the objective function of least squares weighted by the inverse of the variance, according to [2]:\n",
    "\n",
    "$F_{Obj} = \\sum_{i=1}^{NE} \\left({\\frac{(y^{e}_i-y_i^{m})^2}{σ^2_{i}}}\\right)$ (3)\n",
    "\n",
    "subject to (1) or (2).\n",
    "\n",
    "To solve this problem in the MT_PEU the followed symbols will be used:\n",
    "\n",
    "* Symbols of the independent quantities: $x_1$, $x_2$\n",
    "* Symbols of the dependent quantities: $y_1$, $y_1$\n",
    "* Symbols of the parameters: $α_1$, $α_2$, $β_1$, $β_2$\n",
    "\n",
    "Sub-index 1 refers to model (1), and sub-index 2 refers to model (2).\n",
    "\n",
    "## Packages importing\n",
    "\n",
    "Importing libraries (packages) needed to run the code.\n",
    "\n",
    "* **MT_PEU**: library that contains the main functionalities of the tool\n",
    "\n",
    "    * Import the class **EstimacaoNaoLinear**, that will be used in this non-linear estimation example.\n",
    "\n",
    "* **casadi**: library for symbolic computation\n",
    "\n",
    "    * only the function **vertcat** will be required to build the model"
   ]
  },
  {
   "cell_type": "code",
   "execution_count": 2,
   "metadata": {},
   "outputs": [],
   "source": [
    "from sys import path \n",
    "path.append(\"../../modules\")#A list of strings that specifies the search path for modules\n",
    "from MT_PEU import EstimacaoNaoLinear\n",
    "from casadi import vertcat # function to concatenate model expressions"
   ]
  },
  {
   "cell_type": "markdown",
   "metadata": {},
   "source": [
    "## Model creation\n",
    "\n",
    "The models (1) and (2) represent the behavior of the dependent quantity, in which the parameters $α_1$, $α_2$, $β_1$ e $β_2$ will be estimated..\n",
    "\n",
    "These models are then defined in the form of a python subroutine (**def**) and represented by:"
   ]
  },
  {
   "cell_type": "code",
   "execution_count": 3,
   "metadata": {},
   "outputs": [],
   "source": [
    "def Model(param,x,args):\n",
    "    \n",
    "    a1, b1, a2, b2 = param[0], param[1], param[2], param[3]\n",
    "    x1, x2 = x[:,0], x[:,1]\n",
    "\n",
    "    return vertcat(a1*x1/(1+b1*x1), a2*(x2**b2))"
   ]
  },
  {
   "cell_type": "markdown",
   "metadata": {},
   "source": [
    "## Class initialization\n",
    "\n",
    "The first step to perform the estimation is to configure the class **EstimacaoNaoLinear** through the inclusion of basic information.:\n",
    "\n",
    "* The model,\n",
    "* List of symbols of the independent quantities *(x1,x2)*; \n",
    "* List of symbols for  uncertainty *(ux1,ux2)*;\n",
    "* List of symbols of the dependent quantities *(y1,y2)*;\n",
    "* List of symbols for  uncertainty *(uy1,uy2)*;\n",
    "* List of symbols of the parameters *(alpha1,alpha2, beta1, beta2)*;\n",
    "* List of symbols for parameters written in LaTex *(Label_latex_param)*;\n",
    "* List of units of measure for independent variables *(Units_y)*;\n",
    "* The project name, the folder's name where the results will be saved."
   ]
  },
  {
   "cell_type": "code",
   "execution_count": 4,
   "metadata": {},
   "outputs": [],
   "source": [
    "Estime = EstimacaoNaoLinear(Model,symbols_x=['x1','x2'],symbols_ux=['ux1','ux2'],symbols_y=['y1','y2'],symbols_uy=['uy1','uy2'],symbols_param=['alpha1','alpha2', 'beta1', 'beta2'],\n",
    "                          label_latex_param=[r'$\\alpha_1$',r'$\\alpha_2$',r'$\\beta_1$',r'$\\beta_2$'],units_y=['kg','kg'],Folder='Example4')\n"
   ]
  },
  {
   "cell_type": "markdown",
   "metadata": {},
   "source": [
    "## Data inclusion\n",
    "\n",
    "The experimental data provided in Table 1 independent quantities ($x_1$ e $x_2$) with your uncertainty ($ux_1$ e $ux_2$) and Table 2   dependent quantities ($y_1$ e $y_2$) with your uncertainty ($uy_1$ e $uy_2$), are presented below in the form of .xlsx and .csv:"
   ]
  },
  {
   "cell_type": "markdown",
   "metadata": {},
   "source": [
    "### data_exa4_independent"
   ]
  },
  {
   "cell_type": "markdown",
   "metadata": {},
   "source": [
    "\n",
    "![figura](../../imagens/data_exemple4_independent.png)\n",
    "\n",
    "**Figure 1: Example 4. Font: [1]**"
   ]
  },
  {
   "cell_type": "markdown",
   "metadata": {},
   "source": [
    "### data_exa4_dependent"
   ]
  },
  {
   "cell_type": "raw",
   "metadata": {},
   "source": [
    "y1;uy1;y2;uy2\n",
    "1.66;1;1.66;1\n",
    "6.07;1;6.07;1\n",
    "7.55;1;7.55;1\n",
    "9.72;1;9.72;1\n",
    "15.24;1;15.24;1\n",
    "18.79;1;18.79;1\n",
    "19.33;1;19.33;1\n",
    "22.38;1;22.38;1\n",
    "24.27;1;24.27;1\n",
    "25.51;1;25.51;1"
   ]
  },
  {
   "cell_type": "markdown",
   "metadata": {},
   "source": [
    "**Entering the experimental data in MT_PEU:**\n",
    "\n",
    "The *setDados* method is used to include the data for dependent and independent quantities. Syntax:\n",
    "\n",
    "* The names of the files containing the data must be passed as  a list of strings."
   ]
  },
  {
   "cell_type": "code",
   "execution_count": 5,
   "metadata": {},
   "outputs": [],
   "source": [
    "Estime.setDados(data=[\"data_exa4_independent.xlsx\",\"data_exa4_dependent.csv\"])"
   ]
  },
  {
   "cell_type": "markdown",
   "metadata": {},
   "source": [
    "## Optimization\n",
    "\n",
    "In this example, the user can choose the algorithm to be used in the optimization. \n",
    "Available: 'ipopt', 'bonmin' and 'sqpmethod'.\n",
    "\n",
    "If the user does not choose any optimization method, the default algorithm will be used: ipopt, with initial estimative equal to [3, 0.1, 5,0.4].\n",
    "\n",
    "**Lower_bound** and **upper_bound:** They refer to the upper and lower limits of the parameters related to their physical characteristics;\n",
    "\n",
    "**algorithm:** Informs the optimization algorithm that will be used. Each algorithm has its own keywords;\n",
    "\n",
    "**optimizationReport:** Informs whether the optimization report should be created (True or False);\n",
    "\n",
    "**parametersReport:** Informs whether the parameters report should be created (True or False)."
   ]
  },
  {
   "cell_type": "code",
   "execution_count": 6,
   "metadata": {},
   "outputs": [
    {
     "name": "stdout",
     "output_type": "stream",
     "text": [
      "\n",
      "******************************************************************************\n",
      "This program contains Ipopt, a library for large-scale nonlinear optimization.\n",
      " Ipopt is released as open source code under the Eclipse Public License (EPL).\n",
      "         For more information visit http://projects.coin-or.org/Ipopt\n",
      "******************************************************************************\n",
      "\n"
     ]
    }
   ],
   "source": [
    "Estime.optimize(initial_estimative=[3,0.1,5,0.4], algorithm='ipopt', lower_bound=[0.2,0.09,3.1,0.3], upper_bound=[3.6,0.3,5.6,0.6],\n",
    "                optimizationReport = True, parametersReport = False)"
   ]
  },
  {
   "cell_type": "markdown",
   "metadata": {},
   "source": [
    "## Parameters uncertainty\n",
    "\n",
    "\n",
    "In this example, it is possible to choose the method used to evaluate uncertainty. \n",
    "Available: 2InvHessiana, Geral, SensibilidadeModelo. \n",
    "By definition the likelihood region filling is 'True', if necessary this option can be changed.\n",
    "\n",
    "**uncertaintyMethod:** method for calculating the covariance matrix of the parameters.\n",
    "\n",
    "**parametersReport:** Informs whether the parameters report should be created (True or False).\n",
    "\n",
    "**objectiveFunctionMapping:** Deals with mapping the objective function (True or False).\n",
    "\n",
    "**lower_bound:** Lower limit of parameters for mapping the coverage region.\n",
    "\n",
    "**upper_bound:** Upper limit of parameters for mapping the coverage region.\n",
    "\n",
    "If the user **does not** have an interest in **evaluating the uncertainty of the parameters**, just **do not** perform **Estime.parametersUncertainty**."
   ]
  },
  {
   "cell_type": "code",
   "execution_count": 7,
   "metadata": {},
   "outputs": [],
   "source": [
    "Estime.parametersUncertainty(uncertaintyMethod='2InvHessiana', objectiveFunctionMapping=True, lower_bound=[1,0.04,1.75,0.175], upper_bound=[4.5,0.16,6.75,1],\n",
    "                             parametersReport = True)"
   ]
  },
  {
   "cell_type": "markdown",
   "metadata": {},
   "source": [
    "## Prediction and residual analysis\n",
    "\n",
    "The prediction method evaluates the dependent quantity based on the estimated parameters. To give more credibility to the results, the covariance matrix of the estimates obtained through the model is also evaluated. \n",
    " \n",
    "The residue analysis provides information concerning the quality of the model, for example: (i) trend relationship not included in the model, (ii) undue correlations, etc. Such assessments are based on statistical tests such as homoscedasticity and $ðchi^2$.\n",
    "\n",
    "The prediction and the residual analysis are preferably performed with validation data when available.\n",
    "\n",
    "**export_y:** Exports the calculated data of y, its uncertainty, and degrees of freedom in a txt with comma separation (True or False);\n",
    "\n",
    "**export_y_xls:** Exports the calculated data of y, its uncertainty, and degrees of freedom in a xls (True or False);\n",
    "\n",
    "**export_cov_y:** Exports the covariance matrix of y (True or False);\n",
    "\n",
    "**export_x:** Exports the calculated data of x, its uncertainty, and degrees of freedom in a txt with comma separation(True or False);\n",
    "\n",
    "**export_cov_x:** Exports the covariance matrix of x (True or False)."
   ]
  },
  {
   "cell_type": "code",
   "execution_count": 8,
   "metadata": {},
   "outputs": [],
   "source": [
    "Estime.prediction(export_y=True,export_y_xls=True, export_cov_y=True, export_x=True, export_cov_x=True)\n",
    "Estime.residualAnalysis(report=True)"
   ]
  },
  {
   "cell_type": "markdown",
   "metadata": {},
   "source": [
    "## Plots and reports\n",
    "\n",
    "At this stage, the results obtained by the program are exported: reports and graphs. \n",
    "The graphs are generated according to the steps that have been performed. In the reports, information about the statistical tests, objective function value, covariance matrix of the parameters, optimization status, among others, are printed."
   ]
  },
  {
   "cell_type": "code",
   "execution_count": 9,
   "metadata": {},
   "outputs": [
    {
     "name": "stderr",
     "output_type": "stream",
     "text": [
      "../../modules\\subrotinas.py:93: RuntimeWarning: divide by zero encountered in double_scalars\n",
      "  alpha  = [vecs[1,0]/vecs[0,0],vecs[1,1]/vecs[0,1]]\n",
      "../../modules\\subrotinas.py:94: RuntimeWarning: invalid value encountered in double_scalars\n",
      "  lamb   = [sqrt(c2/(invcov[0,0]+2*alpha_i*invcov[0,1] + alpha_i**2*invcov[1,1])) for alpha_i in alpha]\n",
      "../../modules\\subrotinas.py:93: RuntimeWarning: divide by zero encountered in double_scalars\n",
      "  alpha  = [vecs[1,0]/vecs[0,0],vecs[1,1]/vecs[0,1]]\n",
      "../../modules\\subrotinas.py:94: RuntimeWarning: invalid value encountered in double_scalars\n",
      "  lamb   = [sqrt(c2/(invcov[0,0]+2*alpha_i*invcov[0,1] + alpha_i**2*invcov[1,1])) for alpha_i in alpha]\n",
      "../../modules\\subrotinas.py:93: RuntimeWarning: divide by zero encountered in double_scalars\n",
      "  alpha  = [vecs[1,0]/vecs[0,0],vecs[1,1]/vecs[0,1]]\n",
      "../../modules\\subrotinas.py:94: RuntimeWarning: invalid value encountered in double_scalars\n",
      "  lamb   = [sqrt(c2/(invcov[0,0]+2*alpha_i*invcov[0,1] + alpha_i**2*invcov[1,1])) for alpha_i in alpha]\n",
      "../../modules\\subrotinas.py:93: RuntimeWarning: divide by zero encountered in double_scalars\n",
      "  alpha  = [vecs[1,0]/vecs[0,0],vecs[1,1]/vecs[0,1]]\n",
      "../../modules\\subrotinas.py:94: RuntimeWarning: invalid value encountered in double_scalars\n",
      "  lamb   = [sqrt(c2/(invcov[0,0]+2*alpha_i*invcov[0,1] + alpha_i**2*invcov[1,1])) for alpha_i in alpha]\n"
     ]
    },
    {
     "data": {
      "text/plain": [
       "<Figure size 432x288 with 0 Axes>"
      ]
     },
     "metadata": {},
     "output_type": "display_data"
    },
    {
     "data": {
      "text/plain": [
       "<Figure size 360x240 with 0 Axes>"
      ]
     },
     "metadata": {},
     "output_type": "display_data"
    }
   ],
   "source": [
    "Estime.plots()\n",
    "Estime.reports()"
   ]
  },
  {
   "cell_type": "markdown",
   "metadata": {},
   "source": [
    "## References: \n",
    "\n",
    "[1] SRINIVASAN, R.; LEVI, A. A.. Kinetics of the Thermal Isomerization of Bicyclo [2.1.1 ]hexane. Journal Of The American Chemical Society, [s.l.], v. 85, n. 21, p.3363-3365, 5 nov. 1963. American Chemical Society (ACS)\n",
    "\n",
    "[2] SCHWAAB, M.M.;PINTO, J.C. Análise de Dados Experimentais I: Fundamentos da Estátistica e Estimação de Parâmetros. \n",
    "Rio de Janeiro: e-papers, 2007.\n",
    "\n",
    "INMETRO.: Avaliação de dados de medição — Guia para a expressão de incerteza de medição. Rio de Janeiro: Jcgm, 2008."
   ]
  }
 ],
 "metadata": {
  "kernelspec": {
   "display_name": "Python 3",
   "language": "python",
   "name": "python3"
  },
  "language_info": {
   "codemirror_mode": {
    "name": "ipython",
    "version": 3
   },
   "file_extension": ".py",
   "mimetype": "text/x-python",
   "name": "python",
   "nbconvert_exporter": "python",
   "pygments_lexer": "ipython3",
   "version": "3.8.5"
  }
 },
 "nbformat": 4,
 "nbformat_minor": 4
}
