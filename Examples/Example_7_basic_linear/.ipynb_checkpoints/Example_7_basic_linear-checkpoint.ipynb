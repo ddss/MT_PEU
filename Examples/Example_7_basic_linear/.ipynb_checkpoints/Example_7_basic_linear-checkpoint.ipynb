{
 "cells": [
  {
   "cell_type": "markdown",
   "metadata": {},
   "source": [
    "# Example: Thermal conductivity.\n",
    "\n",
    "## Introduction\n",
    "\n",
    "The example deals with estimating the value of the thermal conductivity $ k $ [2]. The set of experimental data is shown in Table 1.\n",
    "\n",
    "**Table 1: Experimental data. Font: [1]**\n",
    "\n",
    "Quantity|____|____|____|____| \n",
    ":------:|:--:|:--:|:--:|:--:|\n",
    "$x$     |10.0 |20.0 |30.0 |40.0 |\n",
    "$q$     |1050.0|2000.0|2950.0|4000.0|\n",
    "\n",
    "Fourier's Law provides the fundamental equation for the design of\n",
    "isolations [1]:\n",
    "\n",
    "$q =  k\\cdot A \\cdot(\\frac{T_2-T_1}{L})$ (1)\n",
    "\n",
    "To simplify the presentation and help to fix the nomenclature\n",
    "proposal, the problem is described as:\n",
    "         \n",
    "$y = α\\cdot x + β $ (2),\n",
    "\n",
    "where $ x $ is the independent quantity $x = A \\cdot(\\frac{T_2-T_1}{L})$, $ y $ is the quantity ($ q $) and α is the ($ k $).\n",
    "\n",
    "The optimization problem to be solved uses the objective function of least squares weighted by the inverse of the variance, according to [3]:\n",
    "\n",
    "$\\min_{K} \\sum_{i=1}^{NE} \\left(\\frac{y^{exp}_i-y_i(K)}{u^2_{y_i}}\\right)$ (3)\n",
    "\n",
    "\n",
    "The following symbols will be used to solve this problem in the MT_PEU:\n",
    "\n",
    "* Symbols of the independent quantities: $x$\n",
    "* Symbols of the dependent quantities: $q$\n",
    "* Symbols of the parameters: $k$.\n",
    "\n",
    "## Packages importing\n",
    "\n",
    "Importing libraries (packages) needed to run the code.\n",
    "\n",
    "* **MT_PEU_Linear**: library that contains the main functionalities of the tool\n",
    "\n",
    "    * Import the class **EstimacaoLinear**, that will be used in this linear estimation example."
   ]
  },
  {
   "cell_type": "code",
   "execution_count": 1,
   "metadata": {},
   "outputs": [],
   "source": [
    "from MT_PEU_Linear import EstimacaoLinear"
   ]
  },
  {
   "cell_type": "markdown",
   "metadata": {},
   "source": [
    "## Class initialization\n",
    "\n",
    "The first step to perform the estimation is to configure the class **EstimacaoLinear** through the inclusion of basic information.:\n",
    "\n",
    "* List of symbols of the independent quantities *(x)*; \n",
    "* List of symbols of the dependent quantities *(q)*; \n",
    "* List of symbols of the parameters *(k)*;\n",
    "* The project name, the folder's name where the results will be saved."
   ]
  },
  {
   "cell_type": "code",
   "execution_count": 22,
   "metadata": {},
   "outputs": [],
   "source": [
    "ER = EstimacaoLinear(['q'],['x'],['k'],folder='Exemple7')"
   ]
  },
  {
   "cell_type": "markdown",
   "metadata": {},
   "source": [
    "## Data inclusion\n",
    "\n",
    "The experimental data provided in Table 1 of the dependent quantity (q) and the independent quantities (x), are presented below in the form of lists:"
   ]
  },
  {
   "cell_type": "code",
   "execution_count": 1,
   "metadata": {},
   "outputs": [],
   "source": [
    "##Independent quantity\n",
    "x = [10, 20, 30, 40]\n",
    "\n",
    "#Dependent quantity\n",
    "q = [1050, 2000, 2950, 4000]"
   ]
  },
  {
   "cell_type": "markdown",
   "metadata": {},
   "source": [
    "The MT_PEU **needs** the **uncertainties of the experimental data** (ux, uy) to be informed. In this example, the value 1 has been assumed for all uncertainties."
   ]
  },
  {
   "cell_type": "code",
   "execution_count": 24,
   "metadata": {},
   "outputs": [],
   "source": [
    "ux = [1]*4\n",
    "uq = [1]*4"
   ]
  },
  {
   "cell_type": "markdown",
   "metadata": {},
   "source": [
    "**Entering the experimental data in MT_PEU:**\n",
    "\n",
    "The *setDados* method is used to include the data for dependent and independent quantities. Syntax:\n",
    "\n",
    "* Quantity identification, whether it is independent or dependent: 0 or 1 (respectively)\n",
    "* The experimental data and their uncertainties must be entered in sequence in the form of tuples."
   ]
  },
  {
   "cell_type": "code",
   "execution_count": 25,
   "metadata": {},
   "outputs": [],
   "source": [
    "ER.setDados(0,(x,ux))\n",
    "ER.setDados(1,(q,uq))"
   ]
  },
  {
   "cell_type": "markdown",
   "metadata": {},
   "source": [
    "Defines that the experimental data previously entered will be used as a data set for which parameters will be estimated:"
   ]
  },
  {
   "cell_type": "code",
   "execution_count": 26,
   "metadata": {},
   "outputs": [],
   "source": [
    "ER.setConjunto()"
   ]
  },
  {
   "cell_type": "markdown",
   "metadata": {},
   "source": [
    "## Optimization"
   ]
  },
  {
   "cell_type": "code",
   "execution_count": 27,
   "metadata": {},
   "outputs": [],
   "source": [
    "ER.optimize()"
   ]
  },
  {
   "cell_type": "markdown",
   "metadata": {},
   "source": [
    "## Parameters uncertainty\n",
    "\n",
    "In this example, it is possible to choose the method used to evaluate uncertainty. \n",
    "Available: 2InvHessiana, Geral, SensibilidadeModelo. \n",
    "By definition the likelihood region filling is 'True', if necessary this option can be changed.\n",
    "\n",
    "If the user **does not** have an interest in **evaluating the uncertainty of the parameters**, just **do not** perform **ER.parametersUncertainty**."
   ]
  },
  {
   "cell_type": "code",
   "execution_count": 28,
   "metadata": {},
   "outputs": [],
   "source": [
    "ER.parametersUncertainty(objectiveFunctionMapping='MonteCarlo')"
   ]
  },
  {
   "cell_type": "markdown",
   "metadata": {},
   "source": [
    "## Prediction and residual analysis\n",
    "\n",
    "The prediction method evaluates the dependent quantity based on the estimated parameters, the model informed by the user, and data of the dependent quantities. In case validation data are informed (through the setConjunto method, defining \"dataType = predicao\") these will be used to perform the prediction. Also, this method evaluates the covariance matrix of the prediction, in case the parametersUncertainty method has been performed.\n",
    " \n",
    "Through residual analysis, it is possible to obtain indicators of estimation quality.  Aspects such as mean, homoscedasticity (which allows us to infer possible dependency and/or tendency relationships between the variables), normality, $R^2$ and autocorrelation are evaluated. The optimal point of the objective function is also evaluated. The residues analysis is performed primarily with the validation data."
   ]
  },
  {
   "cell_type": "code",
   "execution_count": 29,
   "metadata": {},
   "outputs": [],
   "source": [
    "ER.prediction()\n",
    "ER.residualAnalysis()"
   ]
  },
  {
   "cell_type": "markdown",
   "metadata": {},
   "source": [
    "## Plots and reports\n",
    "\n",
    "At this stage, the results obtained by the program are exported: reports and graphs. \n",
    "The graphs are generated according to the steps that have been performed. In the reports, information about the statistical tests, objective function value, covariance matrix of the parameters, optimization status, among others, are printed."
   ]
  },
  {
   "cell_type": "code",
   "execution_count": 30,
   "metadata": {},
   "outputs": [
    {
     "name": "stderr",
     "output_type": "stream",
     "text": [
      "C:\\Users\\User\\Desktop\\MT_PEU\\MT_PEU.py:2060: UserWarning: The coverage region graphs could not be created, because there is only one parameter.\n",
      "  warn('The coverage region graphs could not be created, because there is only one parameter.',UserWarning)\n"
     ]
    },
    {
     "data": {
      "text/plain": [
       "<Figure size 432x288 with 0 Axes>"
      ]
     },
     "metadata": {},
     "output_type": "display_data"
    },
    {
     "data": {
      "text/plain": [
       "<Figure size 360x240 with 0 Axes>"
      ]
     },
     "metadata": {},
     "output_type": "display_data"
    }
   ],
   "source": [
    "ER.plots()\n",
    "ER.reports()"
   ]
  },
  {
   "cell_type": "markdown",
   "metadata": {},
   "source": [
    "## References: \n",
    "\n",
    "[1] SCHWAAB, M.M.;PINTO, J.C. Análise de Dados Experimentais I: Fundamentos da Estátistica e Estimação de Parâmetros. \n",
    "Rio de Janeiro: e-papers, 2007.\n",
    "\n",
    "[2] INMETRO.: Avaliação de dados de medição — Guia para a expressão de incerteza de medição. Rio de Janeiro: Jcgm, 2008."
   ]
  },
  {
   "cell_type": "code",
   "execution_count": null,
   "metadata": {},
   "outputs": [],
   "source": []
  }
 ],
 "metadata": {
  "kernelspec": {
   "display_name": "Python 3",
   "language": "python",
   "name": "python3"
  },
  "language_info": {
   "codemirror_mode": {
    "name": "ipython",
    "version": 3
   },
   "file_extension": ".py",
   "mimetype": "text/x-python",
   "name": "python",
   "nbconvert_exporter": "python",
   "pygments_lexer": "ipython3",
   "version": "3.7.3"
  }
 },
 "nbformat": 4,
 "nbformat_minor": 2
}
