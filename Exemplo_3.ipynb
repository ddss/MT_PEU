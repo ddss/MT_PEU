{
 "cells": [
  {
   "cell_type": "markdown",
   "metadata": {},
   "source": [
    "# Exemplo: Modelo cinético de reação de isomerização\n",
    "\n",
    "## Introdução\n",
    "\n",
    "\n",
    "O problema abordado refere-se à estimação dos parâmetros do modelo cinético da reação de pirólise  do biciclohexano na fase de vapor. Esta reação tem como produto o 1,5-hexadieno [1] e é exemplificada pela Figura 1.\n",
    "\n",
    "**Figura 1: Reação de pirólise do biciclohexano. Fonte: [1]**\n",
    "![](./P.jpg)\n",
    "\n",
    "Os dados experimentais para esta reação, numa faixa de temperatura de 327 à 366 ºC, são apresentados na Tabela 1.     \n",
    "\n",
    "**Tabela 1: Dados experimentais. Fonte: [1]**     \n",
    "                                               \n",
    "  Temperatura / °C | Pressâo do reagente (mm) | Tempo (min) | Fração do reagente (%) |       $k$ x $10^{5}$\n",
    "  :-------------: |  :----------------------: |:-----------:|:---------------------: |:------------------------:\n",
    "         327.2    |         18.4                        |120              |90.0                  |1.46 \n",
    "         327.2    |         18.3                        |60.0             |94.9                  |1.43\n",
    "         338.9    |         18.3                        |60.0             |88.6                  |3.37\n",
    "         338.9    |         18.1                        |120              |78.5                  |3.36\n",
    "         338.9    |         18.9                        |120              |79.1                  |3.25\n",
    "         338.9    |         18.6                        |60.0             |89.0                  |3.44\n",
    "         338.9    |         22.5                        |60               |78.7                  |6.64  \n",
    "         338.9    |         19.9                        |45.0             |69.5                  |13.5\n",
    "         366.3    |         24.3                        |15.0             |80.8                  |23.6\n",
    "           \n",
    "           \n",
    "O modelo cinético para esta reação é dado por [2]: \n",
    "\n",
    "$y = \\exp\\left[-K_0\\cdot t \\cdot \\exp\\left(-E(\\frac{1}{T}\\right))\\right]$,                  (1)\n",
    "\n",
    "em que $y$ é a fração do reagente, $t$ é o tempo, $T$ é a temperatura em K, por fim, $k_o$ e $E$ são os parâmetros a serem estimados.\n",
    "\n",
    "Então, o problema de otimização a ser resolvido envolve o uso da função objetivo de mínimos quadrados ponderados pelo inverso da variância, conforme [2]:\n",
    "\n",
    "$\\min_{ko,E} \\sum_{i=1}^{NE} \\left(\\frac{y^{exp}_i-y_i(k_o,E)}{u^2_{y_i}}\\right)$ (2)\n",
    "\n",
    "sujeito à (1).\n",
    "\n",
    "Para resolução deste problema no MT_PEU serão usados os símbolos:\n",
    "\n",
    "* Símbolos das grandezas independentes (tempo e temperatura): t, T\n",
    "* Símbolos das grandezas dependentes (fração de reagente): y\n",
    "* Símbolos dos parâmetros: ko, E\n",
    "\n",
    "## Importação de pacotes\n",
    "\n",
    "Importação de bibliotecas (pacotes) necessárias para execução do código.\n",
    "\n",
    "* **MT_PEU**: biblioteca que contém as principais funcionalidades da ferramenta\n",
    "\n",
    "    * Importar a classe **EstimacaoNaoLinear**, que será utilizada neste exemplo de estimação não linear\n",
    "\n",
    "* **numpy**: biblioteca para computação científica\n",
    "\n",
    "    * será necessária somente a função **exp** (exponencial) para construção do modelo"
   ]
  },
  {
   "cell_type": "code",
   "execution_count": 1,
   "metadata": {},
   "outputs": [],
   "source": [
    "from IPython import display #Modificações futuras para a geração de gráficos\n",
    "from ipywidgets.widgets.interaction import show_inline_matplotlib_plots#Modificações futuras para a geração de gráficos\n",
    "\n",
    "from MT_PEU import EstimacaoNaoLinear\n",
    "from numpy import exp"
   ]
  },
  {
   "cell_type": "markdown",
   "metadata": {},
   "source": [
    "## Criação de modelo\n",
    "\n",
    "O modelo (1) representa o comportamento da grandeza dependente, no qual os parâmetros $k_o$ e $E$ serão estimados.\n",
    "\n",
    "Este modelo é definido, então, na forma de uma subrotina, **def**, do python e representado por:"
   ]
  },
  {
   "cell_type": "code",
   "execution_count": 2,
   "metadata": {},
   "outputs": [],
   "source": [
    "def Modelo (param, x, args):\n",
    "\n",
    "    ko, E = param[0], param[1]\n",
    "    tempo, T = x[0], x[1] \n",
    "    \n",
    "    return exp(-ko*tempo*exp(-E*(1/T-1./630.)))"
   ]
  },
  {
   "cell_type": "markdown",
   "metadata": {},
   "source": [
    "## Inicialização de classe\n",
    "\n",
    "Para executar a estimação, o primeiro passo é configurar a classe **EstimacaoNaoLinear**, inicialmente, incluindo informações básicas:\n",
    "\n",
    "* O modelo,\n",
    "* Os símbolos para as grandeza independentes *(x)*; \n",
    "* Os símbolos para as grandezas dependentes *(y)*; \n",
    "* Os símbolos para os parâmetros *(param)*;\n",
    "* O nome do projeto, o nome da pasta onde serão gerados os resultados.\n"
   ]
  },
  {
   "cell_type": "code",
   "execution_count": 3,
   "metadata": {},
   "outputs": [],
   "source": [
    "Estime = EstimacaoNaoLinear(Modelo, simbolos_x=[r't','T'], unidades_x=['s','K'], label_latex_x=[r'$t$','$T$'],\n",
    "                            simbolos_y=[r'y'], unidades_y=['adm'],\n",
    "                            simbolos_param=['ko','E'], unidades_param=['adm','K'],label_latex_param=[r'$k_o$',r'$E$'],\n",
    "                            Folder='ModeloCineticoEX3')"
   ]
  },
  {
   "cell_type": "markdown",
   "metadata": {},
   "source": [
    "## Inclusão de dados\n",
    "\n",
    "Os dados experimentais disponibilizados em [2] da variável dependente (y) e das variáveis independentes (t e T), são apresentados abaixo na forma de listas:\n"
   ]
  },
  {
   "cell_type": "code",
   "execution_count": 4,
   "metadata": {},
   "outputs": [],
   "source": [
    "#Tempo\n",
    "tempo = [120.0,60.0,120.0,60.0,30.0,15.0,45.1,90.0,150.0,60.0,60.0,30.0,150.0,90.4,120.0,60.0,60.0,60.0,30.0,\n",
    "         45.1,30.0,45.0,15.0,90.0,25.0,60.1,60.0,30.0,60.0]\n",
    "\n",
    "#Temperatura\n",
    "temperatura = [600.0,612.0,612.0,620.0,620.0,620.0,620.0,620.0,620.0,620.0,620.0,620.0,620.0,620.0,620.0,620.0,620.0,\n",
    "               620.0,631.0,631.0,631.0,631.0,639.0,639.0,639.0,639.0,639.0,639.0,639.0]\n",
    "\n",
    "y = [0.9,0.886,0.791,0.787,0.877,0.938,0.827,0.696,0.582,0.795,0.790,0.883,0.576,0.715,0.673,0.802,0.804,0.804,0.764,\n",
    "     0.688,0.802,0.695,0.808,0.309,0.689,0.437,0.425,0.659,0.449]\n"
   ]
  },
  {
   "cell_type": "markdown",
   "metadata": {},
   "source": [
    "Como entrada **obrigatória**, a plataforma MT_PEU necessita da **incerteza dos dados experimentais** (ux1, ux2, uy1).\n",
    "Neste exemplo, foram adotados o valor 1 para as incertezas."
   ]
  },
  {
   "cell_type": "code",
   "execution_count": 5,
   "metadata": {},
   "outputs": [],
   "source": [
    "uxtempo = [0.001]*29\n",
    "uxtemperatura = [0.05]*29\n",
    "uy1 = [1]*29"
   ]
  },
  {
   "cell_type": "markdown",
   "metadata": {},
   "source": [
    "**Inclusão de dados experimentais na estimação:**\n",
    "\n",
    "O método *setDados* é utilizado para incluir os dados para as grandezas dependentes e independentes. Sintaxe:\n",
    "\n",
    "* identificação da grandeza, se independente ou dependente: 0 ou 1 (respectivamente)\n",
    "* os dados experimentais e suas incertezas inseridos em sequência na forma de tuplas.\n"
   ]
  },
  {
   "cell_type": "code",
   "execution_count": 6,
   "metadata": {},
   "outputs": [],
   "source": [
    "Estime.setDados(0,(tempo,uxtempo),(temperatura,uxtemperatura))\n",
    "Estime.setDados(1,(y,uy1))"
   ]
  },
  {
   "cell_type": "markdown",
   "metadata": {},
   "source": [
    "Define que os dados experimentais previamente inseridos serão utilizados como um conjunto de dados para o qual os \n",
    "parâmetros serão estimados:"
   ]
  },
  {
   "cell_type": "code",
   "execution_count": 7,
   "metadata": {},
   "outputs": [],
   "source": [
    "Estime.setConjunto()"
   ]
  },
  {
   "cell_type": "markdown",
   "metadata": {},
   "source": [
    "## Otimização\n",
    "\n",
    "O software permite utilizar diferentes algoritmos de otimização, a exemplo de: 'Nelder-Mead', 'Powell', 'BFGS', 'L-BFGS-B', 'CG'. \n",
    "Caso opte por não escolher, será utilizado o algoritmo default: Nelder-Mead.\n",
    "\n",
    "Para realizar a otimização é obrigatório informar a estimativa inicial que, neste caso, será [0.005, 20000.000].\n"
   ]
  },
  {
   "cell_type": "code",
   "execution_count": 8,
   "metadata": {},
   "outputs": [
    {
     "name": "stdout",
     "output_type": "stream",
     "text": [
      "\n",
      "******************************************************************************\n",
      "This program contains Ipopt, a library for large-scale nonlinear optimization.\n",
      " Ipopt is released as open source code under the Eclipse Public License (EPL).\n",
      "         For more information visit http://projects.coin-or.org/Ipopt\n",
      "******************************************************************************\n",
      "\n"
     ]
    }
   ],
   "source": [
    "Estime.optimize(initial_estimative= [0.005, 20000.000],algoritmo='ipopt')\n"
   ]
  },
  {
   "cell_type": "markdown",
   "metadata": {},
   "source": [
    "## Incerteza dos parâmetros\n",
    "\n",
    "Como os dados experimentais possuem incerteza, estas devem ser propagadas para os parâmetros.\n",
    "\n",
    "Métodos disponíveis: 2InvHessiana, Geral, SensibilidadeModelo. \n",
    "\n",
    "Para avaliação da região de abrangência dos parâmetros, pelo método da verossimilhança, a opção **preencherregiao**. \n",
    "\n",
    "Por definição o preenchimeto da região de verossimilhança é 'True', caso necessário esta opção pode ser alterada.\n",
    "\n",
    "Caso o usuário **não** tenha interesse em **avaliar a incerteza dos parâmetros**, não execute o método abaixo.\n"
   ]
  },
  {
   "cell_type": "code",
   "execution_count": 10,
   "metadata": {},
   "outputs": [
    {
     "data": {
      "text/plain": [
       "<Figure size 432x288 with 0 Axes>"
      ]
     },
     "metadata": {},
     "output_type": "display_data"
    }
   ],
   "source": [
    "Estime.incertezaParametros(metodoIncerteza='SensibilidadeModelo',preencherregiao=False)\n",
    "\n",
    "Estime.graficos([\"grandezas-entrada\"]) #Mudanças futuras"
   ]
  },
  {
   "cell_type": "markdown",
   "metadata": {},
   "source": [
    "## Predição de análise de resíduos\n",
    "\n",
    " No método predição, é feita a avaliação da grandeza dependente com base nos parâmetros fornecidos. \n",
    " A covariância é avaliada, e é possível inferir sobre a qualidade do modelo. \n",
    " \n",
    " A análise de resíduos, tras mais informações referents à qualidade do modelo, a exemplo: (i) relação de tendência não inclusa no modelo, (ii) correlações indevidas, etc. Testes estatisticos são utilizados para estas avaliações como: (i) o de homocedasticidade, (ii) $\\chi^2$.\n",
    " A predição e análise de residuos é feita com os dados de validação, quando disponíveis."
   ]
  },
  {
   "cell_type": "code",
   "execution_count": 11,
   "metadata": {},
   "outputs": [],
   "source": [
    "Estime.predicao()\n",
    "Estime.analiseResiduos()"
   ]
  },
  {
   "cell_type": "markdown",
   "metadata": {},
   "source": [
    "## Gráficos e relatório\n",
    "\n",
    "Nesta etapa ocorre a geração dos dados de saída do programa : relátorios e gráficos. \n",
    "Os gráficos são gerados de acordo com as etapas que foram realizadas. No relátorio contém informações a respeito.\n",
    "dos testes estatisticos, função objetivo, matriz de covariância, status da otimização, dentre outros.\n"
   ]
  },
  {
   "cell_type": "code",
   "execution_count": 12,
   "metadata": {},
   "outputs": [
    {
     "name": "stderr",
     "output_type": "stream",
     "text": [
      "/home/giufba-admin/Documentos/MT_PEU/MT_PEU.py:2018: UserWarning: Os gráficos de otimizacao não puderam ser criados, o algoritmo de otimização utilizado não possui gráficos de desempenho OU o método otimizacao não foi executado.\n",
      "  warn('Os gráficos de otimizacao não puderam ser criados, o algoritmo de otimização utilizado não possui gráficos de desempenho OU o método otimizacao não foi executado.',UserWarning)\n"
     ]
    },
    {
     "data": {
      "text/plain": [
       "<Figure size 432x288 with 0 Axes>"
      ]
     },
     "metadata": {},
     "output_type": "display_data"
    },
    {
     "data": {
      "text/plain": [
       "<Figure size 360x240 with 0 Axes>"
      ]
     },
     "metadata": {},
     "output_type": "display_data"
    }
   ],
   "source": [
    "etapas = ['otimizacao','grandezas-entrada', 'predicao','grandezas-calculadas','analiseResiduos', 'regiaoAbrangencia']\n",
    "Estime.graficos(etapas)\n",
    "Estime.relatorio()"
   ]
  },
  {
   "cell_type": "markdown",
   "metadata": {},
   "source": [
    "## Referências: \n",
    "\n",
    "[1] SRINIVASAN, R.; LEVI, A. A.. Kinetics of the Thermal Isomerization of Bicyclo [2.1.1 ]hexane. Journal Of The American Chemical Society, [s.l.], v. 85, n. 21, p.3363-3365, 5 nov. 1963. American Chemical Society (ACS)\n",
    "\n",
    "[2] SCHWAAB, M.M.;PINTO, J.C. Análise de Dados Experimentais I: Fundamentos da Estátistica e Estimação de Parâmetros. \n",
    "Rio de Janeiro: e-papers, 2007.\n",
    "\n",
    "INMETRO.: Avaliação de dados de medição — Guia para a expressão de incerteza de medição. Rio de Janeiro: Jcgm, 2008."
   ]
  }
 ],
 "metadata": {
  "kernelspec": {
   "display_name": "Python 3",
   "language": "python",
   "name": "python3"
  },
  "language_info": {
   "codemirror_mode": {
    "name": "ipython",
    "version": 3
   },
   "file_extension": ".py",
   "mimetype": "text/x-python",
   "name": "python",
   "nbconvert_exporter": "python",
   "pygments_lexer": "ipython3",
   "version": "3.7.3"
  }
 },
 "nbformat": 4,
 "nbformat_minor": 2
}
