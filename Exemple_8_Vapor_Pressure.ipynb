{
 "cells": [
  {
   "cell_type": "markdown",
   "metadata": {},
   "source": [
    "# Example: Vapour pressures and enthalpies of vaporisation of alkyl formamides\n",
    "\n",
    "## Introduction\n",
    "\n",
    "This example discusses the assessment of vapor pressure as a function of the temperature of pure N-butylformamide (Figure 1). Initially, we will approach a non-linear model for this assessment; soon after, we will use a linear model resulting from the linearization of the first model, in order to compare the results obtained by the evaluations of both models.\n",
    "\n",
    "**Figure 1: N-butyl-formamide. Font: [1]**\n",
    "\n",
    "<img src=\"Imagens/formamida.png\" alt=\"drawing\" width=\"150\"/>\n",
    "\n",
    "\n",
    "The experimental data are preented in Table 1.\n",
    "\n",
    "**Table 1. Experimental data. Font: [2].**\n",
    "\n",
    "Temperature / K | Vapor pressure (Pa) | Vapor pressure uncertainties\n",
    ":--------------:|:---------------------:|:-------------------------------:\n",
    "        297.1   |         2.93          |        0.08 \n",
    "        298.2   |         3.21          |        0.09\n",
    "        299.3   |         3.49          |        0.09\n",
    "        301.2   |         4.22          |        0.11\n",
    "        304.2   |         5.60          |        0.17\n",
    "        307.2   |         7.31          |        0.21\n",
    "          .     |           .           |          .\n",
    "          .     |           .           |          .\n",
    "          .     |           .           |          .\n",
    "        334.2   |          63.36        |        1.61\n",
    "        337.1   |          78.93        |        2.00\n",
    "        340.2   |          93.65        |        2.37\n",
    "        343.2   |          115.11       |        2.90\n",
    "        346.2   |          140.27       |        3.53\n",
    "        349.1   |          171.89       |        4.32\n",
    "        352.2   |          208.00       |        5.23\n",
    "        \n",
    "The vapor pressure model for this problem is given by [1]:\n",
    "\n",
    "$P = exp(\\frac{A}{R}+\\frac{B}{RT})-\\frac{{∆_l}^0{C^0}_p,m}{R}\\ln(\\frac{T}{T_0})$ (1)\n",
    "\n",
    "where $ T $ is the saturation temperature, $ T_0 $ is the reference temperature (298 K), $ P $ is the vapor pressure at temperature $ T $, $ R $ is the gas constant (8,31446 $ JK ^ {- 1} mol ^ {- 1} $), $ {∆_l} ^ 0 \\cdot{C_p, m} ^ 0 $, is the specific heat difference and $ A $ and $ B $ are the parameters to be estimated.\n",
    "\n",
    "The optimization problem to be solved uses the objective function of least squares weighted by the inverse of the variance, according to [2]:\n",
    "\n",
    "$\\min_{A, B} \\sum_{i=1}^{NE} \\left(\\frac{y^{exp}_i-y_i(A,B)}{u^2_{y_i}}\\right)$ (2),\n",
    "\n",
    "subject to (1).\n",
    "\n",
    "The following symbols will be used to solve this problem in the MT_PEU:\n",
    "\n",
    "* Symbols of the independent quantities (temperature): T\n",
    "* Symbols of the dependent quantities (vapor pressure): p\n",
    "* Symbols of the parameters: A, B\n",
    "\n",
    "## Packages importing\n",
    "\n",
    "Importing libraries (packages) needed to run the code.\n",
    "\n",
    "* **MT_PEU**: library that contains the main functionalities of the tool\n",
    "\n",
    "    * Import the class **EstimacaoNaoLinear**, that will be used in this non-linear estimation example.\n",
    "\n",
    "* **casadi**: library for symbolic computation\n",
    "\n",
    "    * The function **exp** (exponential) and **log** (logarithmic) will be necessary to build the model."
   ]
  },
  {
   "cell_type": "code",
   "execution_count": 2,
   "metadata": {},
   "outputs": [],
   "source": [
    "from MT_PEU import EstimacaoNaoLinear\n",
    "from casadi import exp, log"
   ]
  },
  {
   "cell_type": "markdown",
   "metadata": {},
   "source": [
    "## Model creation\n",
    "\n",
    "The model (1) represents the behavior of the dependent quantity in which the parameters $A$ and $B$ will be estimated.\n",
    "\n",
    "This model is then defined in the form of a python subroutine (**def**) and represented by:"
   ]
  },
  {
   "cell_type": "code",
   "execution_count": 3,
   "metadata": {},
   "outputs": [],
   "source": [
    "def Model(param, x, args):\n",
    "    T = x[:, 0]\n",
    "    A, B = param[0], param[1]\n",
    "\n",
    "    return exp(A / 8.31446 + B / (8.31446 * T) - (68.2 / 8.31446) * log(T / 298.15))"
   ]
  },
  {
   "cell_type": "markdown",
   "metadata": {},
   "source": [
    "## Class initialization\n",
    "\n",
    "The first step to perform the estimation is to configure the class **EstimacaoNaoLinear** through the inclusion of basic information.:\n",
    "\n",
    "* The model,\n",
    "* List of symbols of the independent quantities *(T)*; \n",
    "* List of symbols of the dependent quantities *(P)*; \n",
    "* List of symbols of the parameters *(param)*;\n",
    "* The project name, the folder's name where the results will be saved."
   ]
  },
  {
   "cell_type": "code",
   "execution_count": 4,
   "metadata": {},
   "outputs": [],
   "source": [
    "Estimation = EstimacaoNaoLinear(Model, symbols_x=[r'T'], symbols_y=[r'P'], \n",
    "                                symbols_param=['A','B'], Folder='Exemple8' )"
   ]
  },
  {
   "cell_type": "markdown",
   "metadata": {},
   "source": [
    "## Data inclusion\n",
    "\n",
    "The experimental data provided in Table 1 of the dependent quantity (y) and the independent quantity (T), are presented below in the form of lists:"
   ]
  },
  {
   "cell_type": "code",
   "execution_count": 5,
   "metadata": {},
   "outputs": [],
   "source": [
    "# Defining observed data\n",
    "# Input data\n",
    "T = [297.1,298.2,299.3,301.2,304.2,307.2,310.2,314.1,316.2,317.8,318.2,320.2,\n",
    "     323.1,326.2,329.1,331.2,334.2,337.1,340.2,343.2,346.2,349.1,352.2]\n",
    "# Output data\n",
    "P = [2.93,3.21,3.49,4.22,5.60,7.31,9.12,13.07,14.98,17.63,18.02,22.08,26.95,34.61,\n",
    "     40.93,50.17,63.36,78.93,93.65,115.11,140.27,171.89,208.00]"
   ]
  },
  {
   "cell_type": "markdown",
   "metadata": {},
   "source": [
    "The MT_PEU **needs** the **uncertainties of the experimental data** (uT, uP) to be informed."
   ]
  },
  {
   "cell_type": "code",
   "execution_count": 6,
   "metadata": {},
   "outputs": [],
   "source": [
    "uT = [0.1]*len(T)\n",
    "uP = [0.08,0.09,0.09,0.11,0.17,0.21,0.25,0.35,0.40,0.47,0.48,0.58,\n",
    "      0.70,0.89,1.05,1.28,1.61,2.00,2.37,2.90,3.53,4.32,5.23]"
   ]
  },
  {
   "cell_type": "markdown",
   "metadata": {},
   "source": [
    "**Entering the experimental data in MT_PEU:**\n",
    "\n",
    "The *setDados* method is used to include the data for dependent and independent quantities. Syntax:\n",
    "\n",
    "* Quantity identification, whether it is independent or dependent: 0 or 1 (respectively)\n",
    "* The experimental data and their uncertainties must be entered in sequence in the form of tuples."
   ]
  },
  {
   "cell_type": "code",
   "execution_count": 7,
   "metadata": {},
   "outputs": [],
   "source": [
    "Estimation.setDados(1,(P,uP))\n",
    "Estimation.setDados(0, (T, uT))"
   ]
  },
  {
   "cell_type": "markdown",
   "metadata": {},
   "source": [
    "The setConjunto method defines that the experimental data previously entered will be used as a data set for which parameters will be estimated. The degrees of freedom for the quantity $ x $ and $ y $ are defined in *glx* and *gly*, respectively:"
   ]
  },
  {
   "cell_type": "code",
   "execution_count": 8,
   "metadata": {},
   "outputs": [],
   "source": [
    "Estimation.setConjunto(dataType='estimacao', glx=[], gly=[])"
   ]
  },
  {
   "cell_type": "markdown",
   "metadata": {},
   "source": [
    "## Optimization\n",
    "\n",
    "In this example, the user can choose the algorithm to be used in the optimization. \n",
    "Available: 'ipopt', 'bonmin' and 'sqpmethod'.\n",
    "\n",
    "If the user does not choose any optimization method, the default algorithm will be used: ipopt, with initial estimative equal to [200, -80680.1]\n",
    "\n",
    "**algorithm:** Informs the optimization algorithm that will be used. Each algorithm has its own keywords;\n",
    "\n",
    "**optimizationReport:** Informs whether the optimization report should be created (True or False);\n",
    "\n",
    "**parametersReport:** Informs whether the parameters report should be created (True or False)."
   ]
  },
  {
   "cell_type": "code",
   "execution_count": 9,
   "metadata": {},
   "outputs": [
    {
     "name": "stdout",
     "output_type": "stream",
     "text": [
      "\n",
      "******************************************************************************\n",
      "This program contains Ipopt, a library for large-scale nonlinear optimization.\n",
      " Ipopt is released as open source code under the Eclipse Public License (EPL).\n",
      "         For more information visit http://projects.coin-or.org/Ipopt\n",
      "******************************************************************************\n",
      "\n"
     ]
    }
   ],
   "source": [
    "Estimation.optimize(initial_estimative = [200, -80680.1], algorithm='ipopt', optimizationReport = True, parametersReport = False)\n"
   ]
  },
  {
   "cell_type": "markdown",
   "metadata": {},
   "source": [
    "## Parameters uncertainty\n",
    "\n",
    "\n",
    "In this example, it is possible to choose the method used to evaluate uncertainty. \n",
    "Available: 2InvHessiana, Geral, SensibilidadeModelo. \n",
    "By definition the likelihood region filling is 'True', if necessary this option can be changed.\n",
    "\n",
    "**uncertaintyMethod:** method for calculating the covariance matrix of the parameters.\n",
    "\n",
    "**parametersReport:** Informs whether the parameters report should be created (True or False).\n",
    "\n",
    "**objectiveFunctionMapping:** Deals with mapping the objective function (True or False).\n",
    "\n",
    "If the user **does not** have an interest in **evaluating the uncertainty of the parameters**, just **do not** perform **Estime.parametersUncertainty**."
   ]
  },
  {
   "cell_type": "code",
   "execution_count": 10,
   "metadata": {},
   "outputs": [],
   "source": [
    "Estimation.parametersUncertainty(uncertaintyMethod='SensibilidadeModelo', objectiveFunctionMapping=True, parametersReport = True)\n"
   ]
  },
  {
   "cell_type": "markdown",
   "metadata": {},
   "source": [
    "## Prediction and residual analysis\n",
    "\n",
    "The prediction method evaluates the dependent quantity based on the estimated parameters, the model informed by the user, and data of the dependent quantities. In case validation data are informed (through the setConjunto method, defining \"dataType = predicao\") these will be used to perform the prediction. Also, this method evaluates the covariance matrix of the prediction, in case the parametersUncertainty method has been performed.\n",
    " \n",
    "Through residual analysis, it is possible to obtain indicators of estimation quality.  Aspects such as mean, homoscedasticity (which allows us to infer possible dependency and/or tendency relationships between the variables), normality, $R^2$ and autocorrelation are evaluated. The optimal point of the objective function is also evaluated. The residues analysis is performed primarily with the validation data.\n",
    "\n",
    "**export_y:** Exports the calculated data of y, its uncertainty, and degrees of freedom in a txt with comma separation (True or False);\n",
    "\n",
    "**export_y_xls:** Exports the calculated data of y, its uncertainty, and degrees of freedom in a xls (True or False);\n",
    "\n",
    "**export_cov_y:** Exports the covariance matrix of y (True or False);\n",
    "\n",
    "**export_x:** Exports the calculated data of x, its uncertainty, and degrees of freedom in a txt with comma separation(True or False);\n",
    "\n",
    "**export_cov_x:** Exports the covariance matrix of x (True or False)."
   ]
  },
  {
   "cell_type": "code",
   "execution_count": 11,
   "metadata": {},
   "outputs": [
    {
     "name": "stderr",
     "output_type": "stream",
     "text": [
      "C:\\Users\\User\\Anaconda3\\lib\\site-packages\\statsmodels\\stats\\_adnorm.py:66: FutureWarning: Using a non-tuple sequence for multidimensional indexing is deprecated; use `arr[tuple(seq)]` instead of `arr[seq]`. In the future this will be interpreted as an array index, `arr[np.array(seq)]`, which will result either in an error or a different result.\n",
      "  S = np.sum((2*i[sl1]-1.0)/N*(np.log(z)+np.log(1-z[sl2])), axis=axis)\n"
     ]
    }
   ],
   "source": [
    "Estimation.prediction(export_y=True,export_y_xls=True, export_cov_y=True, export_x=True, export_cov_x=True)\n",
    "Estimation.residualAnalysis(report=True)"
   ]
  },
  {
   "cell_type": "markdown",
   "metadata": {},
   "source": [
    "## Plots and reports\n",
    "\n",
    "At this stage, the results obtained by the program are exported: reports and graphs. \n",
    "The graphs are generated according to the steps that have been performed. In the reports, information about the statistical tests, objective function value, covariance matrix of the parameters, optimization status, among others, are printed."
   ]
  },
  {
   "cell_type": "code",
   "execution_count": 12,
   "metadata": {},
   "outputs": [
    {
     "data": {
      "text/plain": [
       "<Figure size 432x288 with 0 Axes>"
      ]
     },
     "metadata": {},
     "output_type": "display_data"
    },
    {
     "data": {
      "text/plain": [
       "<Figure size 360x240 with 0 Axes>"
      ]
     },
     "metadata": {},
     "output_type": "display_data"
    }
   ],
   "source": [
    "Estimation.plots()"
   ]
  },
  {
   "cell_type": "markdown",
   "metadata": {},
   "source": [
    "# Linear Model\n",
    "\n",
    "## Introduction\n",
    "\n",
    "In this second stage, an assessment of the vapor pressure as a function of temperature is carried out using the first linearized model.\n",
    "\n",
    "The model used to estimate the vapor pressure of N-butyl-formamide is given by\n",
    "Equation (3).\n",
    "\n",
    "$\\ln\\left(\\frac{P_sat}{P_ref}\\right) = \\frac{A}{R}+\\frac{B}{RT}+\\frac{{∆_l}^0{C^0}_p,m}{{C_p,m}^0}\\ln(\\frac{T}{T_0})$ (3)\n",
    "\n",
    "where $ T $ is the saturation temperature, $ T_0 $ is the reference temperature (298 K), $ P_ {sat} $ is the vapor pressure at temperature $ T $, $ P_ {ref} $ is the pressure of reference (1 Pa), $ R $ is the gas constant (8,31446 $ JK ^ {- 1} mol ^ {- 1} $), $ {∆_l} ^ 0 \\ cdot {C_p, m} ^ 0 $, the specific heat difference and $ A $ and $ B $ are the parameters to be estimated.\n",
    "\n",
    "Equation (1) can be rearranged to take the following form:\n",
    "\n",
    "$Y = \\ln\\left(\\frac{P_sat}{P_ref}\\right)-\\frac{{∆_l}^0{C^0}_p,m}{{C_p,m}^0}\\ln(\\frac{T}{T_0})=\\frac{A}{R}+\\frac{B}{RT}$ (4)\n",
    "\n",
    "Assuming $Y = \\ln\\left(\\frac{P_sat}{P_ref}\\right)-\\frac{{∆_l}^0{C^0}_p,m}{{C_p,m}^0}\\ln(\\frac{T}{T_0})$, $B_1 = \\frac{A}{R}$, $A_1 = \\frac{B}{R}$ and $X = \\frac{1}{T}$\n",
    "\n",
    "\n",
    "Equation (4) can be rewritten as follows:\n",
    "\n",
    "$Y = A_1\\cdot X + B_1 $ (5)\n",
    "\n",
    "The optimization problem to be solved uses the objective function of least squares weighted by the inverse of the variance, according to [6]:\n",
    "\n",
    "$\\min_{A_1, B_1} \\sum_{i=1}^{NE} \\left(\\frac{y^{exp}_i-y_i(A_1,B_1)}{u^2_{y_i}}\\right)$ (6)\n",
    "\n",
    "The following symbols will be used to solve this problem in the MT_PEU:\n",
    "\n",
    "* Symbols of the independent quantities: $X$\n",
    "* Symbols of the dependent quantities: $Y$\n",
    "* Symbols of the parameters: $A_1,B_1$.\n",
    "\n",
    "## Packages importing\n",
    "\n",
    "Importing libraries (packages) needed to run the code.\n",
    "    \n",
    "* **MT_PEU_Linear**: library that contains the main functionalities of the tool\n",
    "\n",
    "    * Import the class **EstimacaoLinear**, that will be used in this linear estimation example.\n",
    "    \n",
    "* **Numpy**: fundamental package for matrix computing with Python\n",
    "\n",
    "    * The function **log** (logarithmic) and array will be necessary to build the model."
   ]
  },
  {
   "cell_type": "code",
   "execution_count": 13,
   "metadata": {},
   "outputs": [],
   "source": [
    "from MT_PEU_Linear import EstimacaoLinear\n",
    "from numpy import log, array"
   ]
  },
  {
   "cell_type": "markdown",
   "metadata": {},
   "source": [
    "## Class initialization\n",
    "\n",
    "The first step to perform the estimation is to configure the class **EstimacaoLinear** through the inclusion of basic information.:\n",
    "\n",
    "* List of symbols of the independent quantities *($X$)*; \n",
    "* List of symbols of the dependent quantities *($Y$)*; \n",
    "* List of symbols of the parameters *($A_1,B_1$)*;\n",
    "* The project name, the folder's name where the results will be saved."
   ]
  },
  {
   "cell_type": "code",
   "execution_count": 14,
   "metadata": {},
   "outputs": [],
   "source": [
    "Estimation = EstimacaoLinear(symbols_x=[r'X'], symbols_y=[r'Y'], symbols_param=['A1','B1'],  folder='VapourpressuresLinearEX8')"
   ]
  },
  {
   "cell_type": "markdown",
   "metadata": {},
   "source": [
    "Definition of new variables:"
   ]
  },
  {
   "cell_type": "code",
   "execution_count": 15,
   "metadata": {},
   "outputs": [],
   "source": [
    "#Input observed data\n",
    "X = 1./array(T)\n",
    "#Output observed data\n",
    "Y = log(P) - (-68.2 / 8.31446)*log(array(T)/298.15)"
   ]
  },
  {
   "cell_type": "markdown",
   "metadata": {},
   "source": [
    "MT_PEU **needs** the **uncertainties of the experimental data** (uT, uP, uX and uY) to be informed."
   ]
  },
  {
   "cell_type": "code",
   "execution_count": 16,
   "metadata": {},
   "outputs": [],
   "source": [
    "uT = [0.1]*len(T)\n",
    "uP = [0.08,0.09,0.09,0.11,0.17,0.21,0.25,0.35,0.40,0.47,0.48,0.58,\n",
    "0.70,0.89,1.05,1.28,1.61,2.00,2.37,2.90,3.53,4.32,5.23]\n",
    "uX = ((-1/(array(T)**2))**2*array(uT)**2)**0.5\n",
    "uY = ((1/array(P))**2*array(uP)**2 + (-1*-68.2/(8.31446*array(T)))**2*array(uT)**2)**0.5"
   ]
  },
  {
   "cell_type": "markdown",
   "metadata": {},
   "source": [
    "**Entering the experimental data in MT_PEU:**\n",
    "\n",
    "The *setDados* method is used to include the data for dependent and independent quantities. Syntax:\n",
    "\n",
    "* Quantity identification, whether it is independent or dependent: 0 or 1 (respectively)\n",
    "* The experimental data and their uncertainties must be entered in sequence in the form of tuples."
   ]
  },
  {
   "cell_type": "code",
   "execution_count": 17,
   "metadata": {},
   "outputs": [],
   "source": [
    "Estimation.setDados(0, (X.tolist(), uX.tolist()))\n",
    "Estimation.setDados(1, (Y.tolist(), uY.tolist()))"
   ]
  },
  {
   "cell_type": "markdown",
   "metadata": {},
   "source": [
    "Defines that the experimental data previously entered will be used as a data set for which parameters will be estimated.  The degrees of freedom for the quantity $ x $ and $ y $ are defined in *glx* and *gly*, respectively:"
   ]
  },
  {
   "cell_type": "code",
   "execution_count": 18,
   "metadata": {},
   "outputs": [],
   "source": [
    "Estimation.setConjunto(dataType='estimacao', glx=[], gly=[])"
   ]
  },
  {
   "cell_type": "markdown",
   "metadata": {},
   "source": [
    "## Optimization\n",
    "\n",
    "**parametersReport:** Informs whether the parameters report should be created (True or False)."
   ]
  },
  {
   "cell_type": "code",
   "execution_count": 19,
   "metadata": {},
   "outputs": [],
   "source": [
    "Estimation.optimize(parametersReport=True)"
   ]
  },
  {
   "cell_type": "markdown",
   "metadata": {},
   "source": [
    "## Parameters uncertainty\n",
    "\n",
    "In this example, it is possible to choose the method used to evaluate uncertainty. \n",
    "Available: 2InvHessiana, Geral, SensibilidadeModelo. \n",
    "By definition the likelihood region filling is 'True', if necessary this option can be changed.\n",
    "\n",
    "If the user **does not** have an interest in **evaluating the uncertainty of the parameters**, just **do not** perform **ER.parametersUncertainty**.\n",
    "\n",
    "**objectiveFunctionMapping:** Deals with mapping the objective function (True or False)."
   ]
  },
  {
   "cell_type": "code",
   "execution_count": 20,
   "metadata": {},
   "outputs": [],
   "source": [
    "Estimation.parametersUncertainty(objectiveFunctionMapping=True)"
   ]
  },
  {
   "cell_type": "markdown",
   "metadata": {},
   "source": [
    "## Prediction and residual analysis\n",
    "\n",
    "The prediction method evaluates the dependent quantity based on the estimated parameters, the model informed by the user, and data of the dependent quantities. In case validation data are informed (through the setConjunto method, defining \"dataType = predicao\") these will be used to perform the prediction. Also, this method evaluates the covariance matrix of the prediction, in case the parametersUncertainty method has been performed.\n",
    " \n",
    "Through residual analysis, it is possible to obtain indicators of estimation quality.  Aspects such as mean, homoscedasticity (which allows us to infer possible dependency and/or tendency relationships between the variables), normality, $R^2$ and autocorrelation are evaluated. The optimal point of the objective function is also evaluated. The residues analysis is performed primarily with the validation data.\n",
    "\n",
    "**export_y:** Exports the calculated data of y, its uncertainty, and degrees of freedom in a txt with comma separation (True or False);\n",
    "\n",
    "**export_y_xls:** Exports the calculated data of y, its uncertainty, and degrees of freedom in a xls (True or False);\n",
    "\n",
    "**export_cov_y:** Exports the covariance matrix of y (True or False);\n",
    "\n",
    "**export_x:** Exports the calculated data of x, its uncertainty, and degrees of freedom in a txt with comma separation(True or False);\n",
    "\n",
    "**export_cov_x:** Exports the covariance matrix of x (True or False)."
   ]
  },
  {
   "cell_type": "code",
   "execution_count": 21,
   "metadata": {},
   "outputs": [],
   "source": [
    "Estimation.prediction(export_y=True,export_y_xls=True, export_cov_y=True, export_x=True, export_cov_x=True)\n",
    "Estimation.residualAnalysis(report=True)"
   ]
  },
  {
   "cell_type": "markdown",
   "metadata": {},
   "source": [
    "## Plots and reports\n",
    "\n",
    "At this stage, the results obtained by the program are exported: reports and graphs. \n",
    "The graphs are generated according to the steps that have been performed. In the reports, information about the statistical tests, objective function value, covariance matrix of the parameters, optimization status, among others, are printed."
   ]
  },
  {
   "cell_type": "code",
   "execution_count": 22,
   "metadata": {},
   "outputs": [
    {
     "data": {
      "text/plain": [
       "<Figure size 432x288 with 0 Axes>"
      ]
     },
     "metadata": {},
     "output_type": "display_data"
    },
    {
     "data": {
      "text/plain": [
       "<Figure size 360x240 with 0 Axes>"
      ]
     },
     "metadata": {},
     "output_type": "display_data"
    }
   ],
   "source": [
    "Estimation.plots()\n",
    "Estimation.reports()"
   ]
  },
  {
   "cell_type": "markdown",
   "metadata": {},
   "source": [
    "## Comparison of results\n",
    "\n",
    "Through Table 2, it is possible to see that, regardless of the model used, the parameters\n",
    "estimates were very close to those described by the article.\n",
    "\n",
    "**Table 2. Comparison between the parameters obtained by each example.**\n",
    "\n",
    " Model     | $A_1$   | $B_1$|   A      |     B\n",
    ":---------:|:-------:|:----:|:--------:|:---------:\n",
    " Linear    |-10790.0 | 37.3 |   310.5  | -89719.0\n",
    " Não-Linear|    -    |  -   |   310.5  | -89720.0\n",
    " Artigo    |    -    |  -   |   310.5  | -89681.9\n",
    " \n",
    "Table 3 presents the results of the statistical tests carried out for the waste used by the\n",
    "charge performed with each model. It is noticed that, for the Non-linear model, the residuals\n",
    "did not pass the normality tests confronted one of the premises assumed for the use of the weighted minimum objective function weighted by the variation, or that makes a\n",
    "statistical interpretation of the selected results. In addition, waste does not pass the test\n",
    "selectable and inadequate homoscedasticity for estimated parameters. Yet,\n",
    "to use the linear model or residuals Passed in the **normality** and **homoscedasticity** tests.\n",
    "\n",
    "**Table 3. Comparison between the parameters obtained by each example.**\n",
    "\n",
    " Statistics                           | Linear p-value | Nonlinear p-value\n",
    ":------------------------------------:|:--------------:|:-----------------:\n",
    " Normality/normaltest                 |         0.871  |      0.006       \n",
    " Normality/shapiro                    |         0.903  |      0.013  \n",
    " average/ttest                        |         0.978  |      0.973     \n",
    " Autocorrelation/Ljung-Box chi2       |         0.729  |      0.599\n",
    " Homoscedasticity/Bresh Pagan teste F |         0.754  |      0.026\n",
    " \n",
    "The transformation of the initial (non-linear) model resulted not only in obtaining\n",
    "very close parameters, but also in better statistical results, as seen in Figure 2:\n",
    "\n",
    "**Figure 2: Coverage regions.**\n",
    "\n",
    "![](./Imagens/RegAbrangencia.png)\n"
   ]
  },
  {
   "cell_type": "markdown",
   "metadata": {},
   "source": [
    "## References: \n",
    "\n",
    "[1] SANJARI, Ehsan. A new simple method for accurate calculation of saturated vapor pressure. Elsevier. \n",
    "p. 12-16. mar. 2013.\n",
    "\n",
    "[2] ZAITSEVA, Ksenia V.; ZAITSAU, Dzmitry H.; VARFOLOMEEV, Mikhail A.. \n",
    "Vapour pressures and enthalpies of vaporisation of alkyl formamides. Elsevier. Alemanha, p. 228-238. maio 2019.\n",
    "\n",
    "[3] INMETRO.: Avaliação de dados de medição — Guia para a expressão de incerteza de medição. Rio de Janeiro: Jcgm, 2008."
   ]
  }
 ],
 "metadata": {
  "kernelspec": {
   "display_name": "Python 3",
   "language": "python",
   "name": "python3"
  },
  "language_info": {
   "codemirror_mode": {
    "name": "ipython",
    "version": 3
   },
   "file_extension": ".py",
   "mimetype": "text/x-python",
   "name": "python",
   "nbconvert_exporter": "python",
   "pygments_lexer": "ipython3",
   "version": "3.7.3"
  }
 },
 "nbformat": 4,
 "nbformat_minor": 2
}
