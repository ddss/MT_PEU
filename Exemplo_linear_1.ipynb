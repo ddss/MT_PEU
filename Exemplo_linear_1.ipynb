{
 "cells": [
  {
   "cell_type": "markdown",
   "metadata": {},
   "source": [
    "# Example: Quality of forecasts for linear models.\n",
    "\n",
    "## Introduction\n",
    "\n",
    "Example approached to assess the quality of the model's predictions [2]. The set of experimental data is shown in Table 1.\n",
    "\n",
    "**Table 1: Experimental data. Font: [1]**\n",
    "\n",
    "Quantity|____|____|____|____|____| \n",
    ":------:|:--:|:--:|:--:|:--:|:---:|\n",
    "$x$     |1.0 |2.0 |3.0 |4.0 |5.0  |\n",
    "$y$     |0.1 |0.9 |2.2 |3.2 |4.8  |\n",
    "\n",
    "In relation to these data, it is intended to adjust a line using a procedure\n",
    "least squares pattern. In this case, we have in [1]:\n",
    "         \n",
    "$y = α\\cdot x + β $, (1)\n",
    "\n",
    "The following symbols will be used to solve this problem in the MT_PEU:\n",
    "\n",
    "* Symbols of the independent quantities: x\n",
    "* Symbols of the dependent quantities: y\n",
    "* Symbols of the parameters: p1, p2.\n",
    "\n",
    "## Packages importing\n",
    "\n",
    "Importing libraries (packages) needed to run the code.\n",
    "\n",
    "* **MT_PEU_Linear**: library that contains the main functionalities of the tool\n",
    "\n",
    "    * Import the class **EstimacaoLinear**, that will be used in this linear estimation example."
   ]
  },
  {
   "cell_type": "code",
   "execution_count": 94,
   "metadata": {},
   "outputs": [],
   "source": [
    "from MT_PEU_Linear import EstimacaoLinear"
   ]
  },
  {
   "cell_type": "markdown",
   "metadata": {},
   "source": [
    "## Class initialization\n",
    "\n",
    "The first step to perform the estimation is to configure the class **EstimacaoLinear** through the inclusion of basic information.:\n",
    "\n",
    "* The symbols of the independent quantities *(x)*; \n",
    "* The symbols of the dependent quantities *(y)*; \n",
    "* The symbols of the parameters *(p1, p2)*;\n",
    "* The project name, the folder's name where the results will be saved."
   ]
  },
  {
   "cell_type": "code",
   "execution_count": 95,
   "metadata": {},
   "outputs": [],
   "source": [
    "ER = EstimacaoLinear(['y'],['x'],['p1','p2'],folder='LINEARcomB1')"
   ]
  },
  {
   "cell_type": "markdown",
   "metadata": {},
   "source": [
    "## Data inclusion\n",
    "\n",
    "The experimental data provided in Table 1 of the dependent quantity (y) and the independent quantities (x), are presented below in the form of lists:"
   ]
  },
  {
   "cell_type": "code",
   "execution_count": 1,
   "metadata": {},
   "outputs": [],
   "source": [
    "#Independent quantitty\n",
    "x = [0,1,2,3,4,5]\n",
    "\n",
    "#Dependent quantity\n",
    "y = [.1,.9,2.2,3.2,3.9,4.8]"
   ]
  },
  {
   "cell_type": "markdown",
   "metadata": {},
   "source": [
    "The MT_PEU **needs** the **uncertainties of the experimental data** (ux, uy) to be informed. In this example, the value 1 has been assumed for all uncertainties."
   ]
  },
  {
   "cell_type": "code",
   "execution_count": 97,
   "metadata": {},
   "outputs": [],
   "source": [
    "ux = [1]*6\n",
    "uy = [1]*6"
   ]
  },
  {
   "cell_type": "markdown",
   "metadata": {},
   "source": [
    "**Entering the experimental data in MT_PEU:**\n",
    "\n",
    "The *setDados* method is used to include the data for dependent and independent quantities. Syntax:\n",
    "\n",
    "* Quantity identification, whether it is independent or dependent: 0 or 1 (respectively)\n",
    "* The experimental data and their uncertainties must be entered in sequence in the form of tuples."
   ]
  },
  {
   "cell_type": "code",
   "execution_count": 98,
   "metadata": {},
   "outputs": [],
   "source": [
    "ER.setDados(0,(x,ux))\n",
    "ER.setDados(1,(y,uy))"
   ]
  },
  {
   "cell_type": "markdown",
   "metadata": {},
   "source": [
    "Defines that the experimental data previously entered will be used as a data set for which parameters will be estimated:"
   ]
  },
  {
   "cell_type": "code",
   "execution_count": 99,
   "metadata": {},
   "outputs": [],
   "source": [
    "ER.setConjunto()"
   ]
  },
  {
   "cell_type": "markdown",
   "metadata": {},
   "source": [
    "## Optimization"
   ]
  },
  {
   "cell_type": "code",
   "execution_count": 100,
   "metadata": {},
   "outputs": [],
   "source": [
    "ER.optimize(parametersReport=False)"
   ]
  },
  {
   "cell_type": "markdown",
   "metadata": {},
   "source": [
    "## Parameters uncertainty\n",
    "\n",
    "In this example, it is possible to choose the method used to evaluate uncertainty. \n",
    "Available: 2InvHessiana, Geral, SensibilidadeModelo. \n",
    "By definition the likelihood region filling is 'True', if necessary this option can be changed.\n",
    "\n",
    "If the user **does not** have an interest in **evaluating the uncertainty of the parameters**, just **do not** perform **ER.parametersUncertainty**."
   ]
  },
  {
   "cell_type": "code",
   "execution_count": 101,
   "metadata": {},
   "outputs": [],
   "source": [
    "ER.parametersUncertainty(objectiveFunctionMapping='2InvHessiana')"
   ]
  },
  {
   "cell_type": "markdown",
   "metadata": {},
   "source": [
    "## Prediction and residual analysis\n",
    "\n",
    "The prediction method evaluates the dependent quantity based on the estimated parameters, the model informed by the user, and data of the dependent quantities. In case validation data are informed (through the setConjunto method, defining \"type = predicao\") these will be used to perform the prediction. Also, this method evaluates the covariance matrix of the prediction, in case the parametersUncertainty method has been performed.\n",
    " \n",
    "Through residual analysis, it is possible to obtain indicators of estimation quality.  Aspects such as mean, homoscedasticity (which allows us to infer possible dependency and/or tendency relationships between the variables), normality, $R^2$ and autocorrelation are evaluated. The optimal point of the objective function is also evaluated. The residues analysis is performed primarily with the validation data."
   ]
  },
  {
   "cell_type": "code",
   "execution_count": 102,
   "metadata": {},
   "outputs": [],
   "source": [
    "ER.prediction()\n",
    "ER.residualAnalysis()"
   ]
  },
  {
   "cell_type": "markdown",
   "metadata": {},
   "source": [
    "## Plots and reports\n",
    "\n",
    "At this stage, the results obtained by the program are exported: reports and graphs. \n",
    "The graphs are generated according to the steps that have been performed. In the reports, information about the statistical tests, objective function value, covariance matrix of the parameters, optimization status, among others, are printed."
   ]
  },
  {
   "cell_type": "code",
   "execution_count": 103,
   "metadata": {},
   "outputs": [
    {
     "data": {
      "text/plain": [
       "<Figure size 432x288 with 0 Axes>"
      ]
     },
     "metadata": {},
     "output_type": "display_data"
    },
    {
     "data": {
      "text/plain": [
       "<Figure size 360x240 with 0 Axes>"
      ]
     },
     "metadata": {},
     "output_type": "display_data"
    }
   ],
   "source": [
    "ER.plots()\n",
    "ER.reports()"
   ]
  },
  {
   "cell_type": "markdown",
   "metadata": {},
   "source": [
    "## References: \n",
    "\n",
    "[1] SCHWAAB, M.M.;PINTO, J.C. Análise de Dados Experimentais I: Fundamentos da Estátistica e Estimação de Parâmetros. \n",
    "Rio de Janeiro: e-papers, 2007.\n",
    "\n",
    "[2] INMETRO.: Avaliação de dados de medição — Guia para a expressão de incerteza de medição. Rio de Janeiro: Jcgm, 2008."
   ]
  }
 ],
 "metadata": {
  "kernelspec": {
   "display_name": "Python 3",
   "language": "python",
   "name": "python3"
  },
  "language_info": {
   "codemirror_mode": {
    "name": "ipython",
    "version": 3
   },
   "file_extension": ".py",
   "mimetype": "text/x-python",
   "name": "python",
   "nbconvert_exporter": "python",
   "pygments_lexer": "ipython3",
   "version": "3.7.2"
  }
 },
 "nbformat": 4,
 "nbformat_minor": 2
}
