{
 "cells": [
  {
   "cell_type": "markdown",
   "metadata": {},
   "source": [
    "# Example: Kinetic model of isomerization reaction\n",
    "\n",
    "## Introduction\n",
    "\n",
    "\n",
    "The problem addressed refers to the parameter estimation of the kinetic model of the pyrolysis reaction of bicyclohexane in the vapor phase. This reaction has as product 1,5-hexadien [1] and is exemplified by Figure 1.\n",
    "\n",
    "**Figure 1: Bicyclohexane pyrolysis reaction. Font: [1]**\n",
    "![Tanques](./Imagens/P.jpg)\n",
    "\n",
    "The experimental data for this reaction, in a temperature range of 327 °C to 366 °C, are presented in Table 1.        \n",
    "\n",
    "**Table 1: Experimental data. Font: [1]**   \n",
    "                                               \n",
    "  Temperature / °C | Reagent pressure / mmHg | Time / min | Reagent fraction / % |       $k$ x $10^{5}$\n",
    "  :-------------: |  :----------------------: |:-----------:|:---------------------: |:------------------------:\n",
    "         327.2    |         18.4                        |120              |90.0                  |1.46 \n",
    "         327.2    |         18.3                        |60.0             |94.9                  |1.43\n",
    "         338.9    |         18.3                        |60.0             |88.6                  |3.37\n",
    "             .    |         .                           |.                |.                     |.\n",
    "             .    |         .                           |.                |.                     |.\n",
    "             .    |         .                           |.                |.                     |.\n",
    "         366.3    |         0.45                        |60.0             |46.8                  |21.1  \n",
    "         366.3    |         0.30                        |30.0             |47.6                  |21.8\n",
    "         366.3    |         0.25                        |60.0             |49.7                  |19.4\n",
    "           \n",
    "           \n",
    "The reaction kinetic model is given by [1]: \n",
    "\n",
    "$y = \\exp\\left[-t\\cdot \\exp\\left(K_0-\\frac{E}{T}\\right)\\right]$,                  (1)\n",
    "\n",
    "on what $y$ is the reagent fraction, $t$ is the time, $T$ is the temperature (K) and $k_o$ and $E$ are the parameters that will be estimated.\n",
    "\n",
    "The optimization problem to be solved uses the objective function of least squares weighted by the inverse of the variance, according to [2]:\n",
    "\n",
    "$\\min_{ko,E} \\sum_{i=1}^{NE} \\left(\\frac{y^{exp}_i-y_i(k_o,E)}{u^2_{y_i}}\\right)$ (2)\n",
    "\n",
    "subject to (1).\n",
    "\n",
    "The following symbols will be used to solve this problem in the MT_PEU:\n",
    "\n",
    "* Symbols of the independent quantities (time and temperature): t, T\n",
    "* Symbols of the dependent quantities (reagent fraction): y\n",
    "* Symbols of the parameters: ko, E\n",
    "\n",
    "## Packages importing\n",
    "\n",
    "Importing libraries (packages) needed to run the code.\n",
    "\n",
    "* **MT_PEU**: library that contains the main functionalities of the tool\n",
    "\n",
    "    * Import the class **EstimacaoNaoLinear**, that will be used in this non-linear estimation example.\n",
    "\n",
    "* **casadi**: library for symbolic computation\n",
    "\n",
    "    * only the function **exp** (exponential) will be required to build the model."
   ]
  },
  {
   "cell_type": "code",
   "execution_count": 37,
   "metadata": {
    "pycharm": {
     "is_executing": false
    }
   },
   "outputs": [],
   "source": [
    "from MT_PEU import EstimacaoNaoLinear\n",
    "from casadi import exp"
   ]
  },
  {
   "cell_type": "markdown",
   "metadata": {},
   "source": [
    "## Model creation\n",
    "\n",
    "The model (1) represents the behavior of the dependent quantity in which the parameters $k_o$ and $E$ will be estimated.\n",
    "\n",
    "This model is then defined in the form of a python subroutine (**def**) and represented by:"
   ]
  },
  {
   "cell_type": "code",
   "execution_count": 38,
   "metadata": {
    "pycharm": {
     "is_executing": false
    }
   },
   "outputs": [],
   "source": [
    "def Model (param, x, args):\n",
    "\n",
    "    ko, E = param[0], param[1]\n",
    "    time, T = x[:,0], x[:,1]\n",
    "\n",
    "    return  exp(-time*exp(ko-E/T))"
   ]
  },
  {
   "cell_type": "markdown",
   "metadata": {},
   "source": [
    "## Class initialization\n",
    "\n",
    "The first step to perform the estimation is to configure the class **EstimacaoNaoLinear** through the inclusion of basic information.:\n",
    "\n",
    "* The model,\n",
    "* List of symbols of the independent quantities *(x)*; \n",
    "* List of symbols of the dependent quantities *(y)*; \n",
    "* List of symbols of the parameters *(param)*;\n",
    "* List of symbols for parameters written in LaTex *(label_latex_param)*;\n",
    "* List of units of measurement for independent quantities *(units_y)*;\n",
    "* List of units of measurement of dependent quantities *(units_x)*;\n",
    "* List of units of measurement of the parameters *(units_param)*;\n",
    "* The project name, the folder's name where the results will be saved.\n"
   ]
  },
  {
   "cell_type": "code",
   "execution_count": 39,
   "metadata": {
    "pycharm": {
     "is_executing": false
    }
   },
   "outputs": [],
   "source": [
    "Estime = EstimacaoNaoLinear(Model, symbols_x=['t','Tao'], units_x=['s','K'],\n",
    "                            symbols_y=[r'y'], units_y=['adm'], symbols_param=['ko','E'], \n",
    "                            units_param=['adm','K'], Folder='Exemple2')"
   ]
  },
  {
   "cell_type": "markdown",
   "metadata": {},
   "source": [
    "## Data inclusion\n",
    "\n",
    "The experimental data provided in Table 1 of the dependent quantity (y) and the independent quantities (t and T), are presented below in the form of lists:"
   ]
  },
  {
   "cell_type": "code",
   "execution_count": 40,
   "metadata": {},
   "outputs": [],
   "source": [
    "#Time\n",
    "time = [120.0,60.0,60.0,120.0,120.0,60.0,60.0,30.0,15.0,60.0,\n",
    "45.1,90.0,150.0,60.0,60.0,60.0,30.0,90.0,150.0,90.4,120.0,\n",
    "60.0,60.0,60.0,60.0,60.0,60.0,30.0,45.1,30.0,30.0,45.0,15.0,30.0,90.0,25.0,\n",
    "60.1,60.0,30.0,30.0,60.0]\n",
    "\n",
    "#Temperature\n",
    "temperature = [600.0,600.0,612.0,612.0,612.0,612.0,620.0,620.0,620.0,\n",
    "620.0,620.0,620.0,620.0,620.0,620.0,620.0,620.0,620.0,620.0,620.0,620.0,\n",
    "620.0,620.0,620.0,620.0,620.0,620.0,631.0,631.0,631.0,631.0,631.0,639.0,639.0,\n",
    "639.0,639.0,639.0,639.0,639.0,639.0,639.0]\n",
    "\n",
    "#Reagent fraction \n",
    "y = [0.9,0.949,0.886,0.785,0.791,0.890,0.787,0.877,0.938,\n",
    "0.782,0.827,0.696,0.582,0.795,0.800,0.790,0.883,0.712,0.576,0.715,0.673,\n",
    "0.802,0.802,0.804,0.794,0.804,0.799,0.764,0.688,0.717,0.802,0.695,0.808,\n",
    "0.655,0.309,0.689,0.437,0.425,0.638,.659,0.449]"
   ]
  },
  {
   "cell_type": "markdown",
   "metadata": {},
   "source": [
    "The MT_PEU **needs** the **uncertainties of the experimental data** (ux1, ux2, uy1) to be informed. In this example, the value 1 has been assumed for all uncertainties."
   ]
  },
  {
   "cell_type": "code",
   "execution_count": 41,
   "metadata": {},
   "outputs": [],
   "source": [
    "uxtime = [1]*41\n",
    "uxtemperature = [1]*41\n",
    "uy = [1]*41"
   ]
  },
  {
   "cell_type": "markdown",
   "metadata": {},
   "source": [
    " **Entering the experimental data in MT_PEU:**\n",
    "\n",
    "The *setDados* method is used to include the data for dependent and independent quantities. Syntax:\n",
    "\n",
    "* Quantity identification, whether it is independent or dependent: 0 or 1 (respectively)\n",
    "* The experimental data and their uncertainties must be entered in sequence in the form of tuples."
   ]
  },
  {
   "cell_type": "code",
   "execution_count": 42,
   "metadata": {},
   "outputs": [],
   "source": [
    "Estime.setDados(0,(time,uxtime),(temperature,uxtemperature))\n",
    "Estime.setDados(1,(y,uy))"
   ]
  },
  {
   "cell_type": "markdown",
   "metadata": {},
   "source": [
    "The setConjunto method defines that the experimental data previously entered will be used as a data set for which parameters will be estimated:"
   ]
  },
  {
   "cell_type": "code",
   "execution_count": 43,
   "metadata": {},
   "outputs": [],
   "source": [
    "Estime.setConjunto()"
   ]
  },
  {
   "cell_type": "markdown",
   "metadata": {},
   "source": [
    "## Optimization\n",
    "\n",
    "In this example, the user can choose the algorithm to be used in the optimization. \n",
    "Available: 'ipopt', 'bonmin' and 'sqpmethod'.\n",
    "\n",
    "If the user does not choose any optimization method, the default algorithm will be used: ipopt, with initial estimative equal to [0.03, 20000.00].\n",
    "\n",
    "**algorithm:** Informs the optimization algorithm that will be used. Each algorithm has its own keywords;\n",
    "\n",
    "**optimizationReport:** Informs whether the optimization report should be created (True or False);"
   ]
  },
  {
   "cell_type": "code",
   "execution_count": 44,
   "metadata": {},
   "outputs": [],
   "source": [
    "Estime.optimize(initial_estimative=[18, 20000.000],optimizationReport = False, algorithm='ipopt')"
   ]
  },
  {
   "cell_type": "markdown",
   "metadata": {},
   "source": [
    "## Parameters uncertainty\n",
    "\n",
    "\n",
    "In this example, it is possible to choose the method used to evaluate uncertainty. \n",
    "Available: 2InvHessiana, Geral, SensibilidadeModelo. \n",
    "By definition the likelihood region filling is 'True', if necessary this option can be changed.\n",
    "\n",
    "If the user **does not** have an interest in **evaluating the uncertainty of the parameters**, just **do not** perform **Estime.parametersUncertainty**."
   ]
  },
  {
   "cell_type": "code",
   "execution_count": 45,
   "metadata": {},
   "outputs": [],
   "source": [
    "Estime.parametersUncertainty(uncertaintyMethod='2InvHessiana',objectiveFunctionMapping=True)"
   ]
  },
  {
   "cell_type": "markdown",
   "metadata": {},
   "source": [
    "The user has the ability to request the generation of graphics in other places in the code, without the need to execute it completely. As in this example, the graphs were generated without the **prediction** data."
   ]
  },
  {
   "cell_type": "code",
   "execution_count": 46,
   "metadata": {},
   "outputs": [
    {
     "name": "stderr",
     "output_type": "stream",
     "text": [
      "C:\\Users\\User\\Desktop\\MT_PEU\\MT_PEU.py:2013: UserWarning: The graphs involving only the calculated quantities (X and Y) could not be created, because the prediction method was not executed.\n",
      "  warn('The graphs involving only the calculated quantities (X and Y) could not be created, because the prediction method was not executed.',UserWarning)\n"
     ]
    },
    {
     "data": {
      "text/plain": [
       "<Figure size 432x288 with 0 Axes>"
      ]
     },
     "metadata": {},
     "output_type": "display_data"
    },
    {
     "data": {
      "text/plain": [
       "<Figure size 360x240 with 0 Axes>"
      ]
     },
     "metadata": {},
     "output_type": "display_data"
    }
   ],
   "source": [
    "Estime.plots() "
   ]
  },
  {
   "cell_type": "markdown",
   "metadata": {},
   "source": [
    "## Prediction and residual analysis\n",
    "\n",
    "The prediction method evaluates the dependent quantity based on the estimated parameters. To give more credibility to the results, the covariance matrix of the estimates obtained through the model is also evaluated. \n",
    " \n",
    "The residue analysis provides information concerning the quality of the model, for example: (i) trend relationship not included in the model, (ii) undue correlations, etc. Such assessments are based on statistical tests such as homoscedasticity and $ðchi^2$.\n",
    "\n",
    "The prediction and the residual analysis are preferably performed with validation data when available.\n",
    "\n",
    "\n",
    "In prediction, the user has the option to export the values of $y$ in *txt* format."
   ]
  },
  {
   "cell_type": "code",
   "execution_count": 47,
   "metadata": {},
   "outputs": [],
   "source": [
    "Estime.prediction(export_y=True)\n",
    "Estime.residualAnalysis()"
   ]
  },
  {
   "cell_type": "markdown",
   "metadata": {},
   "source": [
    "## References: \n",
    "\n",
    "[1] SRINIVASAN, R.; LEVI, A. A.. Kinetics of the Thermal Isomerization of Bicyclo [2.1.1 ]hexane. Journal Of The American Chemical Society, [s.l.], v. 85, n. 21, p.3363-3365, 5 nov. 1963. American Chemical Society (ACS)\n",
    "\n",
    "[2] SCHWAAB, M.M.;PINTO, J.C. Análise de Dados Experimentais I: Fundamentos da Estátistica e Estimação de Parâmetros. \n",
    "Rio de Janeiro: e-papers, 2007.\n",
    "\n",
    "INMETRO.: Avaliação de dados de medição — Guia para a expressão de incerteza de medição. Rio de Janeiro: Jcgm, 2008.\n",
    "\n",
    "\n"
   ]
  }
 ],
 "metadata": {
  "kernelspec": {
   "display_name": "Python 3",
   "language": "python",
   "name": "python3"
  },
  "language_info": {
   "codemirror_mode": {
    "name": "ipython",
    "version": 3
   },
   "file_extension": ".py",
   "mimetype": "text/x-python",
   "name": "python",
   "nbconvert_exporter": "python",
   "pygments_lexer": "ipython3",
   "version": "3.7.3"
  },
  "pycharm": {
   "stem_cell": {
    "cell_type": "raw",
    "metadata": {
     "collapsed": false
    },
    "source": []
   }
  }
 },
 "nbformat": 4,
 "nbformat_minor": 2
}
