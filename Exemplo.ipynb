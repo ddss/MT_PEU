{
 "cells": [
  {
   "cell_type": "markdown",
   "metadata": {},
   "source": [
    "# Exemplo\n",
    "\n",
    "## Descrição do exemplo\n",
    "\n",
    "Exemplo retirado do livro xx.... estimação dos parâmetros E, T de ...."
   ]
  },
  {
   "cell_type": "markdown",
   "metadata": {},
   "source": [
    "Modelo a ser utilizado nos cálculos:\n",
    "\n",
    "$y_1 = e^{-(k_o\\cdot 10^{17})\\cdot t \\cdot e^{(-\\frac{E}{T})}}$"
   ]
  },
  {
   "cell_type": "markdown",
   "metadata": {},
   "source": [
    "## Primeiro passo:\n",
    "\n",
    "Importação de pacotes básicos"
   ]
  },
  {
   "cell_type": "code",
   "execution_count": 10,
   "metadata": {},
   "outputs": [],
   "source": [
    "# Importando as funções\n",
    "from MT_PEU import EstimacaoNaoLinear\n",
    "from MT_PEU_Linear import EstimacaoLinear\n",
    "# Importantando exp\n",
    "from numpy import exp"
   ]
  },
  {
   "cell_type": "markdown",
   "metadata": {},
   "source": [
    "## Segundo passo: Escrever o modelo"
   ]
  },
  {
   "cell_type": "code",
   "execution_count": 11,
   "metadata": {},
   "outputs": [],
   "source": [
    "def modelo(param,x,args):\n",
    "\n",
    "    tempo = x[:,0:1] # primeira coluna do vetor de dados\n",
    "    T     = x[:,1:2] # segunda coluna do vetor de dados\n",
    "\n",
    "    ko = param[0] # primeiro parâmetro\n",
    "    E  = param[1] # segundo parâmetro\n",
    "\n",
    "    y1 = exp(-ko*tempo*exp(-E*(1/T-1./630.))) # cálculo de y - vetorizado\n",
    "\n",
    "    return y1\n"
   ]
  },
  {
   "cell_type": "markdown",
   "metadata": {},
   "source": [
    "## Terceiro passo: inclusão de dados experimentais"
   ]
  },
  {
   "cell_type": "code",
   "execution_count": 12,
   "metadata": {},
   "outputs": [],
   "source": [
    "# Tempo\n",
    "\n",
    "x1 = [120.0,60.0,60.0,120.0,120.0,60.0,60.0,30.0,15.0,60.0,\n",
    "45.1,90.0,150.0,60.0,60.0,60.0,30.0,90.0,150.0,90.4,120.0,\n",
    "60.0,60.0,60.0,60.0,60.0,60.0,30.0,45.1,30.0,30.0,45.0,15.0,30.0,90.0,25.0,\n",
    "60.1,60.0,30.0,30.0,60.0]\n",
    "\n",
    "# Incerteza associada a cada ponto\n",
    "ux1 = [1]*41\n",
    "\n",
    "# Temperatura\n",
    "x2 = [600.0,600.0,612.0,612.0,612.0,612.0,620.0,620.0,620.0,\n",
    "620.0,620.0,620.0,620.0,620.0,620.0,620.0,620.0,620.0,620.0,620.0,620.0,\n",
    "620.0,620.0,620.0,620.0,620.0,620.0,631.0,631.0,631.0,631.0,631.0,639.0,639.0,\n",
    "639.0,639.0,639.0,639.0,639.0,639.0,639.0]\n",
    "\n",
    "# Incerteza associada a cada ponto\n",
    "ux2 = [1]*41\n",
    "\n",
    "# Variável dependente\n",
    "\n",
    "y = [0.9,0.949,0.886,0.785,0.791,0.890,0.787,0.877,0.938,\n",
    "0.782,0.827,0.696,0.582,0.795,0.800,0.790,0.883,0.712,0.576,0.715,0.673,\n",
    "0.802,0.802,0.804,0.794,0.804,0.799,0.764,0.688,0.717,0.802,0.695,0.808,\n",
    "0.655,0.309,0.689,0.437,0.425,0.638,.659,0.449]\n",
    "\n",
    "uy = [1]*41"
   ]
  },
  {
   "cell_type": "markdown",
   "metadata": {},
   "source": [
    "## Terceiro passo: Iniciar a função para estimação"
   ]
  },
  {
   "cell_type": "code",
   "execution_count": 13,
   "metadata": {},
   "outputs": [
    {
     "data": {
      "text/plain": [
       "<Figure size 432x288 with 0 Axes>"
      ]
     },
     "metadata": {},
     "output_type": "display_data"
    }
   ],
   "source": [
    "Estime = EstimacaoNaoLinear(modelo, ['y'], ['x1','x2'], ['ko','E'], PA=0.95, projeto='Projeto')\n",
    "Estime.setDados(0,(x1,ux1),(x2,ux2))\n",
    "Estime.setDados(1,(y,uy))\n",
    "Estime.setConjunto(tipo='estimacao')\n",
    "Estime.otimiza(estimativa_inicial= [0.005, 20000.000],algoritmo='Powell')\n",
    "Estime.incertezaParametros(delta=1e-5,metodoIncerteza='SensibilidadeModelo',preencherregiao=False)\n",
    "Estime.predicao()\n",
    "Estime.analiseResiduos()\n",
    "etapas = ['otimizacao','grandezas-entrada', 'predicao','grandezas-calculadas','analiseResiduos', 'regiaoAbrangencia']\n",
    "etapas = ['grandezas-entrada']\n",
    "Estime.graficos(etapas)\n",
    "Estime.relatorio(export_y=True,export_cov_y=True)"
   ]
  }
 ],
 "metadata": {
  "kernelspec": {
   "display_name": "Python 2",
   "language": "python",
   "name": "python2"
  },
  "language_info": {
   "codemirror_mode": {
    "name": "ipython",
    "version": 2
   },
   "file_extension": ".py",
   "mimetype": "text/x-python",
   "name": "python",
   "nbconvert_exporter": "python",
   "pygments_lexer": "ipython2",
   "version": "2.7.15"
  }
 },
 "nbformat": 4,
 "nbformat_minor": 2
}
