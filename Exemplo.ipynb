{
 "cells": [
  {
   "cell_type": "markdown",
   "metadata": {},
   "source": [
    "# Exemplo\n",
    "\n",
    "## Modelo cinético de reação de isomerização\n",
    "\n",
    "Exemplo retirado de Schwaab e Pinto (2007, p.325) que trata sobre a estimação de parâmetros do modelo cinético:\n",
    "\n",
    "$y = \\exp\\left[-\\left(k_o\\cdot 10^{17}\\right)\\cdot t \\cdot \\exp\\left(-\\frac{E}{T}\\right)\\right]$,                  (1)\n",
    "\n",
    "em que $y$ é a fração que resta do reagente, $t$ é o tempo, $T$ é a temperatura, por fim $k_o$ e $E$ são os parâmetros a serem estimados.\n",
    "\n",
    "### Dados experimentais:\n",
    "\n",
    "Os dados experimentais da variável dependente ($y$) e das variáveis independentes ($t$ e $T$) são disponibilizados em Schwaab e Pinto (2007, p. 325), e apresentados abaixo na forma de listas:"
   ]
  },
  {
   "cell_type": "code",
   "execution_count": 93,
   "metadata": {},
   "outputs": [],
   "source": [
    "# Tempo\n",
    "tempo = [120.0,60.0,60.0,120.0,120.0,60.0,60.0,30.0,15.0,60.0,\n",
    "45.1,90.0,150.0,60.0,60.0,60.0,30.0,90.0,150.0,90.4,120.0,\n",
    "60.0,60.0,60.0,60.0,60.0,60.0,30.0,45.1,30.0,30.0,45.0,15.0,30.0,90.0,25.0,\n",
    "60.1,60.0,30.0,30.0,60.0]\n",
    "\n",
    "# Temperatura\n",
    "temperatura = [600.0,600.0,612.0,612.0,612.0,612.0,620.0,620.0,620.0,\n",
    "620.0,620.0,620.0,620.0,620.0,620.0,620.0,620.0,620.0,620.0,620.0,620.0,\n",
    "620.0,620.0,620.0,620.0,620.0,620.0,631.0,631.0,631.0,631.0,631.0,639.0,639.0,\n",
    "639.0,639.0,639.0,639.0,639.0,639.0,639.0]\n",
    "\n",
    "# fração\n",
    "y = [0.9,0.949,0.886,0.785,0.791,0.890,0.787,0.877,0.938,\n",
    "0.782,0.827,0.696,0.582,0.795,0.800,0.790,0.883,0.712,0.576,0.715,0.673,\n",
    "0.802,0.802,0.804,0.794,0.804,0.799,0.764,0.688,0.717,0.802,0.695,0.808,\n",
    "0.655,0.309,0.689,0.437,0.425,0.638,.659,0.449]"
   ]
  },
  {
   "cell_type": "markdown",
   "metadata": {},
   "source": [
    "A plataforma MT-PEU necessita da incerteza dos dados experimentais, como essa informação não foi disponibilizada, será assumido o valor 1 para todos os dados:"
   ]
  },
  {
   "cell_type": "code",
   "execution_count": 94,
   "metadata": {},
   "outputs": [],
   "source": [
    "# lista com incertezas para o tempo\n",
    "utempo = [1]*41\n",
    "# lista com incertezas para a temperatura\n",
    "utemperatura = [1]*41\n",
    "# lista com incertezas para y\n",
    "uy = [1]*41"
   ]
  },
  {
   "cell_type": "markdown",
   "metadata": {},
   "source": [
    "### Modelo:\n",
    "\n",
    "O modelo é definido na forma de uma subrotina (def) do python e representa a equação (1):"
   ]
  },
  {
   "cell_type": "code",
   "execution_count": 95,
   "metadata": {},
   "outputs": [],
   "source": [
    "def modelo(param,x,*args):\n",
    "\n",
    "    tempo = x[:,0:1] # primeira coluna do vetor de dados\n",
    "    T     = x[:,1:2] # segunda coluna do vetor de dados\n",
    "\n",
    "    ko = param[0] # primeiro parâmetro\n",
    "    E  = param[1] # segundo parâmetro\n",
    "\n",
    "    y = exp(-ko*10**17*tempo*exp(-E/T)) # cálculo de y - vetorizado\n",
    "\n",
    "    return y"
   ]
  },
  {
   "cell_type": "markdown",
   "metadata": {},
   "source": [
    "### Configuração da estimação\n",
    "Importação de pacotes:"
   ]
  },
  {
   "cell_type": "code",
   "execution_count": 96,
   "metadata": {},
   "outputs": [],
   "source": [
    "# Importando as funções\n",
    "from MT_PEU import EstimacaoNaoLinear\n",
    "# Importantando exp\n",
    "from numpy import exp"
   ]
  },
  {
   "cell_type": "markdown",
   "metadata": {},
   "source": [
    "Iniciar a função para realizar a estimação:"
   ]
  },
  {
   "cell_type": "code",
   "execution_count": 97,
   "metadata": {},
   "outputs": [],
   "source": [
    "# Criar o objeto que realiza a estimação\n",
    "Estime = EstimacaoNaoLinear(modelo, ['y'], ['tempo','Temperatura'], ['ko','E'], PA=0.95, projeto='Projeto')"
   ]
  },
  {
   "cell_type": "markdown",
   "metadata": {},
   "source": [
    "### Inclusão de dados experimentais na estimação\n",
    "Incluir os dados experimentais nesse objeto:"
   ]
  },
  {
   "cell_type": "code",
   "execution_count": 98,
   "metadata": {},
   "outputs": [],
   "source": [
    "# grandezas dependentes. [Opção 0 é para grandeza dependente]\n",
    "Estime.setDados(0,(tempo,utempo),(temperatura,utemperatura))\n",
    "# grandezas independentes [Opção 1 é para grandeza independente]\n",
    "Estime.setDados(1,(y,uy))"
   ]
  },
  {
   "cell_type": "markdown",
   "metadata": {},
   "source": [
    "Definir que os dados experimentais previamente inseridos serão utilizados como um conjunto de dados para o qual os parâmetros serão estimados:"
   ]
  },
  {
   "cell_type": "code",
   "execution_count": 99,
   "metadata": {},
   "outputs": [],
   "source": [
    "Estime.setConjunto(tipo='estimacao')\n"
   ]
  },
  {
   "cell_type": "markdown",
   "metadata": {},
   "source": [
    "### Executar a otimização (Cálculo dos parâmetros)\n",
    "\n",
    "Otimização será realizada utilizado o algoritmo Nelder-Mead (simplex) com estimativa inicial de [1, 30000], para $k_o$ e $T$ respectivamente."
   ]
  },
  {
   "cell_type": "code",
   "execution_count": 100,
   "metadata": {},
   "outputs": [],
   "source": [
    "Estime.otimiza(estimativa_inicial= [1, 30000],algoritmo='Nelder-Mead')"
   ]
  },
  {
   "cell_type": "markdown",
   "metadata": {},
   "source": [
    "Para ver o resultado (valor dos parâmetros no ponto ótimo):"
   ]
  },
  {
   "cell_type": "code",
   "execution_count": 101,
   "metadata": {},
   "outputs": [
    {
     "data": {
      "text/plain": [
       "[0.8623249732455059, 27642.66282728434]"
      ]
     },
     "execution_count": 101,
     "metadata": {},
     "output_type": "execute_result"
    }
   ],
   "source": [
    "# Verificando o resultado da otimização\n",
    "Estime.parametros.estimativa"
   ]
  },
  {
   "cell_type": "code",
   "execution_count": 102,
   "metadata": {},
   "outputs": [
    {
     "data": {
      "text/plain": [
       "'Optimization terminated successfully.'"
      ]
     },
     "execution_count": 102,
     "metadata": {},
     "output_type": "execute_result"
    }
   ],
   "source": [
    "Estime.Otimizacao.message"
   ]
  },
  {
   "cell_type": "code",
   "execution_count": 103,
   "metadata": {},
   "outputs": [
    {
     "data": {
      "text/plain": [
       "0.010279259412040541"
      ]
     },
     "execution_count": 103,
     "metadata": {},
     "output_type": "execute_result"
    }
   ],
   "source": [
    "Estime.Otimizacao.fun"
   ]
  },
  {
   "cell_type": "code",
   "execution_count": 104,
   "metadata": {},
   "outputs": [
    {
     "data": {
      "text/plain": [
       "array([[1.51921418e+03, 1.10691225e+06],\n",
       "       [1.10691225e+06, 8.06698211e+08]])"
      ]
     },
     "execution_count": 104,
     "metadata": {},
     "output_type": "execute_result"
    }
   ],
   "source": [
    "# Avaliando a incerteza\n",
    "Estime.incertezaParametros(delta=1e-5,metodoIncerteza='SensibilidadeModelo',preencherregiao=False)\n",
    "Estime.parametros.matriz_covariancia"
   ]
  },
  {
   "cell_type": "markdown",
   "metadata": {},
   "source": [
    "## Referência\n",
    "\n",
    "SCHWAAB, M. M.; PINTO, J. C. Análise de Dados Experimentais I: Fundamentos da Estatística e Estimação de Parâmetros. Rio de Janeiro: e-papers, 2007."
   ]
  }
 ],
 "metadata": {
  "kernelspec": {
   "display_name": "Python 2",
   "language": "python",
   "name": "python2"
  },
  "language_info": {
   "codemirror_mode": {
    "name": "ipython",
    "version": 2
   },
   "file_extension": ".py",
   "mimetype": "text/x-python",
   "name": "python",
   "nbconvert_exporter": "python",
   "pygments_lexer": "ipython2",
   "version": "2.7.15"
  }
 },
 "nbformat": 4,
 "nbformat_minor": 2
}
