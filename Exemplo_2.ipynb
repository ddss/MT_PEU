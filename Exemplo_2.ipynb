{
 "cells": [
  {
   "cell_type": "markdown",
   "metadata": {},
   "source": [
    "# Exemplo: Modelo cinético de reação de isomerização\n",
    "\n",
    "## Introdução:\n",
    "\n",
    "\n",
    "O problema aborado refere-se a pirólise do biciclohexano na fase de vapor, numa faixa de temperatura de 327 à 366 ºC, tendo como resultado a produção da substância 1,5-hexadieno.\n",
    "\n",
    "O presente estudo faz parte de uma investigação sistemática da pirólise de compostos bicíclicos e tem como objetivo ajudar a identificar as reações de origem térmica nos sitemas fotoquímicos em que compostos como o 1,5-hexadieno, são gerados.\n",
    "\n",
    "Na tabela a seguir, tem-se alguns resultados experimentais obtidos durante o processo de reação:\n",
    "\n",
    "                                               \n",
    "                                               \n",
    "  Temperatura (°C) | Pressâo do reagente (mm) | Tempo (min) | Fração do reagente (%) |       $k$ x $10^{5}$\n",
    "  :-------------: |  :----------------------: |:-----------:|:---------------------: |:------------------------:\n",
    "         327.2    |         18.4                        |120              |90.0                  |1.46 \n",
    "                  |         18.3                        |60.0             |94.9                  |1.43\n",
    "         338.9    |         18.3                        |60.0             |88.6                  |3.37\n",
    "                  |         18.1                        |120              |78.5                  |3.36\n",
    "                  |         18.9                        |120              |79.1                  |3.25\n",
    "                  |         18.6                        |60.0             |89.0                  |3.44\n",
    "                  |         22.5                        |60               |78.7                  |6.64  \n",
    "                  |         19.9                        |45.0             |69.5                  |13.5\n",
    "         366.3    |         24.3                        |15.0             |80.8                  |23.6\n",
    "           \n",
    "           \n",
    "           \n",
    "\n",
    "\n",
    "\n",
    "\n",
    "\n",
    "\n",
    "\n",
    "Exemplo retirado de Schwaab e Pinto (2007) que trata sobre a estimação de parâmetros do modelo cinético:\n",
    "\n",
    "$y = \\exp\\left[-t\\cdot \\exp\\left(K_0-\\frac{E}{T}\\right)\\right]$,                  (1)\n",
    "\n",
    "em que $y$ é a fração que resta do reagente, $t$ é o tempo, $T$ é a temperatura, por fim $k_o$ e $E$ são os parâmetros a serem estimados.\n",
    "\n",
    "\n",
    "O problema de otimização a ser resolvido, envolve o uso da função objetivo de mínimos quadrados ponderados pelo inverso da variância, conforme:\n",
    "\n",
    "$\\min_{ko,E} \\sum_{i=1}^{NE} \\left(\\frac{y^{exp}_i-y_i(k_o,E)}{u^2_{y_i}}\\right)$ (2)\n",
    "\n",
    "sujeito à (1).\n",
    "\n",
    "![Reação de Pirólise](https://drive.google.com/file/d/1HJohHVcX4PmE56eKGoBelnQgcyNm0yUE/view)\n",
    "\n",
    "\n",
    "## Importação de pacotes\n",
    "\n",
    "Importação de bibliotecas (pacotes) necessárias para execução do código.\n",
    "\n",
    "* **MT_PEU**: biblioteca que contém as principais funcionalidades da ferramenta\n",
    "\n",
    "    * Importar a classe **EstimacaoNaoLinear**, que será utilizada neste exemplo de estimação não linear\n",
    "\n",
    "* **numpy**: biblioteca para computação científica\n",
    "\n",
    "    * será necessária somente a função **exp** (exponencial) para construção do modelo\n"
   ]
  },
  {
   "cell_type": "code",
   "execution_count": 1,
   "metadata": {
    "pycharm": {
     "is_executing": false
    }
   },
   "outputs": [],
   "source": [
    "from MT_PEU import EstimacaoNaoLinear\n",
    "from numpy import exp"
   ]
  },
  {
   "cell_type": "markdown",
   "metadata": {},
   "source": [
    "## Criação de modelo\n",
    "\n",
    "O modelo (1) representa o comportamento da variável de saída, no qual os parâmetros $k_o$ e $E$ serão estimados.\n",
    "\n",
    "Este modelo é definido, então, na forma de uma subrotina, **def**, do python e representado por:"
   ]
  },
  {
   "cell_type": "code",
   "execution_count": 2,
   "metadata": {
    "pycharm": {
     "is_executing": false
    }
   },
   "outputs": [],
   "source": [
    "def modelo (param, x, args):\n",
    "\n",
    "    tempo = x[:,0:1] # primeira coluna do vetor de dado\n",
    "    T     = x[:,1:2] # segunda coluna do vetor de dados\n",
    "\n",
    "    ko = param[0] # primeiro parâmetro\n",
    "    E  = param[1] # segundo parâmetro\n",
    "\n",
    "    y = exp(-tempo*exp(ko-E/T)) # cálculo de y - vetorizado\n",
    "\n",
    "    return y"
   ]
  },
  {
   "cell_type": "markdown",
   "metadata": {},
   "source": [
    "## Inicialização de classe\n",
    "\n",
    "Para executar a estimação, o primeiro passo é configurar a classe **EstimacaoNaoLinear**, inicialmente, incluindo informações básicas: o modelo, símbolo para as grandeza independente (x), ....\n",
    "\n",
    "\n",
    "\n",
    "Neste exemplo apresentamos alumas possíveis entradas opcionais, como unidades, assim como a opção de renomear a pasta onde são gerados os aquivos com os resultados.\n",
    "\n",
    "No exemplo abaixo, onde o nome da pasta foi alterado para 'Teste1'.\n"
   ]
  },
  {
   "cell_type": "code",
   "execution_count": 3,
   "metadata": {
    "pycharm": {
     "is_executing": false
    }
   },
   "outputs": [],
   "source": [
    "Estime = EstimacaoNaoLinear(modelo, simbolos_x=[r't','T'], unidades_x=['s','K'],\n",
    "                            simbolos_y=[r'y'], unidades_y=['adm'],\n",
    "                            simbolos_param=['ko','E'], unidades_param=['adm','K'], projeto='Teste1')\n"
   ]
  },
  {
   "cell_type": "markdown",
   "metadata": {},
   "source": [
    "## Inclusão de dados\n",
    "\n",
    "Os dados experimentais apresentados em ....... da variável dependente (y) e das variáveis independentes (t e T)\n",
    "são disponibilizados em Schwaab e Pinto (2007, p.326), e apresentados abaixo na forma de listas:\n"
   ]
  },
  {
   "cell_type": "code",
   "execution_count": 4,
   "metadata": {},
   "outputs": [],
   "source": [
    "#Tempo\n",
    "tempo = [120.0,60.0,60.0,120.0,120.0,60.0,60.0,30.0,15.0,60.0,\n",
    "45.1,90.0,150.0,60.0,60.0,60.0,30.0,90.0,150.0,90.4,120.0,\n",
    "60.0,60.0,60.0,60.0,60.0,60.0,30.0,45.1,30.0,30.0,45.0,15.0,30.0,90.0,25.0,\n",
    "60.1,60.0,30.0,30.0,60.0]\n",
    "\n",
    "#Temperatura\n",
    "temperatura = [600.0,600.0,612.0,612.0,612.0,612.0,620.0,620.0,620.0,\n",
    "620.0,620.0,620.0,620.0,620.0,620.0,620.0,620.0,620.0,620.0,620.0,620.0,\n",
    "620.0,620.0,620.0,620.0,620.0,620.0,631.0,631.0,631.0,631.0,631.0,639.0,639.0,\n",
    "639.0,639.0,639.0,639.0,639.0,639.0,639.0]\n",
    "\n",
    "y = [0.9,0.949,0.886,0.785,0.791,0.890,0.787,0.877,0.938,\n",
    "0.782,0.827,0.696,0.582,0.795,0.800,0.790,0.883,0.712,0.576,0.715,0.673,\n",
    "0.802,0.802,0.804,0.794,0.804,0.799,0.764,0.688,0.717,0.802,0.695,0.808,\n",
    "0.655,0.309,0.689,0.437,0.425,0.638,.659,0.449]"
   ]
  },
  {
   "cell_type": "markdown",
   "metadata": {},
   "source": [
    "Como entrada obrigatória, a plataforma MT_PEU necessita da **incerteza dos dados experimentais** (ux1, ux2, uy1).\n",
    "Neste exemplo, foram adotados o valor 1 para as incertezas."
   ]
  },
  {
   "cell_type": "code",
   "execution_count": 5,
   "metadata": {},
   "outputs": [],
   "source": [
    "uxtempo = [1]*41\n",
    "uxtemperatura = [1]*41\n",
    "uy = [1]*41"
   ]
  },
  {
   "cell_type": "markdown",
   "metadata": {},
   "source": [
    "Inclusão de dados experimentais na estimação:\n",
    "Inclui os dados experimentais nesse objeto *(setDados)*, onde a opção 0 é para a grandeza dependente,\n",
    "e a opção 1 é para a grandeza independente.\n"
   ]
  },
  {
   "cell_type": "code",
   "execution_count": 6,
   "metadata": {},
   "outputs": [],
   "source": [
    "Estime.setDados(0,(tempo,uxtempo),(temperatura,uxtemperatura))\n",
    "Estime.setDados(1,(y,uy))"
   ]
  },
  {
   "cell_type": "markdown",
   "metadata": {},
   "source": [
    "Define que os dados experimentais previamente inseridos serão utilizados como um conjunto de dados para o qual os \n",
    "parâmetros serão estimados:"
   ]
  },
  {
   "cell_type": "code",
   "execution_count": 7,
   "metadata": {},
   "outputs": [],
   "source": [
    "Estime.setConjunto()"
   ]
  },
  {
   "cell_type": "markdown",
   "metadata": {},
   "source": [
    "## Otimização\n",
    "\n",
    "Neste exemplo, o usuário tem a opção de escolha do algoritmo a ser utilizado na otimização. \n",
    "Disponiveis: 'Nelder-Mead', 'Powell', 'BFGS', 'L-BFGS-B', 'CG'. \n",
    "Caso opte por não escolher, será utilizado o algoritmo default: Nelder-Mead, com estimativa inicial em [0.03 , 20000.00].\n"
   ]
  },
  {
   "cell_type": "code",
   "execution_count": 8,
   "metadata": {},
   "outputs": [],
   "source": [
    "Estime.otimiza(estimativa_inicial= [0.03, 20000.000],algoritmo='Nelder-Mead')\n",
    "#Estime.SETparametro([3.900e+01, 2.764e+04])"
   ]
  },
  {
   "cell_type": "markdown",
   "metadata": {},
   "source": [
    "## Incerteza\n",
    "\n",
    "\n",
    "Neste exemplo é possível escolher o método útilizado para avaliar a incerteza \n",
    "Métodos disponíveis: 2InvHessiana, Geral, SensibilidadeModelo. \n",
    "Por definição o preenchimeto da região de verossimilhança é 'True', caso necessário esta opção pode ser alterada.\n"
   ]
  },
  {
   "cell_type": "code",
   "execution_count": 9,
   "metadata": {},
   "outputs": [
    {
     "data": {
      "image/png": "[encoded data removed]",
      "text/plain": [
       "<Figure size 432x288 with 1 Axes>"
      ]
     },
     "metadata": {
      "needs_background": "light"
     },
     "output_type": "display_data"
    }
   ],
   "source": [
    "Estime.incertezaParametros(delta=1e-5,metodoIncerteza='2InvHessiana',preencherregiao=True)"
   ]
  },
  {
   "cell_type": "markdown",
   "metadata": {},
   "source": [
    "## Predição de análise de resíduos\n",
    "\n",
    " No método predição, é feita a avaliação da grandeza dependente com base nos parâmetros fornecidos. \n",
    " A covariância é avaliada, e consequentemente a eficiencia do modelo. \n",
    " Em análise de residuos é possível verificar possíveis relações de dependencia e/ou tendencia entre as variaveis. \n",
    " Testes estatisticos como o de homocedasticidade, $\\chi^2$, dentre outros são realizados\n",
    " nesta etapa. A analise de residuos é feita prioritariamente com os dados de validação.\n"
   ]
  },
  {
   "cell_type": "code",
   "execution_count": 10,
   "metadata": {},
   "outputs": [],
   "source": [
    "Estime.predicao()\n",
    "Estime.analiseResiduos()"
   ]
  },
  {
   "cell_type": "markdown",
   "metadata": {},
   "source": [
    "## Gráficos e relatório\n",
    "\n",
    "Nesta etapa ocorre a geração dos dados de saída do programa : relátorios e gráficos. \n",
    "Os gráficos são gerados de acordo com as etapas que foram realizadas. No relátorio contém informações a respeito.\n",
    "dos testes estatisticos, função objetivo, matriz de covariância, status da otimização, dentre outros.\n"
   ]
  },
  {
   "cell_type": "code",
   "execution_count": 11,
   "metadata": {},
   "outputs": [
    {
     "name": "stderr",
     "output_type": "stream",
     "text": [
      "/home/giufba-admin/Documentos/MT_PEU/MT_PEU.py:2084: UserWarning: Os gráficos de otimizacao não puderam ser criados, o algoritmo de otimização utilizado não possui gráficos de desempenho OU o método otimizacao não foi executado.\n",
      "  warn('Os gráficos de otimizacao não puderam ser criados, o algoritmo de otimização utilizado não possui gráficos de desempenho OU o método otimizacao não foi executado.',UserWarning)\n"
     ]
    },
    {
     "data": {
      "text/plain": [
       "<Figure size 432x288 with 0 Axes>"
      ]
     },
     "metadata": {},
     "output_type": "display_data"
    },
    {
     "data": {
      "text/plain": [
       "<Figure size 360x240 with 0 Axes>"
      ]
     },
     "metadata": {},
     "output_type": "display_data"
    }
   ],
   "source": [
    "etapas = ['otimizacao','grandezas-entrada', 'predicao','grandezas-calculadas','analiseResiduos', 'regiaoAbrangencia']\n",
    "Estime.graficos(etapas)\n",
    "Estime.relatorio()"
   ]
  },
  {
   "cell_type": "markdown",
   "metadata": {},
   "source": [
    "## Referências: \n",
    "\n",
    "SCHWAAB, M.M.;PINTO, J.C. Análise de Dados Experimentais I: Fundamentos da Estátistica e Estimação de Parâmetros. \n",
    "Rio de Janeiro: e-papers, 2007.\n",
    "\n",
    "(foi citado?)\n",
    "Avaliação de dados de medição — Guia para a expressão de incerteza de medição \n",
    "http://www.inmetro.gov.br/noticias/conteudo/iso_gum_versao_site.pdf \n",
    "\n",
    "(adequar)\n",
    "https://pubs.acs.org/doi/pdf/10.1021/ja00904a011\n",
    "\n"
   ]
  },
  {
   "cell_type": "code",
   "execution_count": null,
   "metadata": {},
   "outputs": [],
   "source": []
  }
 ],
 "metadata": {
  "kernelspec": {
   "display_name": "Python 3",
   "language": "python",
   "name": "python3"
  },
  "language_info": {
   "codemirror_mode": {
    "name": "ipython",
    "version": 3
   },
   "file_extension": ".py",
   "mimetype": "text/x-python",
   "name": "python",
   "nbconvert_exporter": "python",
   "pygments_lexer": "ipython3",
   "version": "3.7.3"
  },
  "pycharm": {
   "stem_cell": {
    "cell_type": "raw",
    "metadata": {
     "collapsed": false
    },
    "source": []
   }
  }
 },
 "nbformat": 4,
 "nbformat_minor": 2
}
