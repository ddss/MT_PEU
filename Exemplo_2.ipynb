{
 "cells": [
  {
   "cell_type": "markdown",
   "metadata": {},
   "source": [
    "# Exemplo: Modelo cinético de reação de isomerização\n",
    "\n",
    "## Introdução\n",
    "\n",
    "\n",
    "O problema abordado refere-se à estimação dos parâmetros do modelo cinético da reação de pirólise  do biciclohexano na fase de vapor. Esta reação tem como produto o 1,5-hexadieno [1] e é exemplificada pela Figura 1.\n",
    "\n",
    "**Figura 1: Reação de pirólise do biciclohexano. Fonte: [1]**\n",
    "![Tanques](./Imagens/P.jpg)\n",
    "\n",
    "Os dados experimentais para esta reação, numa faixa de temperatura de 327 à 366 ºC, são apresentados na Tabela 1.     \n",
    "\n",
    "**Tabela 1: Dados experimentais. Fonte: [1]**     \n",
    "                                               \n",
    "  Temperatura / °C | Pressâo do reagente (mm) | Tempo (min) | Fração do reagente (%) |       $k$ x $10^{5}$\n",
    "  :-------------: |  :----------------------: |:-----------:|:---------------------: |:------------------------:\n",
    "         327.2    |         18.4                        |120              |90.0                  |1.46 \n",
    "         327.2    |         18.3                        |60.0             |94.9                  |1.43\n",
    "         338.9    |         18.3                        |60.0             |88.6                  |3.37\n",
    "             .    |         .                           |.                |.                     |.\n",
    "             .    |         .                           |.                |.                     |.\n",
    "             .    |         .                           |.                |.                     |.\n",
    "         366.3    |         0.45                        |60.0             |46.8                  |21.1  \n",
    "         366.3    |         0.30                        |30.0             |47.6                  |21.8\n",
    "         366.3    |         0.25                        |60.0             |49.7                  |19.4\n",
    "           \n",
    "           \n",
    "O modelo cinético para esta reação é dado por [2]: \n",
    "\n",
    "$y = \\exp\\left[-t\\cdot \\exp\\left(K_0-\\frac{E}{T}\\right)\\right]$,                  (1)\n",
    "\n",
    "em que $y$ é a fração do reagente, $t$ é o tempo, $T$ é a temperatura em K, por fim, $k_o$ e $E$ são os parâmetros a serem estimados.\n",
    "\n",
    "Então, o problema de otimização a ser resolvido envolve o uso da função objetivo de mínimos quadrados ponderados pelo inverso da variância, conforme [2]:\n",
    "\n",
    "$\\min_{ko,E} \\sum_{i=1}^{NE} \\left(\\frac{y^{exp}_i-y_i(k_o,E)}{u^2_{y_i}}\\right)$ (2)\n",
    "\n",
    "sujeito à (1).\n",
    "\n",
    "Para resolução deste problema no MT_PEU serão usados os símbolos:\n",
    "\n",
    "* Símbolos das grandezas independentes (tempo e temperatura): t, T\n",
    "* Símbolos das grandezas dependentes (fração de reagente): y\n",
    "* Símbolos dos parâmetros: ko, E\n",
    "\n",
    "## Importação de pacotes\n",
    "\n",
    "Importação de bibliotecas (pacotes) necessárias para execução do código.\n",
    "\n",
    "* **MT_PEU**: biblioteca que contém as principais funcionalidades da ferramenta\n",
    "\n",
    "    * Importar a classe **EstimacaoNaoLinear**, que será utilizada neste exemplo de estimação não linear\n",
    "\n",
    "* **casadi**: biblioteca para computação simbólica\n",
    "\n",
    "    * será necessária somente a função **vertcat** para construção do modelo"
   ]
  },
  {
   "cell_type": "code",
   "execution_count": 1,
   "metadata": {
    "pycharm": {
     "is_executing": false
    }
   },
   "outputs": [],
   "source": [
    "from MT_PEU import EstimacaoNaoLinear\n",
    "from casadi import exp"
   ]
  },
  {
   "cell_type": "markdown",
   "metadata": {},
   "source": [
    "## Criação de modelo\n",
    "\n",
    "O modelo (1) representa o comportamento da grandeza dependente, no qual os parâmetros $k_o$ e $E$ serão estimados.\n",
    "\n",
    "Este modelo é definido, então, na forma de uma subrotina, **def**, do python e representado por:"
   ]
  },
  {
   "cell_type": "code",
   "execution_count": 2,
   "metadata": {
    "pycharm": {
     "is_executing": false
    }
   },
   "outputs": [],
   "source": [
    "def modelo (param, x, args):\n",
    "\n",
    "    ko, E = param[0], param[1]\n",
    "    tempo, T = x[:,0], x[:,1]\n",
    "\n",
    "    return  exp(-tempo*exp(ko-E/T)) # cálculo de y - vetorizado"
   ]
  },
  {
   "cell_type": "markdown",
   "metadata": {},
   "source": [
    "## Inicialização de classe\n",
    "\n",
    "Para executar a estimação, o primeiro passo é configurar a classe **EstimacaoNaoLinear**, inicialmente, incluindo informações básicas:\n",
    "\n",
    "* O modelo,\n",
    "* Os símbolos para as grandeza independentes *(x)*; \n",
    "* Os símbolos para as grandezas dependentes *(y)*; \n",
    "* Os símbolos para os parâmetros *(param)*;\n",
    "* O nome do projeto, o nome da pasta onde serão gerados os resultados.\n"
   ]
  },
  {
   "cell_type": "code",
   "execution_count": 3,
   "metadata": {
    "pycharm": {
     "is_executing": false
    }
   },
   "outputs": [],
   "source": [
    "Estime = EstimacaoNaoLinear(modelo, simbolos_x=['t','T'], simbolos_y=['y'],\n",
    "                            simbolos_param=['ko','E'],  Folder='ModeloCineticoEX2')\n"
   ]
  },
  {
   "cell_type": "markdown",
   "metadata": {},
   "source": [
    "## Inclusão de dados\n",
    "\n",
    "Os dados experimentais disponibilizados em [2] da variável dependente (y) e das variáveis independentes (t e T), são apresentados abaixo na forma de listas:\n"
   ]
  },
  {
   "cell_type": "code",
   "execution_count": 4,
   "metadata": {},
   "outputs": [],
   "source": [
    "#Tempo\n",
    "tempo = [120.0,60.0,60.0,120.0,120.0,60.0,60.0,30.0,15.0,60.0,\n",
    "45.1,90.0,150.0,60.0,60.0,60.0,30.0,90.0,150.0,90.4,120.0,\n",
    "60.0,60.0,60.0,60.0,60.0,60.0,30.0,45.1,30.0,30.0,45.0,15.0,30.0,90.0,25.0,\n",
    "60.1,60.0,30.0,30.0,60.0]\n",
    "\n",
    "#Temperatura\n",
    "temperatura = [600.0,600.0,612.0,612.0,612.0,612.0,620.0,620.0,620.0,\n",
    "620.0,620.0,620.0,620.0,620.0,620.0,620.0,620.0,620.0,620.0,620.0,620.0,\n",
    "620.0,620.0,620.0,620.0,620.0,620.0,631.0,631.0,631.0,631.0,631.0,639.0,639.0,\n",
    "639.0,639.0,639.0,639.0,639.0,639.0,639.0]\n",
    "\n",
    "y = [0.9,0.949,0.886,0.785,0.791,0.890,0.787,0.877,0.938,\n",
    "0.782,0.827,0.696,0.582,0.795,0.800,0.790,0.883,0.712,0.576,0.715,0.673,\n",
    "0.802,0.802,0.804,0.794,0.804,0.799,0.764,0.688,0.717,0.802,0.695,0.808,\n",
    "0.655,0.309,0.689,0.437,0.425,0.638,.659,0.449]"
   ]
  },
  {
   "cell_type": "markdown",
   "metadata": {},
   "source": [
    "Como entrada **obrigatória**, a plataforma MT_PEU necessita da **incerteza dos dados experimentais** (ux1, ux2, uy1).\n",
    "Neste exemplo, foram adotados o valor 1 para as incertezas."
   ]
  },
  {
   "cell_type": "code",
   "execution_count": 5,
   "metadata": {},
   "outputs": [],
   "source": [
    "uxtempo = [1]*41\n",
    "uxtemperatura = [1]*41\n",
    "uy = [1]*41"
   ]
  },
  {
   "cell_type": "markdown",
   "metadata": {},
   "source": [
    "**Inclusão de dados experimentais na estimação:**\n",
    "\n",
    "O método *setDados* é utilizado para incluir os dados para as grandezas dependentes e independentes. Sintaxe:\n",
    "\n",
    "* identificação da grandeza, se independente ou dependente: 0 ou 1 (respectivamente)\n",
    "* os dados experimentais e suas incertezas inseridos em sequência na forma de tuplas.\n",
    "\n"
   ]
  },
  {
   "cell_type": "code",
   "execution_count": 6,
   "metadata": {},
   "outputs": [],
   "source": [
    "Estime.setDados(0,(tempo,uxtempo),(temperatura,uxtemperatura))\n",
    "Estime.setDados(1,(y,uy))"
   ]
  },
  {
   "cell_type": "markdown",
   "metadata": {},
   "source": [
    "Define que os dados experimentais previamente inseridos serão utilizados como um conjunto de dados para o qual os \n",
    "parâmetros serão estimados:"
   ]
  },
  {
   "cell_type": "code",
   "execution_count": 7,
   "metadata": {},
   "outputs": [],
   "source": [
    "Estime.setConjunto()"
   ]
  },
  {
   "cell_type": "markdown",
   "metadata": {},
   "source": [
    "## Otimização\n",
    "\n",
    "\n",
    "Neste exemplo, o usuário tem a opção de escolha do algoritmo a ser utilizado na otimização. \n",
    "Disponiveis: 'ipopt', 'bonmin'. \n",
    "Caso opte por não escolher, será utilizado o algoritmo default: ipopt.\n",
    "\n",
    "Para realizar a otimização é obrigatório informar a estimativa inicial que, neste caso, será [0.03 , 20000.00].\n"
   ]
  },
  {
   "cell_type": "code",
   "execution_count": 8,
   "metadata": {},
   "outputs": [
    {
     "name": "stdout",
     "output_type": "stream",
     "text": [
      "\n",
      "******************************************************************************\n",
      "This program contains Ipopt, a library for large-scale nonlinear optimization.\n",
      " Ipopt is released as open source code under the Eclipse Public License (EPL).\n",
      "         For more information visit http://projects.coin-or.org/Ipopt\n",
      "******************************************************************************\n",
      "\n"
     ]
    }
   ],
   "source": [
    "Estime.optimize(initial_estimative= [18, 20000.000],algoritmo='ipopt')"
   ]
  },
  {
   "cell_type": "markdown",
   "metadata": {},
   "source": [
    "## Incerteza dos parâmetros\n",
    "\n",
    "Como os dados experimentais possuem incerteza, estas devem ser propagadas para os parâmetros.\n",
    "\n",
    "Métodos disponíveis: 2InvHessiana, Geral, SensibilidadeModelo. \n",
    "\n",
    "Para avaliação da região de abrangência dos parâmetros, pelo método da verossimilhança, a opção **preencherregiao**. \n",
    "\n",
    "Por definição o preenchimeto da região de verossimilhança é 'True', caso necessário esta opção pode ser alterada.\n",
    "\n",
    "Caso o usuário **não** tenha interesse em **avaliar a incerteza dos parâmetros**, não execute o método abaixo.\n"
   ]
  },
  {
   "cell_type": "code",
   "execution_count": 9,
   "metadata": {},
   "outputs": [],
   "source": [
    "Estime.incertezaParametros(metodoIncerteza='2InvHessiana',objectiveFunctionMapping=True)"
   ]
  },
  {
   "cell_type": "code",
   "execution_count": 10,
   "metadata": {},
   "outputs": [
    {
     "name": "stderr",
     "output_type": "stream",
     "text": [
      "C:\\Users\\User\\Desktop\\MT_PEU\\MT_PEU.py:2013: UserWarning: Os gráficos envolvendo somente as grandezas calculadas (X e Y) não puderam ser criados, pois o método predicao não foi executado.\n",
      "  warn('Os gráficos envolvendo somente as grandezas calculadas (X e Y) não puderam ser criados, pois o método predicao não foi executado.',UserWarning)\n"
     ]
    },
    {
     "data": {
      "text/plain": [
       "<Figure size 432x288 with 0 Axes>"
      ]
     },
     "metadata": {},
     "output_type": "display_data"
    },
    {
     "data": {
      "image/png": "[encoded data removed]",
      "text/plain": [
       "<Figure size 360x240 with 1 Axes>"
      ]
     },
     "metadata": {
      "needs_background": "light"
     },
     "output_type": "display_data"
    }
   ],
   "source": [
    "Estime.graficos() #Mudanças futuras"
   ]
  },
  {
   "cell_type": "markdown",
   "metadata": {},
   "source": [
    "## Predição de análise de resíduos\n",
    "\n",
    " No método predição, é feita a avaliação da grandeza dependente com base nos parâmetros fornecidos. \n",
    " A covariância é avaliada, e é possível inferir sobre a qualidade do modelo. \n",
    " \n",
    " A análise de resíduos, tras mais informações referents à qualidade do modelo, a exemplo: (i) relação de tendência não inclusa no modelo, (ii) correlações indevidas, etc. Testes estatisticos são utilizados para estas avaliações como: (i) o de homocedasticidade, (ii) $\\chi^2$.\n",
    " A predição e análise de residuos é feita com os dados de validação, quando disponíveis.\n"
   ]
  },
  {
   "cell_type": "code",
   "execution_count": 11,
   "metadata": {},
   "outputs": [
    {
     "name": "stderr",
     "output_type": "stream",
     "text": [
      "C:\\Users\\User\\Anaconda3\\lib\\site-packages\\statsmodels\\stats\\_adnorm.py:66: FutureWarning: Using a non-tuple sequence for multidimensional indexing is deprecated; use `arr[tuple(seq)]` instead of `arr[seq]`. In the future this will be interpreted as an array index, `arr[np.array(seq)]`, which will result either in an error or a different result.\n",
      "  S = np.sum((2*i[sl1]-1.0)/N*(np.log(z)+np.log(1-z[sl2])), axis=axis)\n"
     ]
    }
   ],
   "source": [
    "Estime.predicao()\n",
    "Estime.analiseResiduos()"
   ]
  },
  {
   "cell_type": "markdown",
   "metadata": {},
   "source": [
    "## Gráficos e relatório\n",
    "\n",
    "Nesta etapa ocorre a geração dos dados de saída do programa : relátorios e gráficos. \n",
    "Os gráficos são gerados de acordo com as etapas que foram realizadas. No relátorio contém informações a respeito.\n",
    "dos testes estatisticos, função objetivo, matriz de covariância, status da otimização, dentre outros.\n"
   ]
  },
  {
   "cell_type": "code",
   "execution_count": 12,
   "metadata": {},
   "outputs": [
    {
     "data": {
      "text/plain": [
       "<Figure size 432x288 with 0 Axes>"
      ]
     },
     "metadata": {},
     "output_type": "display_data"
    },
    {
     "data": {
      "text/plain": [
       "<Figure size 360x240 with 0 Axes>"
      ]
     },
     "metadata": {},
     "output_type": "display_data"
    }
   ],
   "source": [
    "#etapas = ['otimizacao','grandezas-entrada', 'predicao','grandezas-calculadas','analiseResiduos', 'regiaoAbrangencia']\n",
    "Estime.graficos()\n",
    "Estime.relatorio()"
   ]
  },
  {
   "cell_type": "markdown",
   "metadata": {},
   "source": [
    "## Referências: \n",
    "\n",
    "[1] SRINIVASAN, R.; LEVI, A. A.. Kinetics of the Thermal Isomerization of Bicyclo [2.1.1 ]hexane. Journal Of The American Chemical Society, [s.l.], v. 85, n. 21, p.3363-3365, 5 nov. 1963. American Chemical Society (ACS)\n",
    "\n",
    "[2] SCHWAAB, M.M.;PINTO, J.C. Análise de Dados Experimentais I: Fundamentos da Estátistica e Estimação de Parâmetros. \n",
    "Rio de Janeiro: e-papers, 2007.\n",
    "\n",
    "INMETRO.: Avaliação de dados de medição — Guia para a expressão de incerteza de medição. Rio de Janeiro: Jcgm, 2008.\n",
    "\n",
    "\n"
   ]
  }
 ],
 "metadata": {
  "kernelspec": {
   "display_name": "Python 3",
   "language": "python",
   "name": "python3"
  },
  "language_info": {
   "codemirror_mode": {
    "name": "ipython",
    "version": 3
   },
   "file_extension": ".py",
   "mimetype": "text/x-python",
   "name": "python",
   "nbconvert_exporter": "python",
   "pygments_lexer": "ipython3",
   "version": "3.7.3"
  },
  "pycharm": {
   "stem_cell": {
    "cell_type": "raw",
    "metadata": {
     "collapsed": false
    },
    "source": []
   }
  }
 },
 "nbformat": 4,
 "nbformat_minor": 2
}
